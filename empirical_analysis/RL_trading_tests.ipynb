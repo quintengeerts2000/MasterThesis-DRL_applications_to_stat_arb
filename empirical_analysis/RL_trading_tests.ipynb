{
 "cells": [
  {
   "cell_type": "code",
   "execution_count": 59,
   "metadata": {},
   "outputs": [
    {
     "name": "stdout",
     "output_type": "stream",
     "text": [
      "Current directory: /Users/quintengeerts/Desktop/master thesis/stat_arb_thesis/empirical_analysis\n"
     ]
    }
   ],
   "source": [
    "import pandas as pd\n",
    "import os\n",
    "import numpy as np\n",
    "print(\"Current directory:\", os.getcwd())\n",
    "import sys\n",
    "sys.path.append('.')\n",
    "from MDQN import M_DQN_Agent\n",
    "import torch\n",
    "from collections import deque\n",
    "from tqdm import tqdm\n",
    "from Trading_Simulator import TradingEnvironment, pca_res_gen, fourier_signal_extractor\n",
    "\n",
    "%reload_ext autoreload\n",
    "%autoreload 2"
   ]
  },
  {
   "cell_type": "code",
   "execution_count": 7,
   "metadata": {},
   "outputs": [],
   "source": [
    "import os\n",
    "filename = 'price_df.csv'\n",
    "if os.path.exists(filename):\n",
    "    price_df = pd.read_csv(filename)\n",
    "    price_df = price_df.rename(columns={'Unnamed: 0':'date'})\n",
    "    price_df.set_index('date', inplace=True)\n",
    "    price_df.index = pd.to_datetime(price_df.index)\n",
    "\n",
    "returns = price_df.diff(1)"
   ]
  },
  {
   "cell_type": "code",
   "execution_count": null,
   "metadata": {},
   "outputs": [],
   "source": [
    "action_to_portfolio = {0:-1, 1:0, 2: 1}\n"
   ]
  },
  {
   "cell_type": "code",
   "execution_count": 67,
   "metadata": {},
   "outputs": [
    {
     "name": "stdout",
     "output_type": "stream",
     "text": [
      "Using  cpu\n"
     ]
    },
    {
     "name": "stderr",
     "output_type": "stream",
     "text": [
      "  2%|▏         | 100/5000 [01:44<1:37:21,  1.19s/it]"
     ]
    },
    {
     "name": "stdout",
     "output_type": "stream",
     "text": [
      " Episode: 0 -- Annualized Return: 1.4% -- Annualized Volatility: 2.81% -- Annualized Sharpe: 0.5\n",
      " Episode: 0 -- Total ann. Return: 1.4% -- Total ann. Volatility: 2.81% -- Total ann. Sharpe: 0.5\n",
      "Episode 1\tFrame 100 \tAverage Score: 0.01"
     ]
    },
    {
     "name": "stderr",
     "output_type": "stream",
     "text": [
      "  4%|▍         | 200/5000 [03:45<1:42:50,  1.29s/it]"
     ]
    },
    {
     "name": "stdout",
     "output_type": "stream",
     "text": [
      " Episode: 1 -- Annualized Return: 11.02% -- Annualized Volatility: 2.51% -- Annualized Sharpe: 4.39\n",
      " Episode: 1 -- Total ann. Return: 6.1% -- Total ann. Volatility: 2.68% -- Total ann. Sharpe: 2.28\n",
      "Episode 2\tFrame 200 \tAverage Score: 0.02"
     ]
    },
    {
     "name": "stderr",
     "output_type": "stream",
     "text": [
      "  6%|▌         | 300/5000 [05:56<1:41:05,  1.29s/it]"
     ]
    },
    {
     "name": "stdout",
     "output_type": "stream",
     "text": [
      " Episode: 2 -- Annualized Return: -5.34% -- Annualized Volatility: 2.92% -- Annualized Sharpe: -1.83\n",
      " Episode: 2 -- Total ann. Return: 2.14% -- Total ann. Volatility: 2.78% -- Total ann. Sharpe: 0.77\n",
      "Episode 3\tFrame 300 \tAverage Score: 0.01"
     ]
    },
    {
     "name": "stderr",
     "output_type": "stream",
     "text": [
      "  8%|▊         | 400/5000 [08:12<1:49:39,  1.43s/it]"
     ]
    },
    {
     "name": "stdout",
     "output_type": "stream",
     "text": [
      " Episode: 3 -- Annualized Return: -0.39% -- Annualized Volatility: 2.84% -- Annualized Sharpe: -0.14\n",
      " Episode: 3 -- Total ann. Return: 1.5% -- Total ann. Volatility: 2.8% -- Total ann. Sharpe: 0.54\n",
      "Episode 4\tFrame 400 \tAverage Score: 0.01"
     ]
    },
    {
     "name": "stderr",
     "output_type": "stream",
     "text": [
      " 10%|█         | 500/5000 [10:37<1:54:53,  1.53s/it]"
     ]
    },
    {
     "name": "stdout",
     "output_type": "stream",
     "text": [
      " Episode: 4 -- Annualized Return: -3.86% -- Annualized Volatility: 2.53% -- Annualized Sharpe: -1.52\n",
      " Episode: 4 -- Total ann. Return: 0.41% -- Total ann. Volatility: 2.75% -- Total ann. Sharpe: 0.15\n",
      "Episode 5\tFrame 500 \tAverage Score: 0.00"
     ]
    },
    {
     "name": "stderr",
     "output_type": "stream",
     "text": [
      " 12%|█▏        | 600/5000 [13:12<1:58:51,  1.62s/it]"
     ]
    },
    {
     "name": "stdout",
     "output_type": "stream",
     "text": [
      " Episode: 5 -- Annualized Return: 10.21% -- Annualized Volatility: 4.67% -- Annualized Sharpe: 2.19\n",
      " Episode: 5 -- Total ann. Return: 1.98% -- Total ann. Volatility: 3.16% -- Total ann. Sharpe: 0.63\n",
      "Episode 6\tFrame 600 \tAverage Score: 0.01"
     ]
    },
    {
     "name": "stderr",
     "output_type": "stream",
     "text": [
      " 14%|█▍        | 700/5000 [15:56<1:58:22,  1.65s/it]"
     ]
    },
    {
     "name": "stdout",
     "output_type": "stream",
     "text": [
      " Episode: 6 -- Annualized Return: -5.73% -- Annualized Volatility: 2.74% -- Annualized Sharpe: -2.09\n",
      " Episode: 6 -- Total ann. Return: 0.84% -- Total ann. Volatility: 3.11% -- Total ann. Sharpe: 0.27\n",
      "Episode 7\tFrame 700 \tAverage Score: 0.00"
     ]
    },
    {
     "name": "stderr",
     "output_type": "stream",
     "text": [
      " 16%|█▌        | 800/5000 [18:59<2:12:15,  1.89s/it]"
     ]
    },
    {
     "name": "stdout",
     "output_type": "stream",
     "text": [
      " Episode: 7 -- Annualized Return: 12.44% -- Annualized Volatility: 2.44% -- Annualized Sharpe: 5.1\n",
      " Episode: 7 -- Total ann. Return: 2.22% -- Total ann. Volatility: 3.04% -- Total ann. Sharpe: 0.73\n",
      "Episode 8\tFrame 800 \tAverage Score: 0.01"
     ]
    },
    {
     "name": "stderr",
     "output_type": "stream",
     "text": [
      " 18%|█▊        | 900/5000 [22:14<2:18:06,  2.02s/it]"
     ]
    },
    {
     "name": "stdout",
     "output_type": "stream",
     "text": [
      " Episode: 8 -- Annualized Return: -0.28% -- Annualized Volatility: 4.01% -- Annualized Sharpe: -0.07\n",
      " Episode: 8 -- Total ann. Return: 1.94% -- Total ann. Volatility: 3.16% -- Total ann. Sharpe: 0.61\n",
      "Episode 9\tFrame 900 \tAverage Score: 0.01"
     ]
    },
    {
     "name": "stderr",
     "output_type": "stream",
     "text": [
      " 20%|██        | 1000/5000 [25:42<2:24:35,  2.17s/it]"
     ]
    },
    {
     "name": "stdout",
     "output_type": "stream",
     "text": [
      " Episode: 9 -- Annualized Return: 5.54% -- Annualized Volatility: 3.49% -- Annualized Sharpe: 1.59\n",
      " Episode: 9 -- Total ann. Return: 2.3% -- Total ann. Volatility: 3.2% -- Total ann. Sharpe: 0.72\n",
      "Episode 10\tFrame 1000 \tAverage Score: 0.01"
     ]
    },
    {
     "name": "stderr",
     "output_type": "stream",
     "text": [
      " 22%|██▏       | 1100/5000 [29:19<2:19:45,  2.15s/it]"
     ]
    },
    {
     "name": "stdout",
     "output_type": "stream",
     "text": [
      " Episode: 10 -- Annualized Return: -1.89% -- Annualized Volatility: 1.64% -- Annualized Sharpe: -1.15\n",
      " Episode: 10 -- Total ann. Return: 1.91% -- Total ann. Volatility: 3.09% -- Total ann. Sharpe: 0.62\n",
      "Episode 11\tFrame 1100 \tAverage Score: 0.01"
     ]
    },
    {
     "name": "stderr",
     "output_type": "stream",
     "text": [
      " 24%|██▍       | 1200/5000 [33:03<2:23:16,  2.26s/it]"
     ]
    },
    {
     "name": "stdout",
     "output_type": "stream",
     "text": [
      " Episode: 11 -- Annualized Return: 3.37% -- Annualized Volatility: 2.05% -- Annualized Sharpe: 1.65\n",
      " Episode: 11 -- Total ann. Return: 2.03% -- Total ann. Volatility: 3.02% -- Total ann. Sharpe: 0.67\n",
      "Episode 12\tFrame 1200 \tAverage Score: 0.01"
     ]
    },
    {
     "name": "stderr",
     "output_type": "stream",
     "text": [
      " 26%|██▌       | 1300/5000 [36:59<2:32:46,  2.48s/it]"
     ]
    },
    {
     "name": "stdout",
     "output_type": "stream",
     "text": [
      " Episode: 12 -- Annualized Return: 3.68% -- Annualized Volatility: 1.84% -- Annualized Sharpe: 2.0\n",
      " Episode: 12 -- Total ann. Return: 2.16% -- Total ann. Volatility: 2.94% -- Total ann. Sharpe: 0.73\n",
      "Episode 13\tFrame 1300 \tAverage Score: 0.01"
     ]
    },
    {
     "name": "stderr",
     "output_type": "stream",
     "text": [
      " 28%|██▊       | 1400/5000 [41:11<2:33:31,  2.56s/it]"
     ]
    },
    {
     "name": "stdout",
     "output_type": "stream",
     "text": [
      " Episode: 13 -- Annualized Return: 11.21% -- Annualized Volatility: 4.31% -- Annualized Sharpe: 2.6\n",
      " Episode: 13 -- Total ann. Return: 2.78% -- Total ann. Volatility: 3.06% -- Total ann. Sharpe: 0.91\n",
      "Episode 14\tFrame 1400 \tAverage Score: 0.01"
     ]
    },
    {
     "name": "stderr",
     "output_type": "stream",
     "text": [
      " 30%|██▉       | 1480/5000 [44:42<2:38:08,  2.70s/it]"
     ]
    }
   ],
   "source": [
    "# PARAMETERS\n",
    "seed = 100\n",
    "#seed = np.random.randint(0,100000)\n",
    "\n",
    "#writer = SummaryWriter(\"runs/\"+\"DQN_LL_new_1\")\n",
    "frames = 5000\n",
    "BUFFER_SIZE = 1000000\n",
    "BATCH_SIZE = 64\n",
    "GAMMA = 0.99\n",
    "TAU = 1e-2\n",
    "eps_frames=5000\n",
    "min_eps=0.025\n",
    "LR = 1e-3\n",
    "UPDATE_EVERY = 1\n",
    "n_step = 1\n",
    "device = torch.device(\"cuda:0\" if torch.cuda.is_available() else \"cpu\")\n",
    "print(\"Using \", device)\n",
    "eps_fixed = False\n",
    "SAVE_MODEL = False\n",
    "file_name = 'N1'\n",
    "\n",
    "# Set seeds\n",
    "#env.seed(seed)\n",
    "#nv.action_space.seed(seed)\n",
    "torch.manual_seed(seed)\n",
    "np.random.seed(seed)\n",
    "\n",
    "# action_size     = env.action_space.n #### going to fix this\n",
    "action_size       = 3\n",
    "#state_size        = env.observation_space.shape\n",
    "state_size        = [59]\n",
    "\n",
    "agent = M_DQN_Agent(state_size=state_size,    \n",
    "                        action_size=action_size,\n",
    "                        layer_size=64,\n",
    "                        BATCH_SIZE=BATCH_SIZE, \n",
    "                        BUFFER_SIZE=BUFFER_SIZE, \n",
    "                        LR=LR, \n",
    "                        TAU=TAU, \n",
    "                        GAMMA=GAMMA, \n",
    "                        UPDATE_EVERY=UPDATE_EVERY, \n",
    "                        device=device, \n",
    "                        seed=seed)\n",
    "\n",
    "##########################\n",
    "action_to_portfolio = {0:-1, 1:0, 2: 1}\n",
    "scores = []                        # list containing scores from each episode\n",
    "scores_window = deque(maxlen=100)  # last 100 scores\n",
    "output_history = []\n",
    "frame = 0\n",
    "if eps_fixed:\n",
    "    eps = 0\n",
    "else:\n",
    "    eps = 1\n",
    "eps_start = 1\n",
    "i_episode = 1\n",
    "\n",
    "env = TradingEnvironment(financial_dataset=price_df.dropna(axis=0, thresh=300),\n",
    "                        residual_generator=pca_res_gen,\n",
    "                        signal_generator=fourier_signal_extractor,\n",
    "                        episode_length=100,\n",
    "                        lookback_window=252,\n",
    "                        signal_window=60,\n",
    "                        transaction_costs=0.0,\n",
    "                        short_cost=0.0)\n",
    "\n",
    "state, _ = env.warm_up()\n",
    "state_vec= state[env.tradeable_tickers].values.T # turns the dataframe for the requested tickers into a ndarray\n",
    "\n",
    "score = 1\n",
    "\n",
    "for frame in tqdm(range(1, frames+1)):\n",
    "    action = agent.act_para(state_vec, eps)\n",
    "    portfolio_allocations = np.vectorize(action_to_portfolio.get)(action) #actions need to be turned into allocations\n",
    "    next_state, reward, done, info = env.step(portfolio_allocations.T)\n",
    "    \n",
    "\n",
    "    for idx, ticker in enumerate(env.old_tradeable_tickers):\n",
    "        if done[ticker].values[0]:\n",
    "            # if the ticker is removed from the tradeable tickers, done = true and new_state is the last one\n",
    "            agent.step(state[ticker].values, action[0,idx], reward[ticker].values[0], state[ticker].values, True)\n",
    "        else:\n",
    "            # if the ticker is not removed from the tradeable tickers, done = false \n",
    "            agent.step(state[ticker].values, action[0,idx], reward[ticker].values[0], next_state[ticker].values, False)\n",
    "    \n",
    "    state     = next_state\n",
    "    state_vec = next_state[env.tradeable_tickers].values.T\n",
    "\n",
    "    score *= (env.p_l + 1)\n",
    "    # linear annealing to the min epsilon value until eps_frames and from there slowly decease epsilon to 0 until the end of training\n",
    "    if eps_fixed == False:\n",
    "        if frame < eps_frames:\n",
    "            eps = max(eps_start - (frame*(1/eps_frames)), min_eps)\n",
    "        else:\n",
    "            eps = max(min_eps - min_eps*((frame-eps_frames)/(frames-eps_frames)), 0.001)\n",
    "    \n",
    "    if frame % env.ep_N == 0:\n",
    "        scores_window.append(score-1)       # save most recent score\n",
    "        scores.append(score-1)              # save most recent score\n",
    "        #writer.add_scalar(\"Average100\", np.mean(scores_window), frame)\n",
    "        output_history.append(np.mean(scores_window))\n",
    "        env.evaluate_performance()\n",
    "        print('\\rEpisode {}\\tFrame {} \\tAverage Score: {:.2f}'.format(i_episode, frame, np.mean(scores_window)), end=\"\")\n",
    "        #if i_episode % 100 == 0:\n",
    "            #print('\\rEpisode {}\\tFrame {}\\tAverage Score: {:.2f}'.format(i_episode,frame, np.mean(scores_window)))\n",
    "        i_episode +=1 \n",
    "        score = 1 "
   ]
  },
  {
   "cell_type": "code",
   "execution_count": 65,
   "metadata": {},
   "outputs": [
    {
     "data": {
      "text/plain": [
       "[0.005547126501087352,\n",
       " 0.023947481263181802,\n",
       " 0.0087867380036832,\n",
       " 0.006203484241557006,\n",
       " 0.001863903434750891,\n",
       " 0.008111305862654794,\n",
       " 0.0036458193807671186,\n",
       " 0.00914485225259061,\n",
       " 0.008006006939638032,\n",
       " 0.009368546316381265]"
      ]
     },
     "execution_count": 65,
     "metadata": {},
     "output_type": "execute_result"
    }
   ],
   "source": [
    "output_history"
   ]
  },
  {
   "cell_type": "code",
   "execution_count": null,
   "metadata": {},
   "outputs": [],
   "source": []
  }
 ],
 "metadata": {
  "kernelspec": {
   "display_name": "deep_learning",
   "language": "python",
   "name": "python3"
  },
  "language_info": {
   "codemirror_mode": {
    "name": "ipython",
    "version": 3
   },
   "file_extension": ".py",
   "mimetype": "text/x-python",
   "name": "python",
   "nbconvert_exporter": "python",
   "pygments_lexer": "ipython3",
   "version": "3.8.15"
  }
 },
 "nbformat": 4,
 "nbformat_minor": 2
}
