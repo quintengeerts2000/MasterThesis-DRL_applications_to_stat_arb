{
 "cells": [
  {
   "cell_type": "code",
   "execution_count": 59,
   "metadata": {},
   "outputs": [
    {
     "name": "stdout",
     "output_type": "stream",
     "text": [
      "Current directory: /Users/quintengeerts/Desktop/master thesis/stat_arb_thesis/empirical_analysis\n"
     ]
    }
   ],
   "source": [
    "import pandas as pd\n",
    "import os\n",
    "import numpy as np\n",
    "print(\"Current directory:\", os.getcwd())\n",
    "import sys\n",
    "sys.path.append('.')\n",
    "from MDQN import M_DQN_Agent\n",
    "import torch\n",
    "from collections import deque\n",
    "from tqdm import tqdm\n",
    "from Trading_Simulator import TradingEnvironment, pca_res_gen, fourier_signal_extractor\n",
    "\n",
    "%reload_ext autoreload\n",
    "%autoreload 2"
   ]
  },
  {
   "cell_type": "code",
   "execution_count": 7,
   "metadata": {},
   "outputs": [],
   "source": [
    "import os\n",
    "filename = 'price_df.csv'\n",
    "if os.path.exists(filename):\n",
    "    price_df = pd.read_csv(filename)\n",
    "    price_df = price_df.rename(columns={'Unnamed: 0':'date'})\n",
    "    price_df.set_index('date', inplace=True)\n",
    "    price_df.index = pd.to_datetime(price_df.index)\n",
    "\n",
    "returns = price_df.diff(1)"
   ]
  },
  {
   "cell_type": "code",
   "execution_count": null,
   "metadata": {},
   "outputs": [],
   "source": [
    "action_to_portfolio = {0:-1, 1:0, 2: 1}\n"
   ]
  },
  {
   "cell_type": "code",
   "execution_count": 67,
   "metadata": {},
   "outputs": [
    {
     "name": "stdout",
     "output_type": "stream",
     "text": [
      "Using  cpu\n"
     ]
    },
    {
     "name": "stderr",
     "output_type": "stream",
     "text": [
      "  2%|▏         | 100/5000 [01:44<1:37:21,  1.19s/it]"
     ]
    },
    {
     "name": "stdout",
     "output_type": "stream",
     "text": [
      " Episode: 0 -- Annualized Return: 1.4% -- Annualized Volatility: 2.81% -- Annualized Sharpe: 0.5\n",
      " Episode: 0 -- Total ann. Return: 1.4% -- Total ann. Volatility: 2.81% -- Total ann. Sharpe: 0.5\n",
      "Episode 1\tFrame 100 \tAverage Score: 0.01"
     ]
    },
    {
     "name": "stderr",
     "output_type": "stream",
     "text": [
      "  4%|▍         | 200/5000 [03:45<1:42:50,  1.29s/it]"
     ]
    },
    {
     "name": "stdout",
     "output_type": "stream",
     "text": [
      " Episode: 1 -- Annualized Return: 11.02% -- Annualized Volatility: 2.51% -- Annualized Sharpe: 4.39\n",
      " Episode: 1 -- Total ann. Return: 6.1% -- Total ann. Volatility: 2.68% -- Total ann. Sharpe: 2.28\n",
      "Episode 2\tFrame 200 \tAverage Score: 0.02"
     ]
    },
    {
     "name": "stderr",
     "output_type": "stream",
     "text": [
      "  6%|▌         | 300/5000 [05:56<1:41:05,  1.29s/it]"
     ]
    },
    {
     "name": "stdout",
     "output_type": "stream",
     "text": [
      " Episode: 2 -- Annualized Return: -5.34% -- Annualized Volatility: 2.92% -- Annualized Sharpe: -1.83\n",
      " Episode: 2 -- Total ann. Return: 2.14% -- Total ann. Volatility: 2.78% -- Total ann. Sharpe: 0.77\n",
      "Episode 3\tFrame 300 \tAverage Score: 0.01"
     ]
    },
    {
     "name": "stderr",
     "output_type": "stream",
     "text": [
      "  8%|▊         | 400/5000 [08:12<1:49:39,  1.43s/it]"
     ]
    },
    {
     "name": "stdout",
     "output_type": "stream",
     "text": [
      " Episode: 3 -- Annualized Return: -0.39% -- Annualized Volatility: 2.84% -- Annualized Sharpe: -0.14\n",
      " Episode: 3 -- Total ann. Return: 1.5% -- Total ann. Volatility: 2.8% -- Total ann. Sharpe: 0.54\n",
      "Episode 4\tFrame 400 \tAverage Score: 0.01"
     ]
    },
    {
     "name": "stderr",
     "output_type": "stream",
     "text": [
      " 10%|█         | 500/5000 [10:37<1:54:53,  1.53s/it]"
     ]
    },
    {
     "name": "stdout",
     "output_type": "stream",
     "text": [
      " Episode: 4 -- Annualized Return: -3.86% -- Annualized Volatility: 2.53% -- Annualized Sharpe: -1.52\n",
      " Episode: 4 -- Total ann. Return: 0.41% -- Total ann. Volatility: 2.75% -- Total ann. Sharpe: 0.15\n",
      "Episode 5\tFrame 500 \tAverage Score: 0.00"
     ]
    },
    {
     "name": "stderr",
     "output_type": "stream",
     "text": [
      " 12%|█▏        | 600/5000 [13:12<1:58:51,  1.62s/it]"
     ]
    },
    {
     "name": "stdout",
     "output_type": "stream",
     "text": [
      " Episode: 5 -- Annualized Return: 10.21% -- Annualized Volatility: 4.67% -- Annualized Sharpe: 2.19\n",
      " Episode: 5 -- Total ann. Return: 1.98% -- Total ann. Volatility: 3.16% -- Total ann. Sharpe: 0.63\n",
      "Episode 6\tFrame 600 \tAverage Score: 0.01"
     ]
    },
    {
     "name": "stderr",
     "output_type": "stream",
     "text": [
      " 14%|█▍        | 700/5000 [15:56<1:58:22,  1.65s/it]"
     ]
    },
    {
     "name": "stdout",
     "output_type": "stream",
     "text": [
      " Episode: 6 -- Annualized Return: -5.73% -- Annualized Volatility: 2.74% -- Annualized Sharpe: -2.09\n",
      " Episode: 6 -- Total ann. Return: 0.84% -- Total ann. Volatility: 3.11% -- Total ann. Sharpe: 0.27\n",
      "Episode 7\tFrame 700 \tAverage Score: 0.00"
     ]
    },
    {
     "name": "stderr",
     "output_type": "stream",
     "text": [
      " 16%|█▌        | 800/5000 [18:59<2:12:15,  1.89s/it]"
     ]
    },
    {
     "name": "stdout",
     "output_type": "stream",
     "text": [
      " Episode: 7 -- Annualized Return: 12.44% -- Annualized Volatility: 2.44% -- Annualized Sharpe: 5.1\n",
      " Episode: 7 -- Total ann. Return: 2.22% -- Total ann. Volatility: 3.04% -- Total ann. Sharpe: 0.73\n",
      "Episode 8\tFrame 800 \tAverage Score: 0.01"
     ]
    },
    {
     "name": "stderr",
     "output_type": "stream",
     "text": [
      " 18%|█▊        | 900/5000 [22:14<2:18:06,  2.02s/it]"
     ]
    },
    {
     "name": "stdout",
     "output_type": "stream",
     "text": [
      " Episode: 8 -- Annualized Return: -0.28% -- Annualized Volatility: 4.01% -- Annualized Sharpe: -0.07\n",
      " Episode: 8 -- Total ann. Return: 1.94% -- Total ann. Volatility: 3.16% -- Total ann. Sharpe: 0.61\n",
      "Episode 9\tFrame 900 \tAverage Score: 0.01"
     ]
    },
    {
     "name": "stderr",
     "output_type": "stream",
     "text": [
      " 20%|██        | 1000/5000 [25:42<2:24:35,  2.17s/it]"
     ]
    },
    {
     "name": "stdout",
     "output_type": "stream",
     "text": [
      " Episode: 9 -- Annualized Return: 5.54% -- Annualized Volatility: 3.49% -- Annualized Sharpe: 1.59\n",
      " Episode: 9 -- Total ann. Return: 2.3% -- Total ann. Volatility: 3.2% -- Total ann. Sharpe: 0.72\n",
      "Episode 10\tFrame 1000 \tAverage Score: 0.01"
     ]
    },
    {
     "name": "stderr",
     "output_type": "stream",
     "text": [
      " 22%|██▏       | 1100/5000 [29:19<2:19:45,  2.15s/it]"
     ]
    },
    {
     "name": "stdout",
     "output_type": "stream",
     "text": [
      " Episode: 10 -- Annualized Return: -1.89% -- Annualized Volatility: 1.64% -- Annualized Sharpe: -1.15\n",
      " Episode: 10 -- Total ann. Return: 1.91% -- Total ann. Volatility: 3.09% -- Total ann. Sharpe: 0.62\n",
      "Episode 11\tFrame 1100 \tAverage Score: 0.01"
     ]
    },
    {
     "name": "stderr",
     "output_type": "stream",
     "text": [
      " 24%|██▍       | 1200/5000 [33:03<2:23:16,  2.26s/it]"
     ]
    },
    {
     "name": "stdout",
     "output_type": "stream",
     "text": [
      " Episode: 11 -- Annualized Return: 3.37% -- Annualized Volatility: 2.05% -- Annualized Sharpe: 1.65\n",
      " Episode: 11 -- Total ann. Return: 2.03% -- Total ann. Volatility: 3.02% -- Total ann. Sharpe: 0.67\n",
      "Episode 12\tFrame 1200 \tAverage Score: 0.01"
     ]
    },
    {
     "name": "stderr",
     "output_type": "stream",
     "text": [
      " 26%|██▌       | 1300/5000 [36:59<2:32:46,  2.48s/it]"
     ]
    },
    {
     "name": "stdout",
     "output_type": "stream",
     "text": [
      " Episode: 12 -- Annualized Return: 3.68% -- Annualized Volatility: 1.84% -- Annualized Sharpe: 2.0\n",
      " Episode: 12 -- Total ann. Return: 2.16% -- Total ann. Volatility: 2.94% -- Total ann. Sharpe: 0.73\n",
      "Episode 13\tFrame 1300 \tAverage Score: 0.01"
     ]
    },
    {
     "name": "stderr",
     "output_type": "stream",
     "text": [
      " 28%|██▊       | 1400/5000 [41:11<2:33:31,  2.56s/it]"
     ]
    },
    {
     "name": "stdout",
     "output_type": "stream",
     "text": [
      " Episode: 13 -- Annualized Return: 11.21% -- Annualized Volatility: 4.31% -- Annualized Sharpe: 2.6\n",
      " Episode: 13 -- Total ann. Return: 2.78% -- Total ann. Volatility: 3.06% -- Total ann. Sharpe: 0.91\n",
      "Episode 14\tFrame 1400 \tAverage Score: 0.01"
     ]
    },
    {
     "name": "stderr",
     "output_type": "stream",
     "text": [
      " 30%|███       | 1500/5000 [45:45<2:44:21,  2.82s/it]"
     ]
    },
    {
     "name": "stdout",
     "output_type": "stream",
     "text": [
      " Episode: 14 -- Annualized Return: 3.46% -- Annualized Volatility: 1.95% -- Annualized Sharpe: 1.78\n",
      " Episode: 14 -- Total ann. Return: 2.82% -- Total ann. Volatility: 3.0% -- Total ann. Sharpe: 0.94\n",
      "Episode 15\tFrame 1500 \tAverage Score: 0.01"
     ]
    },
    {
     "name": "stderr",
     "output_type": "stream",
     "text": [
      " 32%|███▏      | 1600/5000 [50:40<2:47:04,  2.95s/it]"
     ]
    },
    {
     "name": "stdout",
     "output_type": "stream",
     "text": [
      " Episode: 15 -- Annualized Return: 0.5% -- Annualized Volatility: 1.66% -- Annualized Sharpe: 0.3\n",
      " Episode: 15 -- Total ann. Return: 2.68% -- Total ann. Volatility: 2.94% -- Total ann. Sharpe: 0.91\n",
      "Episode 16\tFrame 1600 \tAverage Score: 0.01"
     ]
    },
    {
     "name": "stderr",
     "output_type": "stream",
     "text": [
      " 34%|███▍      | 1700/5000 [55:49<2:51:01,  3.11s/it]"
     ]
    },
    {
     "name": "stdout",
     "output_type": "stream",
     "text": [
      " Episode: 16 -- Annualized Return: -0.48% -- Annualized Volatility: 1.75% -- Annualized Sharpe: -0.27\n",
      " Episode: 16 -- Total ann. Return: 2.49% -- Total ann. Volatility: 2.88% -- Total ann. Sharpe: 0.86\n",
      "Episode 17\tFrame 1700 \tAverage Score: 0.01"
     ]
    },
    {
     "name": "stderr",
     "output_type": "stream",
     "text": [
      " 36%|███▌      | 1800/5000 [1:01:06<2:53:06,  3.25s/it]"
     ]
    },
    {
     "name": "stdout",
     "output_type": "stream",
     "text": [
      " Episode: 17 -- Annualized Return: -1.96% -- Annualized Volatility: 1.75% -- Annualized Sharpe: -1.12\n",
      " Episode: 17 -- Total ann. Return: 2.24% -- Total ann. Volatility: 2.83% -- Total ann. Sharpe: 0.79\n",
      "Episode 18\tFrame 1800 \tAverage Score: 0.01"
     ]
    },
    {
     "name": "stderr",
     "output_type": "stream",
     "text": [
      " 38%|███▊      | 1900/5000 [1:06:32<2:45:46,  3.21s/it]"
     ]
    },
    {
     "name": "stdout",
     "output_type": "stream",
     "text": [
      " Episode: 18 -- Annualized Return: -1.69% -- Annualized Volatility: 1.47% -- Annualized Sharpe: -1.15\n",
      " Episode: 18 -- Total ann. Return: 2.03% -- Total ann. Volatility: 2.78% -- Total ann. Sharpe: 0.73\n",
      "Episode 19\tFrame 1900 \tAverage Score: 0.01"
     ]
    },
    {
     "name": "stderr",
     "output_type": "stream",
     "text": [
      " 40%|████      | 2000/5000 [1:12:13<2:51:20,  3.43s/it]"
     ]
    },
    {
     "name": "stdout",
     "output_type": "stream",
     "text": [
      " Episode: 19 -- Annualized Return: -1.74% -- Annualized Volatility: 1.23% -- Annualized Sharpe: -1.41\n",
      " Episode: 19 -- Total ann. Return: 1.83% -- Total ann. Volatility: 2.72% -- Total ann. Sharpe: 0.67\n",
      "Episode 20\tFrame 2000 \tAverage Score: 0.01"
     ]
    },
    {
     "name": "stderr",
     "output_type": "stream",
     "text": [
      " 42%|████▏     | 2100/5000 [1:18:13<2:57:58,  3.68s/it]"
     ]
    },
    {
     "name": "stdout",
     "output_type": "stream",
     "text": [
      " Episode: 20 -- Annualized Return: 0.64% -- Annualized Volatility: 2.04% -- Annualized Sharpe: 0.32\n",
      " Episode: 20 -- Total ann. Return: 1.78% -- Total ann. Volatility: 2.69% -- Total ann. Sharpe: 0.66\n",
      "Episode 21\tFrame 2100 \tAverage Score: 0.01"
     ]
    },
    {
     "name": "stderr",
     "output_type": "stream",
     "text": [
      " 44%|████▍     | 2200/5000 [1:24:20<2:48:39,  3.61s/it]"
     ]
    },
    {
     "name": "stdout",
     "output_type": "stream",
     "text": [
      " Episode: 21 -- Annualized Return: 0.58% -- Annualized Volatility: 3.48% -- Annualized Sharpe: 0.17\n",
      " Episode: 21 -- Total ann. Return: 1.72% -- Total ann. Volatility: 2.73% -- Total ann. Sharpe: 0.63\n",
      "Episode 22\tFrame 2200 \tAverage Score: 0.01"
     ]
    },
    {
     "name": "stderr",
     "output_type": "stream",
     "text": [
      " 46%|████▌     | 2300/5000 [1:30:46<2:56:22,  3.92s/it]"
     ]
    },
    {
     "name": "stdout",
     "output_type": "stream",
     "text": [
      " Episode: 22 -- Annualized Return: 1.98% -- Annualized Volatility: 3.06% -- Annualized Sharpe: 0.65\n",
      " Episode: 22 -- Total ann. Return: 1.73% -- Total ann. Volatility: 2.75% -- Total ann. Sharpe: 0.63\n",
      "Episode 23\tFrame 2300 \tAverage Score: 0.01"
     ]
    },
    {
     "name": "stderr",
     "output_type": "stream",
     "text": [
      " 48%|████▊     | 2400/5000 [1:37:42<3:31:01,  4.87s/it]"
     ]
    },
    {
     "name": "stdout",
     "output_type": "stream",
     "text": [
      " Episode: 23 -- Annualized Return: -2.27% -- Annualized Volatility: 4.44% -- Annualized Sharpe: -0.51\n",
      " Episode: 23 -- Total ann. Return: 1.56% -- Total ann. Volatility: 2.84% -- Total ann. Sharpe: 0.55\n",
      "Episode 24\tFrame 2400 \tAverage Score: 0.01"
     ]
    },
    {
     "name": "stderr",
     "output_type": "stream",
     "text": [
      " 50%|█████     | 2500/5000 [1:44:50<2:57:57,  4.27s/it]"
     ]
    },
    {
     "name": "stdout",
     "output_type": "stream",
     "text": [
      " Episode: 24 -- Annualized Return: -8.07% -- Annualized Volatility: 4.68% -- Annualized Sharpe: -1.72\n",
      " Episode: 24 -- Total ann. Return: 1.16% -- Total ann. Volatility: 2.94% -- Total ann. Sharpe: 0.39\n",
      "Episode 25\tFrame 2500 \tAverage Score: 0.00"
     ]
    },
    {
     "name": "stderr",
     "output_type": "stream",
     "text": [
      " 52%|█████▏    | 2600/5000 [1:52:10<2:52:31,  4.31s/it]"
     ]
    },
    {
     "name": "stdout",
     "output_type": "stream",
     "text": [
      " Episode: 25 -- Annualized Return: 2.05% -- Annualized Volatility: 4.06% -- Annualized Sharpe: 0.5\n",
      " Episode: 25 -- Total ann. Return: 1.19% -- Total ann. Volatility: 2.99% -- Total ann. Sharpe: 0.4\n",
      "Episode 26\tFrame 2600 \tAverage Score: 0.00"
     ]
    },
    {
     "name": "stderr",
     "output_type": "stream",
     "text": [
      " 54%|█████▍    | 2700/5000 [1:59:45<3:16:02,  5.11s/it]"
     ]
    },
    {
     "name": "stdout",
     "output_type": "stream",
     "text": [
      " Episode: 26 -- Annualized Return: 3.3% -- Annualized Volatility: 2.6% -- Annualized Sharpe: 1.27\n",
      " Episode: 26 -- Total ann. Return: 1.27% -- Total ann. Volatility: 2.98% -- Total ann. Sharpe: 0.43\n",
      "Episode 27\tFrame 2700 \tAverage Score: 0.01"
     ]
    },
    {
     "name": "stderr",
     "output_type": "stream",
     "text": [
      " 56%|█████▌    | 2800/5000 [2:07:32<2:46:46,  4.55s/it]"
     ]
    },
    {
     "name": "stdout",
     "output_type": "stream",
     "text": [
      " Episode: 27 -- Annualized Return: -1.74% -- Annualized Volatility: 1.83% -- Annualized Sharpe: -0.95\n",
      " Episode: 27 -- Total ann. Return: 1.16% -- Total ann. Volatility: 2.94% -- Total ann. Sharpe: 0.39\n",
      "Episode 28\tFrame 2800 \tAverage Score: 0.00"
     ]
    },
    {
     "name": "stderr",
     "output_type": "stream",
     "text": [
      " 58%|█████▊    | 2900/5000 [2:15:32<2:53:38,  4.96s/it]"
     ]
    },
    {
     "name": "stdout",
     "output_type": "stream",
     "text": [
      " Episode: 28 -- Annualized Return: -2.78% -- Annualized Volatility: 1.86% -- Annualized Sharpe: -1.49\n",
      " Episode: 28 -- Total ann. Return: 1.02% -- Total ann. Volatility: 2.91% -- Total ann. Sharpe: 0.35\n",
      "Episode 29\tFrame 2900 \tAverage Score: 0.00"
     ]
    },
    {
     "name": "stderr",
     "output_type": "stream",
     "text": [
      " 60%|██████    | 3000/5000 [2:23:36<2:51:09,  5.13s/it]"
     ]
    },
    {
     "name": "stdout",
     "output_type": "stream",
     "text": [
      " Episode: 29 -- Annualized Return: -0.05% -- Annualized Volatility: 1.9% -- Annualized Sharpe: -0.03\n",
      " Episode: 29 -- Total ann. Return: 0.99% -- Total ann. Volatility: 2.89% -- Total ann. Sharpe: 0.34\n",
      "Episode 30\tFrame 3000 \tAverage Score: 0.00"
     ]
    },
    {
     "name": "stderr",
     "output_type": "stream",
     "text": [
      " 62%|██████▏   | 3100/5000 [2:31:43<2:32:19,  4.81s/it]"
     ]
    },
    {
     "name": "stdout",
     "output_type": "stream",
     "text": [
      " Episode: 30 -- Annualized Return: -2.68% -- Annualized Volatility: 2.41% -- Annualized Sharpe: -1.11\n",
      " Episode: 30 -- Total ann. Return: 0.87% -- Total ann. Volatility: 2.87% -- Total ann. Sharpe: 0.3\n",
      "Episode 31\tFrame 3100 \tAverage Score: 0.00"
     ]
    },
    {
     "name": "stderr",
     "output_type": "stream",
     "text": [
      " 64%|██████▍   | 3200/5000 [2:39:52<2:30:26,  5.01s/it]"
     ]
    },
    {
     "name": "stdout",
     "output_type": "stream",
     "text": [
      " Episode: 31 -- Annualized Return: -1.76% -- Annualized Volatility: 2.02% -- Annualized Sharpe: -0.87\n",
      " Episode: 31 -- Total ann. Return: 0.78% -- Total ann. Volatility: 2.85% -- Total ann. Sharpe: 0.28\n",
      "Episode 32\tFrame 3200 \tAverage Score: 0.00"
     ]
    },
    {
     "name": "stderr",
     "output_type": "stream",
     "text": [
      " 66%|██████▌   | 3300/5000 [2:47:59<2:24:54,  5.11s/it]"
     ]
    },
    {
     "name": "stdout",
     "output_type": "stream",
     "text": [
      " Episode: 32 -- Annualized Return: 0.04% -- Annualized Volatility: 2.22% -- Annualized Sharpe: 0.02\n",
      " Episode: 32 -- Total ann. Return: 0.76% -- Total ann. Volatility: 2.83% -- Total ann. Sharpe: 0.27\n",
      "Episode 33\tFrame 3300 \tAverage Score: 0.00"
     ]
    },
    {
     "name": "stderr",
     "output_type": "stream",
     "text": [
      " 68%|██████▊   | 3400/5000 [2:56:30<2:58:27,  6.69s/it]"
     ]
    },
    {
     "name": "stdout",
     "output_type": "stream",
     "text": [
      " Episode: 33 -- Annualized Return: 4.3% -- Annualized Volatility: 2.21% -- Annualized Sharpe: 1.94\n",
      " Episode: 33 -- Total ann. Return: 0.86% -- Total ann. Volatility: 2.82% -- Total ann. Sharpe: 0.31\n",
      "Episode 34\tFrame 3400 \tAverage Score: 0.00"
     ]
    },
    {
     "name": "stderr",
     "output_type": "stream",
     "text": [
      " 70%|███████   | 3500/5000 [3:05:12<2:03:44,  4.95s/it]"
     ]
    },
    {
     "name": "stdout",
     "output_type": "stream",
     "text": [
      " Episode: 34 -- Annualized Return: -1.38% -- Annualized Volatility: 1.7% -- Annualized Sharpe: -0.81\n",
      " Episode: 34 -- Total ann. Return: 0.8% -- Total ann. Volatility: 2.79% -- Total ann. Sharpe: 0.29\n",
      "Episode 35\tFrame 3500 \tAverage Score: 0.00"
     ]
    },
    {
     "name": "stderr",
     "output_type": "stream",
     "text": [
      " 72%|███████▏  | 3600/5000 [3:13:14<1:53:58,  4.88s/it]"
     ]
    },
    {
     "name": "stdout",
     "output_type": "stream",
     "text": [
      " Episode: 35 -- Annualized Return: -3.01% -- Annualized Volatility: 2.22% -- Annualized Sharpe: -1.36\n",
      " Episode: 35 -- Total ann. Return: 0.69% -- Total ann. Volatility: 2.78% -- Total ann. Sharpe: 0.25\n",
      "Episode 36\tFrame 3600 \tAverage Score: 0.00"
     ]
    },
    {
     "name": "stderr",
     "output_type": "stream",
     "text": [
      " 74%|███████▍  | 3700/5000 [3:21:32<1:41:52,  4.70s/it]"
     ]
    },
    {
     "name": "stdout",
     "output_type": "stream",
     "text": [
      " Episode: 36 -- Annualized Return: 4.06% -- Annualized Volatility: 1.99% -- Annualized Sharpe: 2.04\n",
      " Episode: 36 -- Total ann. Return: 0.78% -- Total ann. Volatility: 2.76% -- Total ann. Sharpe: 0.28\n",
      "Episode 37\tFrame 3700 \tAverage Score: 0.00"
     ]
    },
    {
     "name": "stderr",
     "output_type": "stream",
     "text": [
      " 76%|███████▌  | 3800/5000 [3:29:35<1:33:33,  4.68s/it]"
     ]
    },
    {
     "name": "stdout",
     "output_type": "stream",
     "text": [
      " Episode: 37 -- Annualized Return: 4.07% -- Annualized Volatility: 1.65% -- Annualized Sharpe: 2.46\n",
      " Episode: 37 -- Total ann. Return: 0.87% -- Total ann. Volatility: 2.73% -- Total ann. Sharpe: 0.32\n",
      "Episode 38\tFrame 3800 \tAverage Score: 0.00"
     ]
    },
    {
     "name": "stderr",
     "output_type": "stream",
     "text": [
      " 78%|███████▊  | 3900/5000 [3:37:35<1:26:42,  4.73s/it]"
     ]
    },
    {
     "name": "stdout",
     "output_type": "stream",
     "text": [
      " Episode: 38 -- Annualized Return: -0.85% -- Annualized Volatility: 1.52% -- Annualized Sharpe: -0.56\n",
      " Episode: 38 -- Total ann. Return: 0.82% -- Total ann. Volatility: 2.71% -- Total ann. Sharpe: 0.3\n",
      "Episode 39\tFrame 3900 \tAverage Score: 0.00"
     ]
    },
    {
     "name": "stderr",
     "output_type": "stream",
     "text": [
      " 80%|████████  | 4000/5000 [3:45:54<1:22:54,  4.97s/it]"
     ]
    },
    {
     "name": "stdout",
     "output_type": "stream",
     "text": [
      " Episode: 39 -- Annualized Return: 0.01% -- Annualized Volatility: 1.5% -- Annualized Sharpe: 0.01\n",
      " Episode: 39 -- Total ann. Return: 0.8% -- Total ann. Volatility: 2.69% -- Total ann. Sharpe: 0.3\n",
      "Episode 40\tFrame 4000 \tAverage Score: 0.00"
     ]
    },
    {
     "name": "stderr",
     "output_type": "stream",
     "text": [
      " 82%|████████▏ | 4100/5000 [3:54:11<1:21:52,  5.46s/it]"
     ]
    },
    {
     "name": "stdout",
     "output_type": "stream",
     "text": [
      " Episode: 40 -- Annualized Return: -4.02% -- Annualized Volatility: 1.68% -- Annualized Sharpe: -2.39\n",
      " Episode: 40 -- Total ann. Return: 0.68% -- Total ann. Volatility: 2.67% -- Total ann. Sharpe: 0.26\n",
      "Episode 41\tFrame 4100 \tAverage Score: 0.00"
     ]
    },
    {
     "name": "stderr",
     "output_type": "stream",
     "text": [
      " 84%|████████▍ | 4200/5000 [4:02:29<1:03:50,  4.79s/it]"
     ]
    },
    {
     "name": "stdout",
     "output_type": "stream",
     "text": [
      " Episode: 41 -- Annualized Return: -0.33% -- Annualized Volatility: 2.2% -- Annualized Sharpe: -0.15\n",
      " Episode: 41 -- Total ann. Return: 0.66% -- Total ann. Volatility: 2.66% -- Total ann. Sharpe: 0.25\n",
      "Episode 42\tFrame 4200 \tAverage Score: 0.00"
     ]
    },
    {
     "name": "stderr",
     "output_type": "stream",
     "text": [
      " 86%|████████▌ | 4300/5000 [4:10:42<56:43,  4.86s/it]  "
     ]
    },
    {
     "name": "stdout",
     "output_type": "stream",
     "text": [
      " Episode: 42 -- Annualized Return: 5.61% -- Annualized Volatility: 2.26% -- Annualized Sharpe: 2.48\n",
      " Episode: 42 -- Total ann. Return: 0.77% -- Total ann. Volatility: 2.65% -- Total ann. Sharpe: 0.29\n",
      "Episode 43\tFrame 4300 \tAverage Score: 0.00"
     ]
    },
    {
     "name": "stderr",
     "output_type": "stream",
     "text": [
      " 88%|████████▊ | 4400/5000 [4:18:50<50:05,  5.01s/it]"
     ]
    },
    {
     "name": "stdout",
     "output_type": "stream",
     "text": [
      " Episode: 43 -- Annualized Return: 1.45% -- Annualized Volatility: 1.68% -- Annualized Sharpe: 0.86\n",
      " Episode: 43 -- Total ann. Return: 0.78% -- Total ann. Volatility: 2.63% -- Total ann. Sharpe: 0.3\n",
      "Episode 44\tFrame 4400 \tAverage Score: 0.00"
     ]
    },
    {
     "name": "stderr",
     "output_type": "stream",
     "text": [
      " 90%|█████████ | 4500/5000 [4:27:02<38:10,  4.58s/it]"
     ]
    },
    {
     "name": "stdout",
     "output_type": "stream",
     "text": [
      " Episode: 44 -- Annualized Return: -1.46% -- Annualized Volatility: 1.91% -- Annualized Sharpe: -0.76\n",
      " Episode: 44 -- Total ann. Return: 0.73% -- Total ann. Volatility: 2.62% -- Total ann. Sharpe: 0.28\n",
      "Episode 45\tFrame 4500 \tAverage Score: 0.00"
     ]
    },
    {
     "name": "stderr",
     "output_type": "stream",
     "text": [
      " 92%|█████████▏| 4600/5000 [4:34:46<31:11,  4.68s/it]"
     ]
    },
    {
     "name": "stdout",
     "output_type": "stream",
     "text": [
      " Episode: 45 -- Annualized Return: 3.0% -- Annualized Volatility: 1.79% -- Annualized Sharpe: 1.68\n",
      " Episode: 45 -- Total ann. Return: 0.78% -- Total ann. Volatility: 2.6% -- Total ann. Sharpe: 0.3\n",
      "Episode 46\tFrame 4600 \tAverage Score: 0.00"
     ]
    },
    {
     "name": "stderr",
     "output_type": "stream",
     "text": [
      " 94%|█████████▍| 4700/5000 [4:42:49<24:26,  4.89s/it]"
     ]
    },
    {
     "name": "stdout",
     "output_type": "stream",
     "text": [
      " Episode: 46 -- Annualized Return: -2.01% -- Annualized Volatility: 2.01% -- Annualized Sharpe: -1.0\n",
      " Episode: 46 -- Total ann. Return: 0.72% -- Total ann. Volatility: 2.59% -- Total ann. Sharpe: 0.28\n",
      "Episode 47\tFrame 4700 \tAverage Score: 0.00"
     ]
    },
    {
     "name": "stderr",
     "output_type": "stream",
     "text": [
      " 96%|█████████▌| 4800/5000 [4:50:47<15:50,  4.75s/it]"
     ]
    },
    {
     "name": "stdout",
     "output_type": "stream",
     "text": [
      " Episode: 47 -- Annualized Return: 0.89% -- Annualized Volatility: 1.85% -- Annualized Sharpe: 0.48\n",
      " Episode: 47 -- Total ann. Return: 0.73% -- Total ann. Volatility: 2.58% -- Total ann. Sharpe: 0.28\n",
      "Episode 48\tFrame 4800 \tAverage Score: 0.00"
     ]
    },
    {
     "name": "stderr",
     "output_type": "stream",
     "text": [
      " 98%|█████████▊| 4900/5000 [4:58:55<08:01,  4.82s/it]"
     ]
    },
    {
     "name": "stdout",
     "output_type": "stream",
     "text": [
      " Episode: 48 -- Annualized Return: 1.16% -- Annualized Volatility: 2.05% -- Annualized Sharpe: 0.57\n",
      " Episode: 48 -- Total ann. Return: 0.73% -- Total ann. Volatility: 2.57% -- Total ann. Sharpe: 0.29\n",
      "Episode 49\tFrame 4900 \tAverage Score: 0.00"
     ]
    },
    {
     "name": "stderr",
     "output_type": "stream",
     "text": [
      "100%|█████████▉| 4999/5000 [5:07:07<00:03,  3.69s/it]\n"
     ]
    },
    {
     "ename": "ZeroDivisionError",
     "evalue": "division by zero",
     "output_type": "error",
     "traceback": [
      "\u001b[0;31m---------------------------------------------------------------------------\u001b[0m",
      "\u001b[0;31mZeroDivisionError\u001b[0m                         Traceback (most recent call last)",
      "Cell \u001b[0;32mIn[67], line 95\u001b[0m\n\u001b[1;32m     93\u001b[0m         eps \u001b[38;5;241m=\u001b[39m \u001b[38;5;28mmax\u001b[39m(eps_start \u001b[38;5;241m-\u001b[39m (frame\u001b[38;5;241m*\u001b[39m(\u001b[38;5;241m1\u001b[39m\u001b[38;5;241m/\u001b[39meps_frames)), min_eps)\n\u001b[1;32m     94\u001b[0m     \u001b[38;5;28;01melse\u001b[39;00m:\n\u001b[0;32m---> 95\u001b[0m         eps \u001b[38;5;241m=\u001b[39m \u001b[38;5;28mmax\u001b[39m(min_eps \u001b[38;5;241m-\u001b[39m min_eps\u001b[38;5;241m*\u001b[39m(\u001b[43m(\u001b[49m\u001b[43mframe\u001b[49m\u001b[38;5;241;43m-\u001b[39;49m\u001b[43meps_frames\u001b[49m\u001b[43m)\u001b[49m\u001b[38;5;241;43m/\u001b[39;49m\u001b[43m(\u001b[49m\u001b[43mframes\u001b[49m\u001b[38;5;241;43m-\u001b[39;49m\u001b[43meps_frames\u001b[49m\u001b[43m)\u001b[49m), \u001b[38;5;241m0.001\u001b[39m)\n\u001b[1;32m     97\u001b[0m \u001b[38;5;28;01mif\u001b[39;00m frame \u001b[38;5;241m%\u001b[39m env\u001b[38;5;241m.\u001b[39mep_N \u001b[38;5;241m==\u001b[39m \u001b[38;5;241m0\u001b[39m:\n\u001b[1;32m     98\u001b[0m     scores_window\u001b[38;5;241m.\u001b[39mappend(score\u001b[38;5;241m-\u001b[39m\u001b[38;5;241m1\u001b[39m)       \u001b[38;5;66;03m# save most recent score\u001b[39;00m\n",
      "\u001b[0;31mZeroDivisionError\u001b[0m: division by zero"
     ]
    }
   ],
   "source": [
    "# PARAMETERS\n",
    "seed = 100\n",
    "#seed = np.random.randint(0,100000)\n",
    "\n",
    "#writer = SummaryWriter(\"runs/\"+\"DQN_LL_new_1\")\n",
    "frames = 5000\n",
    "BUFFER_SIZE = 1000000\n",
    "BATCH_SIZE = 64\n",
    "GAMMA = 0.99\n",
    "TAU = 1e-2\n",
    "eps_frames=5000\n",
    "min_eps=0.025\n",
    "LR = 1e-3\n",
    "UPDATE_EVERY = 1\n",
    "n_step = 1\n",
    "device = torch.device(\"cuda:0\" if torch.cuda.is_available() else \"cpu\")\n",
    "print(\"Using \", device)\n",
    "eps_fixed = False\n",
    "SAVE_MODEL = False\n",
    "file_name = 'N1'\n",
    "\n",
    "# Set seeds\n",
    "#env.seed(seed)\n",
    "#nv.action_space.seed(seed)\n",
    "torch.manual_seed(seed)\n",
    "np.random.seed(seed)\n",
    "\n",
    "# action_size     = env.action_space.n #### going to fix this\n",
    "action_size       = 3\n",
    "#state_size        = env.observation_space.shape\n",
    "state_size        = [59]\n",
    "\n",
    "agent = M_DQN_Agent(state_size=state_size,    \n",
    "                        action_size=action_size,\n",
    "                        layer_size=64,\n",
    "                        BATCH_SIZE=BATCH_SIZE, \n",
    "                        BUFFER_SIZE=BUFFER_SIZE, \n",
    "                        LR=LR, \n",
    "                        TAU=TAU, \n",
    "                        GAMMA=GAMMA, \n",
    "                        UPDATE_EVERY=UPDATE_EVERY, \n",
    "                        device=device, \n",
    "                        seed=seed)\n",
    "\n",
    "##########################\n",
    "action_to_portfolio = {0:-1, 1:0, 2: 1}\n",
    "scores = []                        # list containing scores from each episode\n",
    "scores_window = deque(maxlen=100)  # last 100 scores\n",
    "output_history = []\n",
    "frame = 0\n",
    "if eps_fixed:\n",
    "    eps = 0\n",
    "else:\n",
    "    eps = 1\n",
    "eps_start = 1\n",
    "i_episode = 1\n",
    "\n",
    "env = TradingEnvironment(financial_dataset=price_df.dropna(axis=0, thresh=300),\n",
    "                        residual_generator=pca_res_gen,\n",
    "                        signal_generator=fourier_signal_extractor,\n",
    "                        episode_length=100,\n",
    "                        lookback_window=252,\n",
    "                        signal_window=60,\n",
    "                        transaction_costs=0.0,\n",
    "                        short_cost=0.0)\n",
    "\n",
    "state, _ = env.warm_up()\n",
    "state_vec= state[env.tradeable_tickers].values.T # turns the dataframe for the requested tickers into a ndarray\n",
    "\n",
    "score = 1\n",
    "\n",
    "for frame in tqdm(range(1, frames+1)):\n",
    "    action = agent.act_para(state_vec, eps)\n",
    "    portfolio_allocations = np.vectorize(action_to_portfolio.get)(action) #actions need to be turned into allocations\n",
    "    next_state, reward, done, info = env.step(portfolio_allocations.T)\n",
    "    \n",
    "\n",
    "    for idx, ticker in enumerate(env.old_tradeable_tickers):\n",
    "        if done[ticker].values[0]:\n",
    "            # if the ticker is removed from the tradeable tickers, done = true and new_state is the last one\n",
    "            agent.step(state[ticker].values, action[0,idx], reward[ticker].values[0], state[ticker].values, True)\n",
    "        else:\n",
    "            # if the ticker is not removed from the tradeable tickers, done = false \n",
    "            agent.step(state[ticker].values, action[0,idx], reward[ticker].values[0], next_state[ticker].values, False)\n",
    "    \n",
    "    state     = next_state\n",
    "    state_vec = next_state[env.tradeable_tickers].values.T\n",
    "\n",
    "    score *= (env.p_l + 1)\n",
    "    # linear annealing to the min epsilon value until eps_frames and from there slowly decease epsilon to 0 until the end of training\n",
    "    if eps_fixed == False:\n",
    "        if frame < eps_frames:\n",
    "            eps = max(eps_start - (frame*(1/eps_frames)), min_eps)\n",
    "        else:\n",
    "            eps = max(min_eps - min_eps*((frame-eps_frames)/(frames-eps_frames)), 0.001)\n",
    "    \n",
    "    if frame % env.ep_N == 0:\n",
    "        scores_window.append(score-1)       # save most recent score\n",
    "        scores.append(score-1)              # save most recent score\n",
    "        #writer.add_scalar(\"Average100\", np.mean(scores_window), frame)\n",
    "        output_history.append(np.mean(scores_window))\n",
    "        env.evaluate_performance()\n",
    "        print('\\rEpisode {}\\tFrame {} \\tAverage Score: {:.2f}'.format(i_episode, frame, np.mean(scores_window)), end=\"\")\n",
    "        #if i_episode % 100 == 0:\n",
    "            #print('\\rEpisode {}\\tFrame {}\\tAverage Score: {:.2f}'.format(i_episode,frame, np.mean(scores_window)))\n",
    "        i_episode +=1 \n",
    "        score = 1 "
   ]
  },
  {
   "cell_type": "code",
   "execution_count": 72,
   "metadata": {},
   "outputs": [
    {
     "data": {
      "text/plain": [
       "[<matplotlib.lines.Line2D at 0x7f92bf18b4f0>]"
      ]
     },
     "execution_count": 72,
     "metadata": {},
     "output_type": "execute_result"
    },
    {
     "data": {
      "image/png": "[encoded data removed]",
      "text/plain": [
       "<Figure size 640x480 with 1 Axes>"
      ]
     },
     "metadata": {},
     "output_type": "display_data"
    }
   ],
   "source": [
    "import matplotlib.pyplot as plt\n",
    "plt.plot((env.total_pl.dropna() + 1).cumprod())"
   ]
  },
  {
   "cell_type": "code",
   "execution_count": null,
   "metadata": {},
   "outputs": [],
   "source": []
  }
 ],
 "metadata": {
  "kernelspec": {
   "display_name": "deep_learning",
   "language": "python",
   "name": "python3"
  },
  "language_info": {
   "codemirror_mode": {
    "name": "ipython",
    "version": 3
   },
   "file_extension": ".py",
   "mimetype": "text/x-python",
   "name": "python",
   "nbconvert_exporter": "python",
   "pygments_lexer": "ipython3",
   "version": "3.8.15"
  }
 },
 "nbformat": 4,
 "nbformat_minor": 2
}
