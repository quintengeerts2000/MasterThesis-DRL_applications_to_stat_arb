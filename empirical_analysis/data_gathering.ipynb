{
 "cells": [
  {
   "cell_type": "markdown",
   "metadata": {},
   "source": [
    "## Notebook used for constructing the datasets used in the empirical section"
   ]
  },
  {
   "cell_type": "markdown",
   "metadata": {},
   "source": [
    "### 1) historical Standard & Poors 500 constituents dataset fetched from eodhd.com"
   ]
  },
  {
   "cell_type": "code",
   "execution_count": 175,
   "metadata": {},
   "outputs": [
    {
     "name": "stderr",
     "output_type": "stream",
     "text": [
      "  1%|          | 6/1156 [00:24<51:10,  2.67s/it]  "
     ]
    },
    {
     "name": "stdout",
     "output_type": "stream",
     "text": [
      "No data found for PZE from 1996-01-02 until 1998-12-31"
     ]
    },
    {
     "name": "stderr",
     "output_type": "stream",
     "text": [
      "  1%|          | 14/1156 [00:42<43:06,  2.27s/it]"
     ]
    },
    {
     "name": "stdout",
     "output_type": "stream",
     "text": [
      "No data found for DOW from 1996-01-02 until 2017-09-01"
     ]
    },
    {
     "name": "stderr",
     "output_type": "stream",
     "text": [
      "  2%|▏         | 23/1156 [01:11<1:06:07,  3.50s/it]"
     ]
    },
    {
     "name": "stdout",
     "output_type": "stream",
     "text": [
      "No data found for BR from 1996-01-02 until 2006-04-03"
     ]
    },
    {
     "name": "stderr",
     "output_type": "stream",
     "text": [
      "  3%|▎         | 31/1156 [01:49<1:04:38,  3.45s/it]"
     ]
    },
    {
     "name": "stdout",
     "output_type": "stream",
     "text": [
      "No data found for LOR from 1996-01-02 until 1996-04-23"
     ]
    },
    {
     "name": "stderr",
     "output_type": "stream",
     "text": [
      "  3%|▎         | 34/1156 [01:55<43:22,  2.32s/it]  "
     ]
    },
    {
     "name": "stdout",
     "output_type": "stream",
     "text": [
      "No data found for ALTR from 2000-04-18 until 2015-12-28"
     ]
    },
    {
     "name": "stderr",
     "output_type": "stream",
     "text": [
      "  4%|▍         | 45/1156 [02:54<44:27,  2.40s/it]  "
     ]
    },
    {
     "name": "stdout",
     "output_type": "stream",
     "text": [
      "No data found for MDR from 1996-01-02 until 2003-08-20"
     ]
    },
    {
     "name": "stderr",
     "output_type": "stream",
     "text": [
      "  4%|▍         | 52/1156 [03:31<2:32:17,  8.28s/it]"
     ]
    },
    {
     "name": "stdout",
     "output_type": "stream",
     "text": [
      "No data found for NE from 2001-01-16 until 2009-03-27"
     ]
    },
    {
     "name": "stderr",
     "output_type": "stream",
     "text": [
      "  5%|▍         | 53/1156 [03:33<1:57:05,  6.37s/it]"
     ]
    },
    {
     "name": "stdout",
     "output_type": "stream",
     "text": [
      "No data found for NE from 2011-01-18 until 2015-07-20"
     ]
    },
    {
     "name": "stderr",
     "output_type": "stream",
     "text": [
      "  5%|▌         | 60/1156 [04:23<2:13:49,  7.33s/it]"
     ]
    },
    {
     "name": "stdout",
     "output_type": "stream",
     "text": [
      "No data found for DI from 1996-01-02 until 1998-09-30"
     ]
    },
    {
     "name": "stderr",
     "output_type": "stream",
     "text": [
      "  6%|▌         | 64/1156 [04:35<1:04:45,  3.56s/it]"
     ]
    },
    {
     "name": "stdout",
     "output_type": "stream",
     "text": [
      "No data found for COV from 1996-01-02 until 1996-08-16"
     ]
    },
    {
     "name": "stderr",
     "output_type": "stream",
     "text": [
      "  7%|▋         | 85/1156 [06:57<2:49:50,  9.51s/it]"
     ]
    },
    {
     "name": "stdout",
     "output_type": "stream",
     "text": [
      "No data found for PVT from 1998-08-31 until 1999-07-01"
     ]
    },
    {
     "name": "stderr",
     "output_type": "stream",
     "text": [
      "  7%|▋         | 86/1156 [06:58<2:03:42,  6.94s/it]"
     ]
    },
    {
     "name": "stdout",
     "output_type": "stream",
     "text": [
      "No data found for HCR from 1998-09-28 until 2007-11-09"
     ]
    },
    {
     "name": "stderr",
     "output_type": "stream",
     "text": [
      "  8%|▊         | 88/1156 [07:01<1:11:26,  4.01s/it]"
     ]
    },
    {
     "name": "stdout",
     "output_type": "stream",
     "text": [
      "No data found for EC from 1996-01-02 until 2006-06-06"
     ]
    },
    {
     "name": "stderr",
     "output_type": "stream",
     "text": [
      "  8%|▊         | 94/1156 [07:16<51:36,  2.92s/it]  "
     ]
    },
    {
     "name": "stdout",
     "output_type": "stream",
     "text": [
      "No data found for TMC from 1996-01-02 until 2000-06-13"
     ]
    },
    {
     "name": "stderr",
     "output_type": "stream",
     "text": [
      " 10%|▉         | 115/1156 [08:07<38:33,  2.22s/it]"
     ]
    },
    {
     "name": "stdout",
     "output_type": "stream",
     "text": [
      "No data found for CHK from 2006-03-03 until 2018-03-19"
     ]
    },
    {
     "name": "stderr",
     "output_type": "stream",
     "text": [
      " 10%|█         | 116/1156 [08:27<2:10:28,  7.53s/it]"
     ]
    },
    {
     "name": "stdout",
     "output_type": "stream",
     "text": [
      "No data found for SE from 2007-01-03 until 2017-02-27"
     ]
    },
    {
     "name": "stderr",
     "output_type": "stream",
     "text": [
      " 10%|█         | 119/1156 [08:52<2:44:45,  9.53s/it]"
     ]
    },
    {
     "name": "stdout",
     "output_type": "stream",
     "text": [
      "No data found for CCB from 1996-01-02 until 1996-02-12"
     ]
    },
    {
     "name": "stderr",
     "output_type": "stream",
     "text": [
      " 11%|█         | 124/1156 [09:05<59:36,  3.47s/it]  "
     ]
    },
    {
     "name": "stdout",
     "output_type": "stream",
     "text": [
      "No data found for GSX from 1996-01-02 until 1998-10-07"
     ]
    },
    {
     "name": "stderr",
     "output_type": "stream",
     "text": [
      " 11%|█         | 125/1156 [09:06<46:21,  2.70s/it]"
     ]
    },
    {
     "name": "stdout",
     "output_type": "stream",
     "text": [
      "No data found for FRO from 1997-01-02 until 1999-09-29"
     ]
    },
    {
     "name": "stderr",
     "output_type": "stream",
     "text": [
      " 12%|█▏        | 133/1156 [09:26<37:02,  2.17s/it]"
     ]
    },
    {
     "name": "stdout",
     "output_type": "stream",
     "text": [
      "404 not found from api for ticker: PEL\n"
     ]
    },
    {
     "name": "stderr",
     "output_type": "stream",
     "text": [
      " 12%|█▏        | 137/1156 [09:32<29:00,  1.71s/it]"
     ]
    },
    {
     "name": "stdout",
     "output_type": "stream",
     "text": [
      "No data found for GP from 1996-01-02 until 2005-12-20"
     ]
    },
    {
     "name": "stderr",
     "output_type": "stream",
     "text": [
      " 12%|█▏        | 144/1156 [09:54<41:28,  2.46s/it]  "
     ]
    },
    {
     "name": "stdout",
     "output_type": "stream",
     "text": [
      "404 not found from api for ticker: GIDL\n"
     ]
    },
    {
     "name": "stderr",
     "output_type": "stream",
     "text": [
      " 13%|█▎        | 147/1156 [10:02<41:50,  2.49s/it]"
     ]
    },
    {
     "name": "stdout",
     "output_type": "stream",
     "text": [
      "No data found for HCA from 1996-01-02 until 2006-11-20"
     ]
    },
    {
     "name": "stderr",
     "output_type": "stream",
     "text": [
      " 15%|█▍        | 172/1156 [11:17<37:23,  2.28s/it]  "
     ]
    },
    {
     "name": "stdout",
     "output_type": "stream",
     "text": [
      "404 not found from api for ticker: MST\n",
      "No data found for MIR from 1997-08-07 until 2000-06-01"
     ]
    },
    {
     "name": "stderr",
     "output_type": "stream",
     "text": [
      " 15%|█▍        | 173/1156 [11:19<35:40,  2.18s/it]"
     ]
    },
    {
     "name": "stdout",
     "output_type": "stream",
     "text": [
      "No data found for MIR from 2001-04-03 until 2003-07-17"
     ]
    },
    {
     "name": "stderr",
     "output_type": "stream",
     "text": [
      " 15%|█▌        | 176/1156 [11:24<27:03,  1.66s/it]"
     ]
    },
    {
     "name": "stdout",
     "output_type": "stream",
     "text": [
      "No data found for HMA from 2001-11-07 until 2007-03-02"
     ]
    },
    {
     "name": "stderr",
     "output_type": "stream",
     "text": [
      " 16%|█▌        | 185/1156 [12:05<2:05:10,  7.73s/it]"
     ]
    },
    {
     "name": "stdout",
     "output_type": "stream",
     "text": [
      "No data found for PSFT from 1998-10-02 until 2004-12-29"
     ]
    },
    {
     "name": "stderr",
     "output_type": "stream",
     "text": [
      " 16%|█▋        | 189/1156 [12:15<57:53,  3.59s/it]  "
     ]
    },
    {
     "name": "stdout",
     "output_type": "stream",
     "text": [
      "No data found for MMI from 2011-01-04 until 2012-05-22"
     ]
    },
    {
     "name": "stderr",
     "output_type": "stream",
     "text": [
      " 19%|█▊        | 216/1156 [13:57<34:40,  2.21s/it]  "
     ]
    },
    {
     "name": "stdout",
     "output_type": "stream",
     "text": [
      "No data found for MYG from 1996-01-02 until 2006-04-03"
     ]
    },
    {
     "name": "stderr",
     "output_type": "stream",
     "text": [
      " 19%|█▉        | 219/1156 [14:04<32:55,  2.11s/it]"
     ]
    },
    {
     "name": "stdout",
     "output_type": "stream",
     "text": [
      "No data found for AT from 1996-01-02 until 2007-11-19"
     ]
    },
    {
     "name": "stderr",
     "output_type": "stream",
     "text": [
      " 20%|█▉        | 228/1156 [15:06<1:06:24,  4.29s/it]"
     ]
    },
    {
     "name": "stdout",
     "output_type": "stream",
     "text": [
      "No data found for CNW from 1996-01-02 until 1996-12-03"
     ]
    },
    {
     "name": "stderr",
     "output_type": "stream",
     "text": [
      " 20%|█▉        | 229/1156 [15:07<50:57,  3.30s/it]  "
     ]
    },
    {
     "name": "stdout",
     "output_type": "stream",
     "text": [
      "No data found for S from 1996-01-02 until 2013-07-09"
     ]
    },
    {
     "name": "stderr",
     "output_type": "stream",
     "text": [
      " 20%|██        | 232/1156 [15:15<42:49,  2.78s/it]"
     ]
    },
    {
     "name": "stdout",
     "output_type": "stream",
     "text": [
      "No data found for ASND from 1998-06-12 until 1999-06-25No data found for KMI from 2000-12-12 until 2007-05-31"
     ]
    },
    {
     "name": "stderr",
     "output_type": "stream",
     "text": [
      " 21%|██        | 237/1156 [16:02<1:10:15,  4.59s/it]"
     ]
    },
    {
     "name": "stdout",
     "output_type": "stream",
     "text": [
      "No data found for HCP from 2008-03-31 until 2019-11-05"
     ]
    },
    {
     "name": "stderr",
     "output_type": "stream",
     "text": [
      " 22%|██▏       | 257/1156 [17:06<24:51,  1.66s/it]  "
     ]
    },
    {
     "name": "stdout",
     "output_type": "stream",
     "text": [
      "No data found for AMH from 1996-01-02 until 1997-09-15"
     ]
    },
    {
     "name": "stderr",
     "output_type": "stream",
     "text": [
      " 22%|██▏       | 258/1156 [17:07<21:51,  1.46s/it]"
     ]
    },
    {
     "name": "stdout",
     "output_type": "stream",
     "text": [
      "No data found for PLL from 1996-01-02 until 2015-08-31"
     ]
    },
    {
     "name": "stderr",
     "output_type": "stream",
     "text": [
      " 23%|██▎       | 262/1156 [17:18<32:24,  2.17s/it]"
     ]
    },
    {
     "name": "stdout",
     "output_type": "stream",
     "text": [
      "No data found for JP from 1996-01-02 until 2006-04-03"
     ]
    },
    {
     "name": "stderr",
     "output_type": "stream",
     "text": [
      " 24%|██▍       | 276/1156 [17:54<30:00,  2.05s/it]"
     ]
    },
    {
     "name": "stdout",
     "output_type": "stream",
     "text": [
      "No data found for AV from 2000-10-02 until 2007-10-26"
     ]
    },
    {
     "name": "stderr",
     "output_type": "stream",
     "text": [
      " 24%|██▍       | 279/1156 [18:02<31:32,  2.16s/it]"
     ]
    },
    {
     "name": "stdout",
     "output_type": "stream",
     "text": [
      "No data found for CG from 1996-01-02 until 2000-11-02"
     ]
    },
    {
     "name": "stderr",
     "output_type": "stream",
     "text": [
      " 25%|██▍       | 285/1156 [18:15<26:08,  1.80s/it]"
     ]
    },
    {
     "name": "stdout",
     "output_type": "stream",
     "text": [
      "No data found for BEAM from 1996-01-02 until 2014-05-01"
     ]
    },
    {
     "name": "stderr",
     "output_type": "stream",
     "text": [
      " 26%|██▌       | 300/1156 [19:51<1:24:00,  5.89s/it]"
     ]
    },
    {
     "name": "stdout",
     "output_type": "stream",
     "text": [
      "No data found for BHMSQ from 1996-01-02 until 2000-12-11"
     ]
    },
    {
     "name": "stderr",
     "output_type": "stream",
     "text": [
      " 28%|██▊       | 320/1156 [22:12<2:11:20,  9.43s/it]"
     ]
    },
    {
     "name": "stdout",
     "output_type": "stream",
     "text": [
      "No data found for SB from 1996-01-02 until 1997-11-28"
     ]
    },
    {
     "name": "stderr",
     "output_type": "stream",
     "text": [
      " 28%|██▊       | 322/1156 [22:18<1:22:17,  5.92s/it]"
     ]
    },
    {
     "name": "stdout",
     "output_type": "stream",
     "text": [
      "No data found for FMY from 1998-07-10 until 1999-05-28"
     ]
    },
    {
     "name": "stderr",
     "output_type": "stream",
     "text": [
      " 29%|██▉       | 334/1156 [22:45<24:07,  1.76s/it]  "
     ]
    },
    {
     "name": "stdout",
     "output_type": "stream",
     "text": [
      "No data found for THY from 1996-01-02 until 1996-10-16"
     ]
    },
    {
     "name": "stderr",
     "output_type": "stream",
     "text": [
      " 29%|██▉       | 335/1156 [22:46<20:56,  1.53s/it]"
     ]
    },
    {
     "name": "stdout",
     "output_type": "stream",
     "text": [
      "No data found for CFL from 1996-01-02 until 1998-04-28"
     ]
    },
    {
     "name": "stderr",
     "output_type": "stream",
     "text": [
      " 29%|██▉       | 337/1156 [22:52<27:33,  2.02s/it]"
     ]
    },
    {
     "name": "stdout",
     "output_type": "stream",
     "text": [
      "No data found for PGN from 1996-01-02 until 2012-07-02"
     ]
    },
    {
     "name": "stderr",
     "output_type": "stream",
     "text": [
      " 30%|███       | 352/1156 [24:01<24:32,  1.83s/it]  "
     ]
    },
    {
     "name": "stdout",
     "output_type": "stream",
     "text": [
      "No data found for ENS from 1996-01-02 until 1997-08-06"
     ]
    },
    {
     "name": "stderr",
     "output_type": "stream",
     "text": [
      " 31%|███       | 355/1156 [24:09<28:42,  2.15s/it]"
     ]
    },
    {
     "name": "stdout",
     "output_type": "stream",
     "text": [
      "No data found for EQ from 2006-05-18 until 2009-07-01"
     ]
    },
    {
     "name": "stderr",
     "output_type": "stream",
     "text": [
      " 31%|███       | 357/1156 [24:12<21:42,  1.63s/it]"
     ]
    },
    {
     "name": "stdout",
     "output_type": "stream",
     "text": [
      "No data found for NLC from 1996-01-02 until 1999-08-02"
     ]
    },
    {
     "name": "stderr",
     "output_type": "stream",
     "text": [
      " 32%|███▏      | 372/1156 [24:47<21:26,  1.64s/it]"
     ]
    },
    {
     "name": "stdout",
     "output_type": "stream",
     "text": [
      "404 not found from api for ticker: NMK\n"
     ]
    },
    {
     "name": "stderr",
     "output_type": "stream",
     "text": [
      " 33%|███▎      | 379/1156 [25:07<36:26,  2.81s/it]"
     ]
    },
    {
     "name": "stdout",
     "output_type": "stream",
     "text": [
      "No data found for CE from 2001-04-02 until 2004-02-27"
     ]
    },
    {
     "name": "stderr",
     "output_type": "stream",
     "text": [
      " 34%|███▎      | 389/1156 [25:53<1:41:26,  7.94s/it]"
     ]
    },
    {
     "name": "stdout",
     "output_type": "stream",
     "text": [
      "No data found for ADCT from 1999-08-02 until 2007-07-02"
     ]
    },
    {
     "name": "stderr",
     "output_type": "stream",
     "text": [
      " 34%|███▍      | 393/1156 [26:00<40:11,  3.16s/it]  "
     ]
    },
    {
     "name": "stdout",
     "output_type": "stream",
     "text": [
      "No data found for RDS.A from 1996-01-02 until 2002-07-22"
     ]
    },
    {
     "name": "stderr",
     "output_type": "stream",
     "text": [
      " 34%|███▍      | 394/1156 [26:01<31:36,  2.49s/it]"
     ]
    },
    {
     "name": "stdout",
     "output_type": "stream",
     "text": [
      "No data found for CRR from 1996-01-02 until 1997-05-27"
     ]
    },
    {
     "name": "stderr",
     "output_type": "stream",
     "text": [
      " 34%|███▍      | 395/1156 [26:02<25:45,  2.03s/it]"
     ]
    },
    {
     "name": "stdout",
     "output_type": "stream",
     "text": [
      "No data found for RYI from 1996-01-02 until 1998-07-01"
     ]
    },
    {
     "name": "stderr",
     "output_type": "stream",
     "text": [
      " 35%|███▍      | 400/1156 [26:17<31:50,  2.53s/it]"
     ]
    },
    {
     "name": "stdout",
     "output_type": "stream",
     "text": [
      "No data found for TRW from 1996-01-02 until 2002-12-12"
     ]
    },
    {
     "name": "stderr",
     "output_type": "stream",
     "text": [
      " 36%|███▌      | 414/1156 [27:21<34:16,  2.77s/it]  "
     ]
    },
    {
     "name": "stdout",
     "output_type": "stream",
     "text": [
      "No data found for NSM from 1996-01-02 until 2011-09-26"
     ]
    },
    {
     "name": "stderr",
     "output_type": "stream",
     "text": [
      " 36%|███▋      | 420/1156 [27:33<23:20,  1.90s/it]"
     ]
    },
    {
     "name": "stdout",
     "output_type": "stream",
     "text": [
      "No data found for MNR from 1996-01-02 until 1998-09-28"
     ]
    },
    {
     "name": "stderr",
     "output_type": "stream",
     "text": [
      " 37%|███▋      | 432/1156 [28:25<31:18,  2.60s/it]  "
     ]
    },
    {
     "name": "stdout",
     "output_type": "stream",
     "text": [
      "404 not found from api for ticker: TDM\n"
     ]
    },
    {
     "name": "stderr",
     "output_type": "stream",
     "text": [
      " 37%|███▋      | 433/1156 [28:26<25:06,  2.08s/it]"
     ]
    },
    {
     "name": "stdout",
     "output_type": "stream",
     "text": [
      "No data found for LLL from 2004-12-01 until 2019-07-01"
     ]
    },
    {
     "name": "stderr",
     "output_type": "stream",
     "text": [
      " 38%|███▊      | 435/1156 [28:29<21:48,  1.81s/it]"
     ]
    },
    {
     "name": "stdout",
     "output_type": "stream",
     "text": [
      "No data found for AAMRQ from 1996-01-02 until 2003-03-14"
     ]
    },
    {
     "name": "stderr",
     "output_type": "stream",
     "text": [
      " 38%|███▊      | 438/1156 [28:36<23:31,  1.97s/it]"
     ]
    },
    {
     "name": "stdout",
     "output_type": "stream",
     "text": [
      "No data found for COMS from 1996-01-02 until 2000-07-28"
     ]
    },
    {
     "name": "stderr",
     "output_type": "stream",
     "text": [
      " 38%|███▊      | 443/1156 [28:47<25:24,  2.14s/it]"
     ]
    },
    {
     "name": "stdout",
     "output_type": "stream",
     "text": [
      "No data found for SRR from 1996-01-02 until 1997-10-07"
     ]
    },
    {
     "name": "stderr",
     "output_type": "stream",
     "text": [
      " 39%|███▉      | 448/1156 [28:59<28:52,  2.45s/it]"
     ]
    },
    {
     "name": "stdout",
     "output_type": "stream",
     "text": [
      "No data found for CF from 2000-06-19 until 2004-09-01"
     ]
    },
    {
     "name": "stderr",
     "output_type": "stream",
     "text": [
      " 39%|███▉      | 450/1156 [29:04<26:05,  2.22s/it]"
     ]
    },
    {
     "name": "stdout",
     "output_type": "stream",
     "text": [
      "No data found for CBH from 2006-06-06 until 2008-03-31"
     ]
    },
    {
     "name": "stderr",
     "output_type": "stream",
     "text": [
      " 40%|████      | 463/1156 [30:12<38:06,  3.30s/it]  "
     ]
    },
    {
     "name": "stdout",
     "output_type": "stream",
     "text": [
      "No data found for MEDI from 2000-06-16 until 2007-06-01"
     ]
    },
    {
     "name": "stderr",
     "output_type": "stream",
     "text": [
      " 40%|████      | 465/1156 [30:14<25:53,  2.25s/it]"
     ]
    },
    {
     "name": "stdout",
     "output_type": "stream",
     "text": [
      "No data found for TA from 1996-01-02 until 1999-07-22"
     ]
    },
    {
     "name": "stderr",
     "output_type": "stream",
     "text": [
      " 41%|████      | 471/1156 [30:25<18:57,  1.66s/it]"
     ]
    },
    {
     "name": "stdout",
     "output_type": "stream",
     "text": [
      "404 not found from api for ticker: BLY\n"
     ]
    },
    {
     "name": "stderr",
     "output_type": "stream",
     "text": [
      " 41%|████      | 472/1156 [30:26<16:21,  1.43s/it]"
     ]
    },
    {
     "name": "stdout",
     "output_type": "stream",
     "text": [
      "No data found for ASO from 1999-03-10 until 2006-11-06"
     ]
    },
    {
     "name": "stderr",
     "output_type": "stream",
     "text": [
      " 41%|████      | 474/1156 [30:30<18:51,  1.66s/it]"
     ]
    },
    {
     "name": "stdout",
     "output_type": "stream",
     "text": [
      "No data found for DELL from 1996-09-06 until 2013-10-29"
     ]
    },
    {
     "name": "stderr",
     "output_type": "stream",
     "text": [
      " 41%|████▏     | 478/1156 [30:42<29:42,  2.63s/it]"
     ]
    },
    {
     "name": "stdout",
     "output_type": "stream",
     "text": [
      "No data found for AAL from 1996-01-02 until 1997-01-15"
     ]
    },
    {
     "name": "stderr",
     "output_type": "stream",
     "text": [
      " 42%|████▏     | 480/1156 [31:08<1:39:47,  8.86s/it]"
     ]
    },
    {
     "name": "stdout",
     "output_type": "stream",
     "text": [
      "No data found for MTLQQ from 1996-01-02 until 2009-06-03"
     ]
    },
    {
     "name": "stderr",
     "output_type": "stream",
     "text": [
      " 42%|████▏     | 488/1156 [31:30<32:48,  2.95s/it]  "
     ]
    },
    {
     "name": "stdout",
     "output_type": "stream",
     "text": [
      "No data found for DEC from 1996-01-02 until 1998-06-12"
     ]
    },
    {
     "name": "stderr",
     "output_type": "stream",
     "text": [
      " 42%|████▏     | 491/1156 [31:35<21:48,  1.97s/it]"
     ]
    },
    {
     "name": "stdout",
     "output_type": "stream",
     "text": [
      "No data found for HI from 1996-01-02 until 2003-03-31"
     ]
    },
    {
     "name": "stderr",
     "output_type": "stream",
     "text": [
      " 43%|████▎     | 493/1156 [31:37<16:31,  1.50s/it]"
     ]
    },
    {
     "name": "stdout",
     "output_type": "stream",
     "text": [
      "No data found for LIFE from 2008-11-24 until 2014-01-24"
     ]
    },
    {
     "name": "stderr",
     "output_type": "stream",
     "text": [
      " 43%|████▎     | 495/1156 [31:40<16:19,  1.48s/it]"
     ]
    },
    {
     "name": "stdout",
     "output_type": "stream",
     "text": [
      "No data found for RE from 2017-06-19 until 2023-06-10"
     ]
    },
    {
     "name": "stderr",
     "output_type": "stream",
     "text": [
      " 44%|████▎     | 503/1156 [32:01<24:39,  2.27s/it]"
     ]
    },
    {
     "name": "stdout",
     "output_type": "stream",
     "text": [
      "No data found for SDS from 2002-07-22 until 2005-08-12"
     ]
    },
    {
     "name": "stderr",
     "output_type": "stream",
     "text": [
      " 44%|████▍     | 512/1156 [32:24<21:31,  2.00s/it]"
     ]
    },
    {
     "name": "stdout",
     "output_type": "stream",
     "text": [
      "No data found for MNK from 2014-08-19 until 2017-07-26"
     ]
    },
    {
     "name": "stderr",
     "output_type": "stream",
     "text": [
      " 44%|████▍     | 514/1156 [32:27<17:57,  1.68s/it]"
     ]
    },
    {
     "name": "stdout",
     "output_type": "stream",
     "text": [
      "No data found for RYAN from 1996-01-02 until 1997-01-02"
     ]
    },
    {
     "name": "stderr",
     "output_type": "stream",
     "text": [
      " 45%|████▍     | 517/1156 [32:34<20:26,  1.92s/it]"
     ]
    },
    {
     "name": "stdout",
     "output_type": "stream",
     "text": [
      "No data found for ASC from 1996-01-02 until 1999-06-24"
     ]
    },
    {
     "name": "stderr",
     "output_type": "stream",
     "text": [
      " 45%|████▍     | 520/1156 [32:43<24:35,  2.32s/it]"
     ]
    },
    {
     "name": "stdout",
     "output_type": "stream",
     "text": [
      "No data found for SAI from 1997-07-17 until 1999-01-04"
     ]
    },
    {
     "name": "stderr",
     "output_type": "stream",
     "text": [
      " 46%|████▌     | 529/1156 [33:09<22:27,  2.15s/it]"
     ]
    },
    {
     "name": "stdout",
     "output_type": "stream",
     "text": [
      "No data found for IR from 1996-01-02 until 2009-07-01"
     ]
    },
    {
     "name": "stderr",
     "output_type": "stream",
     "text": [
      " 46%|████▌     | 533/1156 [34:14<1:39:00,  9.54s/it]"
     ]
    },
    {
     "name": "stdout",
     "output_type": "stream",
     "text": [
      "No data found for DYN from 2000-10-03 until 2009-12-21"
     ]
    },
    {
     "name": "stderr",
     "output_type": "stream",
     "text": [
      " 47%|████▋     | 548/1156 [34:48<20:45,  2.05s/it]  "
     ]
    },
    {
     "name": "stdout",
     "output_type": "stream",
     "text": [
      "No data found for CNXT from 2000-01-31 until 2002-06-26"
     ]
    },
    {
     "name": "stderr",
     "output_type": "stream",
     "text": [
      " 47%|████▋     | 549/1156 [34:49<17:12,  1.70s/it]"
     ]
    },
    {
     "name": "stdout",
     "output_type": "stream",
     "text": [
      "No data found for STR from 2006-12-01 until 2010-07-01"
     ]
    },
    {
     "name": "stderr",
     "output_type": "stream",
     "text": [
      " 48%|████▊     | 553/1156 [35:01<24:36,  2.45s/it]"
     ]
    },
    {
     "name": "stdout",
     "output_type": "stream",
     "text": [
      "No data found for NLV from 1996-04-01 until 2000-01-06"
     ]
    },
    {
     "name": "stderr",
     "output_type": "stream",
     "text": [
      " 48%|████▊     | 554/1156 [35:02<20:05,  2.00s/it]"
     ]
    },
    {
     "name": "stdout",
     "output_type": "stream",
     "text": [
      "No data found for WLP from 1999-06-09 until 2004-12-01"
     ]
    },
    {
     "name": "stderr",
     "output_type": "stream",
     "text": [
      " 48%|████▊     | 559/1156 [35:12<18:43,  1.88s/it]"
     ]
    },
    {
     "name": "stdout",
     "output_type": "stream",
     "text": [
      "No data found for SMI from 1996-01-02 until 2000-12-12"
     ]
    },
    {
     "name": "stderr",
     "output_type": "stream",
     "text": [
      " 48%|████▊     | 560/1156 [35:13<15:51,  1.60s/it]"
     ]
    },
    {
     "name": "stdout",
     "output_type": "stream",
     "text": [
      "No data found for GTE from 1996-01-02 until 2000-07-03"
     ]
    },
    {
     "name": "stderr",
     "output_type": "stream",
     "text": [
      " 49%|████▉     | 569/1156 [35:32<13:56,  1.42s/it]"
     ]
    },
    {
     "name": "stdout",
     "output_type": "stream",
     "text": [
      "404 not found from api for ticker: NAE\n"
     ]
    },
    {
     "name": "stderr",
     "output_type": "stream",
     "text": [
      " 49%|████▉     | 570/1156 [36:08<1:54:59, 11.77s/it]"
     ]
    },
    {
     "name": "stdout",
     "output_type": "stream",
     "text": [
      "No data found for AM from 1996-01-02 until 2004-05-03"
     ]
    },
    {
     "name": "stderr",
     "output_type": "stream",
     "text": [
      " 49%|████▉     | 572/1156 [36:12<1:05:13,  6.70s/it]"
     ]
    },
    {
     "name": "stdout",
     "output_type": "stream",
     "text": [
      "No data found for PMI from 1996-01-02 until 1996-05-31"
     ]
    },
    {
     "name": "stderr",
     "output_type": "stream",
     "text": [
      " 50%|████▉     | 573/1156 [36:13<48:41,  5.01s/it]  "
     ]
    },
    {
     "name": "stdout",
     "output_type": "stream",
     "text": [
      "No data found for ECO from 1996-01-02 until 1998-01-20"
     ]
    },
    {
     "name": "stderr",
     "output_type": "stream",
     "text": [
      " 51%|█████     | 591/1156 [38:12<48:07,  5.11s/it]  "
     ]
    },
    {
     "name": "stdout",
     "output_type": "stream",
     "text": [
      "No data found for HLT from 1996-01-02 until 2007-10-25"
     ]
    },
    {
     "name": "stderr",
     "output_type": "stream",
     "text": [
      " 52%|█████▏    | 597/1156 [38:28<26:00,  2.79s/it]"
     ]
    },
    {
     "name": "stdout",
     "output_type": "stream",
     "text": [
      "No data found for AGC from 1996-01-02 until 2001-08-29"
     ]
    },
    {
     "name": "stderr",
     "output_type": "stream",
     "text": [
      " 52%|█████▏    | 599/1156 [38:32<21:48,  2.35s/it]"
     ]
    },
    {
     "name": "stdout",
     "output_type": "stream",
     "text": [
      "No data found for JAVA from 1996-01-02 until 2010-01-27"
     ]
    },
    {
     "name": "stderr",
     "output_type": "stream",
     "text": [
      " 52%|█████▏    | 600/1156 [38:33<17:56,  1.94s/it]"
     ]
    },
    {
     "name": "stdout",
     "output_type": "stream",
     "text": [
      "No data found for WCOEQ from 1996-04-01 until 2002-05-15404 not found from api for ticker: HFS\n"
     ]
    },
    {
     "name": "stderr",
     "output_type": "stream",
     "text": [
      " 53%|█████▎    | 610/1156 [39:34<59:09,  6.50s/it]  "
     ]
    },
    {
     "name": "stdout",
     "output_type": "stream",
     "text": [
      "No data found for SK from 1996-01-02 until 1998-04-01"
     ]
    },
    {
     "name": "stderr",
     "output_type": "stream",
     "text": [
      " 53%|█████▎    | 618/1156 [39:49<19:20,  2.16s/it]"
     ]
    },
    {
     "name": "stdout",
     "output_type": "stream",
     "text": [
      "No data found for UPC from 1998-10-01 until 2004-07-01"
     ]
    },
    {
     "name": "stderr",
     "output_type": "stream",
     "text": [
      " 54%|█████▎    | 619/1156 [39:50<16:01,  1.79s/it]"
     ]
    },
    {
     "name": "stdout",
     "output_type": "stream",
     "text": [
      "No data found for PCS from 1998-11-24 until 2004-04-23"
     ]
    },
    {
     "name": "stderr",
     "output_type": "stream",
     "text": [
      " 54%|█████▍    | 626/1156 [40:08<21:08,  2.39s/it]"
     ]
    },
    {
     "name": "stdout",
     "output_type": "stream",
     "text": [
      "No data found for CDAY from 2021-09-20 until 2023-10-18"
     ]
    },
    {
     "name": "stderr",
     "output_type": "stream",
     "text": [
      " 55%|█████▍    | 632/1156 [40:24<20:13,  2.32s/it]"
     ]
    },
    {
     "name": "stdout",
     "output_type": "stream",
     "text": [
      "No data found for MIL from 1996-01-02 until 2010-07-15"
     ]
    },
    {
     "name": "stderr",
     "output_type": "stream",
     "text": [
      " 55%|█████▍    | 635/1156 [40:33<21:53,  2.52s/it]"
     ]
    },
    {
     "name": "stdout",
     "output_type": "stream",
     "text": [
      "No data found for VAT from 1996-01-02 until 1996-09-06"
     ]
    },
    {
     "name": "stderr",
     "output_type": "stream",
     "text": [
      " 56%|█████▌    | 648/1156 [41:26<22:14,  2.63s/it]  "
     ]
    },
    {
     "name": "stdout",
     "output_type": "stream",
     "text": [
      "No data found for ABI from 1996-01-02 until 2008-11-24"
     ]
    },
    {
     "name": "stderr",
     "output_type": "stream",
     "text": [
      " 56%|█████▌    | 649/1156 [41:26<17:52,  2.12s/it]"
     ]
    },
    {
     "name": "stdout",
     "output_type": "stream",
     "text": [
      "No data found for ABKFQ from 2000-12-11 until 2008-06-11"
     ]
    },
    {
     "name": "stderr",
     "output_type": "stream",
     "text": [
      " 56%|█████▋    | 653/1156 [41:36<18:10,  2.17s/it]"
     ]
    },
    {
     "name": "stdout",
     "output_type": "stream",
     "text": [
      "No data found for RSHCQ from 1996-01-02 until 2011-07-01"
     ]
    },
    {
     "name": "stderr",
     "output_type": "stream",
     "text": [
      " 57%|█████▋    | 655/1156 [41:39<15:02,  1.80s/it]"
     ]
    },
    {
     "name": "stdout",
     "output_type": "stream",
     "text": [
      "No data found for INGR from 1996-01-02 until 1997-07-28"
     ]
    },
    {
     "name": "stderr",
     "output_type": "stream",
     "text": [
      " 57%|█████▋    | 660/1156 [41:50<17:45,  2.15s/it]"
     ]
    },
    {
     "name": "stdout",
     "output_type": "stream",
     "text": [
      "No data found for JH from 1996-01-02 until 1998-04-01"
     ]
    },
    {
     "name": "stderr",
     "output_type": "stream",
     "text": [
      " 58%|█████▊    | 665/1156 [42:03<18:07,  2.21s/it]"
     ]
    },
    {
     "name": "stdout",
     "output_type": "stream",
     "text": [
      "No data found for Q from 2000-07-06 until 2011-04-01"
     ]
    },
    {
     "name": "stderr",
     "output_type": "stream",
     "text": [
      " 58%|█████▊    | 670/1156 [42:14<18:03,  2.23s/it]"
     ]
    },
    {
     "name": "stdout",
     "output_type": "stream",
     "text": [
      "No data found for UK from 1996-01-02 until 2001-02-07"
     ]
    },
    {
     "name": "stderr",
     "output_type": "stream",
     "text": [
      " 58%|█████▊    | 672/1156 [42:18<16:09,  2.00s/it]"
     ]
    },
    {
     "name": "stdout",
     "output_type": "stream",
     "text": [
      "No data found for I from 1996-01-02 until 1996-04-01"
     ]
    },
    {
     "name": "stderr",
     "output_type": "stream",
     "text": [
      " 59%|█████▊    | 677/1156 [42:25<11:04,  1.39s/it]"
     ]
    },
    {
     "name": "stdout",
     "output_type": "stream",
     "text": [
      "No data found for BOAT from 1996-01-02 until 1997-01-07"
     ]
    },
    {
     "name": "stderr",
     "output_type": "stream",
     "text": [
      " 59%|█████▊    | 679/1156 [42:29<12:59,  1.63s/it]"
     ]
    },
    {
     "name": "stdout",
     "output_type": "stream",
     "text": [
      "No data found for ADT from 2012-10-02 until 2016-05-02"
     ]
    },
    {
     "name": "stderr",
     "output_type": "stream",
     "text": [
      " 59%|█████▉    | 680/1156 [42:30<11:17,  1.42s/it]"
     ]
    },
    {
     "name": "stdout",
     "output_type": "stream",
     "text": [
      "No data found for LDW.B from 1996-01-02 until 1999-12-08"
     ]
    },
    {
     "name": "stderr",
     "output_type": "stream",
     "text": [
      " 59%|█████▉    | 682/1156 [42:37<17:20,  2.19s/it]"
     ]
    },
    {
     "name": "stdout",
     "output_type": "stream",
     "text": [
      "No data found for BNL from 1996-01-02 until 1998-07-01"
     ]
    },
    {
     "name": "stderr",
     "output_type": "stream",
     "text": [
      " 60%|█████▉    | 689/1156 [43:04<21:32,  2.77s/it]"
     ]
    },
    {
     "name": "stdout",
     "output_type": "stream",
     "text": [
      "No data found for EFU from 1996-01-02 until 2000-11-02"
     ]
    },
    {
     "name": "stderr",
     "output_type": "stream",
     "text": [
      " 60%|█████▉    | 692/1156 [43:10<16:06,  2.08s/it]"
     ]
    },
    {
     "name": "stdout",
     "output_type": "stream",
     "text": [
      "404 not found from api for ticker: USHC\n"
     ]
    },
    {
     "name": "stderr",
     "output_type": "stream",
     "text": [
      " 60%|██████    | 695/1156 [43:16<14:33,  1.90s/it]"
     ]
    },
    {
     "name": "stdout",
     "output_type": "stream",
     "text": [
      "No data found for GRN from 1996-01-02 until 1998-12-22"
     ]
    },
    {
     "name": "stderr",
     "output_type": "stream",
     "text": [
      " 60%|██████    | 696/1156 [43:17<12:22,  1.61s/it]"
     ]
    },
    {
     "name": "stdout",
     "output_type": "stream",
     "text": [
      "No data found for CA from 1996-01-02 until 2018-11-06"
     ]
    },
    {
     "name": "stderr",
     "output_type": "stream",
     "text": [
      " 61%|██████    | 700/1156 [43:46<33:55,  4.46s/it]"
     ]
    },
    {
     "name": "stdout",
     "output_type": "stream",
     "text": [
      "No data found for BEV from 1996-01-02 until 1997-12-04"
     ]
    },
    {
     "name": "stderr",
     "output_type": "stream",
     "text": [
      " 61%|██████    | 702/1156 [43:51<25:16,  3.34s/it]"
     ]
    },
    {
     "name": "stdout",
     "output_type": "stream",
     "text": [
      "No data found for MON from 2002-08-14 until 2018-06-07"
     ]
    },
    {
     "name": "stderr",
     "output_type": "stream",
     "text": [
      " 61%|██████    | 707/1156 [43:59<12:52,  1.72s/it]"
     ]
    },
    {
     "name": "stdout",
     "output_type": "stream",
     "text": [
      "No data found for UAWGQ from 1996-01-02 until 2002-05-15"
     ]
    },
    {
     "name": "stderr",
     "output_type": "stream",
     "text": [
      " 61%|██████▏   | 710/1156 [44:05<12:23,  1.67s/it]"
     ]
    },
    {
     "name": "stdout",
     "output_type": "stream",
     "text": [
      "404 not found from api for ticker: FBO\n"
     ]
    },
    {
     "name": "stderr",
     "output_type": "stream",
     "text": [
      " 62%|██████▏   | 715/1156 [44:13<10:59,  1.50s/it]"
     ]
    },
    {
     "name": "stdout",
     "output_type": "stream",
     "text": [
      "No data found for MEA from 1996-01-02 until 2002-01-30"
     ]
    },
    {
     "name": "stderr",
     "output_type": "stream",
     "text": [
      " 62%|██████▏   | 716/1156 [44:14<09:41,  1.32s/it]"
     ]
    },
    {
     "name": "stdout",
     "output_type": "stream",
     "text": [
      "No data found for AR from 1996-01-02 until 1999-10-27"
     ]
    },
    {
     "name": "stderr",
     "output_type": "stream",
     "text": [
      " 62%|██████▏   | 720/1156 [44:24<13:26,  1.85s/it]"
     ]
    },
    {
     "name": "stdout",
     "output_type": "stream",
     "text": [
      "No data found for ARC from 1996-01-02 until 2000-04-18"
     ]
    },
    {
     "name": "stderr",
     "output_type": "stream",
     "text": [
      " 63%|██████▎   | 725/1156 [44:41<18:47,  2.61s/it]"
     ]
    },
    {
     "name": "stdout",
     "output_type": "stream",
     "text": [
      "No data found for USBC from 1996-01-02 until 1997-08-04"
     ]
    },
    {
     "name": "stderr",
     "output_type": "stream",
     "text": [
      " 63%|██████▎   | 729/1156 [44:49<13:24,  1.88s/it]"
     ]
    },
    {
     "name": "stdout",
     "output_type": "stream",
     "text": [
      "No data found for CEN from 1996-01-02 until 2001-04-02"
     ]
    },
    {
     "name": "stderr",
     "output_type": "stream",
     "text": [
      " 64%|██████▎   | 736/1156 [45:39<39:35,  5.66s/it]  "
     ]
    },
    {
     "name": "stdout",
     "output_type": "stream",
     "text": [
      "No data found for PHB from 1996-01-02 until 1999-10-04"
     ]
    },
    {
     "name": "stderr",
     "output_type": "stream",
     "text": [
      " 64%|██████▍   | 738/1156 [45:42<23:55,  3.43s/it]"
     ]
    },
    {
     "name": "stdout",
     "output_type": "stream",
     "text": [
      "No data found for ECH from 1996-01-02 until 1998-07-10"
     ]
    },
    {
     "name": "stderr",
     "output_type": "stream",
     "text": [
      " 64%|██████▍   | 743/1156 [45:57<18:57,  2.75s/it]"
     ]
    },
    {
     "name": "stdout",
     "output_type": "stream",
     "text": [
      "No data found for LU from 1996-10-01 until 2006-12-01"
     ]
    },
    {
     "name": "stderr",
     "output_type": "stream",
     "text": [
      " 65%|██████▍   | 746/1156 [46:04<15:33,  2.28s/it]"
     ]
    },
    {
     "name": "stdout",
     "output_type": "stream",
     "text": [
      "No data found for UCL from 1996-01-02 until 2005-08-11"
     ]
    },
    {
     "name": "stderr",
     "output_type": "stream",
     "text": [
      " 65%|██████▍   | 750/1156 [46:17<17:46,  2.63s/it]"
     ]
    },
    {
     "name": "stdout",
     "output_type": "stream",
     "text": [
      "No data found for GFS.A from 1996-01-02 until 1998-07-16"
     ]
    },
    {
     "name": "stderr",
     "output_type": "stream",
     "text": [
      " 65%|██████▍   | 751/1156 [46:18<14:47,  2.19s/it]"
     ]
    },
    {
     "name": "stdout",
     "output_type": "stream",
     "text": [
      "No data found for UCC from 1996-01-02 until 1999-05-03"
     ]
    },
    {
     "name": "stderr",
     "output_type": "stream",
     "text": [
      " 65%|██████▌   | 756/1156 [46:29<14:01,  2.10s/it]"
     ]
    },
    {
     "name": "stdout",
     "output_type": "stream",
     "text": [
      "No data found for CEG from 1996-01-02 until 2012-03-13"
     ]
    },
    {
     "name": "stderr",
     "output_type": "stream",
     "text": [
      " 66%|██████▌   | 759/1156 [46:35<12:25,  1.88s/it]"
     ]
    },
    {
     "name": "stdout",
     "output_type": "stream",
     "text": [
      "No data found for TMC.A from 1996-01-02 until 2000-06-13"
     ]
    },
    {
     "name": "stderr",
     "output_type": "stream",
     "text": [
      " 66%|██████▌   | 762/1156 [46:48<22:51,  3.48s/it]"
     ]
    },
    {
     "name": "stdout",
     "output_type": "stream",
     "text": [
      "No data found for UMG from 1996-01-02 until 2000-06-15"
     ]
    },
    {
     "name": "stderr",
     "output_type": "stream",
     "text": [
      " 66%|██████▋   | 766/1156 [47:04<19:44,  3.04s/it]"
     ]
    },
    {
     "name": "stdout",
     "output_type": "stream",
     "text": [
      "No data found for VRTS from 2000-04-03 until 2005-07-05"
     ]
    },
    {
     "name": "stderr",
     "output_type": "stream",
     "text": [
      " 67%|██████▋   | 770/1156 [47:13<14:31,  2.26s/it]"
     ]
    },
    {
     "name": "stdout",
     "output_type": "stream",
     "text": [
      "No data found for RLM from 1996-01-02 until 2000-05-04"
     ]
    },
    {
     "name": "stderr",
     "output_type": "stream",
     "text": [
      " 68%|██████▊   | 786/1156 [48:19<19:57,  3.24s/it]"
     ]
    },
    {
     "name": "stdout",
     "output_type": "stream",
     "text": [
      "404 not found from api for ticker: DWD\n"
     ]
    },
    {
     "name": "stderr",
     "output_type": "stream",
     "text": [
      " 69%|██████▊   | 794/1156 [49:13<1:16:04, 12.61s/it]"
     ]
    },
    {
     "name": "stdout",
     "output_type": "stream",
     "text": [
      "No data found for PD from 1996-01-02 until 2007-03-20"
     ]
    },
    {
     "name": "stderr",
     "output_type": "stream",
     "text": [
      " 69%|██████▉   | 802/1156 [49:39<21:15,  3.60s/it]  "
     ]
    },
    {
     "name": "stdout",
     "output_type": "stream",
     "text": [
      "No data found for WLL from 1996-01-02 until 2002-02-11"
     ]
    },
    {
     "name": "stderr",
     "output_type": "stream",
     "text": [
      " 70%|███████   | 811/1156 [49:58<10:28,  1.82s/it]"
     ]
    },
    {
     "name": "stdout",
     "output_type": "stream",
     "text": [
      "No data found for ANV from 1996-01-02 until 1999-04-12"
     ]
    },
    {
     "name": "stderr",
     "output_type": "stream",
     "text": [
      " 71%|███████   | 820/1156 [50:35<44:03,  7.87s/it]"
     ]
    },
    {
     "name": "stdout",
     "output_type": "stream",
     "text": [
      "No data found for PBY from 1996-01-02 until 2000-04-03"
     ]
    },
    {
     "name": "stderr",
     "output_type": "stream",
     "text": [
      " 73%|███████▎  | 839/1156 [51:18<08:58,  1.70s/it]"
     ]
    },
    {
     "name": "stdout",
     "output_type": "stream",
     "text": [
      "No data found for SFS from 1996-01-02 until 1997-07-28"
     ]
    },
    {
     "name": "stderr",
     "output_type": "stream",
     "text": [
      " 73%|███████▎  | 847/1156 [51:44<12:32,  2.44s/it]"
     ]
    },
    {
     "name": "stdout",
     "output_type": "stream",
     "text": [
      "No data found for GNT from 1996-03-13 until 1998-07-01"
     ]
    },
    {
     "name": "stderr",
     "output_type": "stream",
     "text": [
      " 74%|███████▎  | 851/1156 [51:56<13:07,  2.58s/it]"
     ]
    },
    {
     "name": "stdout",
     "output_type": "stream",
     "text": [
      "404 not found from api for ticker: USH\n"
     ]
    },
    {
     "name": "stderr",
     "output_type": "stream",
     "text": [
      " 74%|███████▍  | 860/1156 [52:38<12:20,  2.50s/it]"
     ]
    },
    {
     "name": "stdout",
     "output_type": "stream",
     "text": [
      "No data found for PET from 1996-01-02 until 1998-06-29"
     ]
    },
    {
     "name": "stderr",
     "output_type": "stream",
     "text": [
      " 75%|███████▍  | 864/1156 [52:52<14:13,  2.92s/it]"
     ]
    },
    {
     "name": "stdout",
     "output_type": "stream",
     "text": [
      "No data found for DG from 1998-07-16 until 2007-07-09"
     ]
    },
    {
     "name": "stderr",
     "output_type": "stream",
     "text": [
      " 75%|███████▍  | 866/1156 [52:56<11:22,  2.35s/it]"
     ]
    },
    {
     "name": "stdout",
     "output_type": "stream",
     "text": [
      "No data found for G from 1996-01-02 until 2005-10-03"
     ]
    },
    {
     "name": "stderr",
     "output_type": "stream",
     "text": [
      " 76%|███████▌  | 878/1156 [53:21<10:00,  2.16s/it]"
     ]
    },
    {
     "name": "stdout",
     "output_type": "stream",
     "text": [
      "No data found for ACV from 1996-01-02 until 2006-11-17"
     ]
    },
    {
     "name": "stderr",
     "output_type": "stream",
     "text": [
      " 76%|███████▋  | 883/1156 [53:38<12:00,  2.64s/it]"
     ]
    },
    {
     "name": "stdout",
     "output_type": "stream",
     "text": [
      "404 not found from api for ticker: CMB\n"
     ]
    },
    {
     "name": "stderr",
     "output_type": "stream",
     "text": [
      " 77%|███████▋  | 892/1156 [54:18<11:54,  2.71s/it]"
     ]
    },
    {
     "name": "stdout",
     "output_type": "stream",
     "text": [
      "No data found for VO from 1996-01-02 until 2000-12-11"
     ]
    },
    {
     "name": "stderr",
     "output_type": "stream",
     "text": [
      " 78%|███████▊  | 897/1156 [54:26<08:15,  1.91s/it]"
     ]
    },
    {
     "name": "stdout",
     "output_type": "stream",
     "text": [
      "No data found for CIT.A from 2000-07-17 until 2001-06-04"
     ]
    },
    {
     "name": "stderr",
     "output_type": "stream",
     "text": [
      " 78%|███████▊  | 900/1156 [54:32<07:51,  1.84s/it]"
     ]
    },
    {
     "name": "stdout",
     "output_type": "stream",
     "text": [
      "No data found for XL from 2001-09-04 until 2018-09-12"
     ]
    },
    {
     "name": "stderr",
     "output_type": "stream",
     "text": [
      " 78%|███████▊  | 904/1156 [54:41<07:22,  1.76s/it]"
     ]
    },
    {
     "name": "stdout",
     "output_type": "stream",
     "text": [
      "No data found for SHLD from 2005-03-28 until 2012-09-05"
     ]
    },
    {
     "name": "stderr",
     "output_type": "stream",
     "text": [
      " 79%|███████▉  | 912/1156 [55:37<42:36, 10.48s/it]"
     ]
    },
    {
     "name": "stdout",
     "output_type": "stream",
     "text": [
      "No data found for ANRZQ from 2011-06-02 until 2012-10-02"
     ]
    },
    {
     "name": "stderr",
     "output_type": "stream",
     "text": [
      " 80%|████████  | 928/1156 [56:32<13:01,  3.43s/it]"
     ]
    },
    {
     "name": "stdout",
     "output_type": "stream",
     "text": [
      "No data found for HRS from 1996-01-02 until 1999-11-08"
     ]
    },
    {
     "name": "stderr",
     "output_type": "stream",
     "text": [
      " 81%|████████  | 938/1156 [56:56<07:25,  2.04s/it]"
     ]
    },
    {
     "name": "stdout",
     "output_type": "stream",
     "text": [
      "No data found for AFS.A from 1998-04-08 until 2000-12-01"
     ]
    },
    {
     "name": "stderr",
     "output_type": "stream",
     "text": [
      " 82%|████████▏ | 943/1156 [57:14<10:44,  3.03s/it]"
     ]
    },
    {
     "name": "stdout",
     "output_type": "stream",
     "text": [
      "No data found for FLMIQ from 1996-01-02 until 1997-12-24"
     ]
    },
    {
     "name": "stderr",
     "output_type": "stream",
     "text": [
      " 82%|████████▏ | 949/1156 [57:24<05:33,  1.61s/it]"
     ]
    },
    {
     "name": "stdout",
     "output_type": "stream",
     "text": [
      "No data found for CHRS from 1996-01-02 until 1998-04-08"
     ]
    },
    {
     "name": "stderr",
     "output_type": "stream",
     "text": [
      " 82%|████████▏ | 952/1156 [57:49<15:17,  4.50s/it]"
     ]
    },
    {
     "name": "stdout",
     "output_type": "stream",
     "text": [
      "No data found for SUNEQ from 2007-05-31 until 2011-12-19"
     ]
    },
    {
     "name": "stderr",
     "output_type": "stream",
     "text": [
      " 83%|████████▎ | 958/1156 [58:07<09:47,  2.97s/it]"
     ]
    },
    {
     "name": "stdout",
     "output_type": "stream",
     "text": [
      "404 not found from api for ticker: LLX\n"
     ]
    },
    {
     "name": "stderr",
     "output_type": "stream",
     "text": [
      " 83%|████████▎ | 959/1156 [58:08<07:42,  2.35s/it]"
     ]
    },
    {
     "name": "stdout",
     "output_type": "stream",
     "text": [
      "No data found for SUB from 1998-01-28 until 2001-03-01"
     ]
    },
    {
     "name": "stderr",
     "output_type": "stream",
     "text": [
      " 83%|████████▎ | 960/1156 [58:09<06:48,  2.09s/it]"
     ]
    },
    {
     "name": "stdout",
     "output_type": "stream",
     "text": [
      "No data found for UST from 1996-01-02 until 2009-01-06"
     ]
    },
    {
     "name": "stderr",
     "output_type": "stream",
     "text": [
      " 83%|████████▎ | 962/1156 [58:15<07:24,  2.29s/it]"
     ]
    },
    {
     "name": "stdout",
     "output_type": "stream",
     "text": [
      "No data found for OM from 1996-01-02 until 1996-10-01"
     ]
    },
    {
     "name": "stderr",
     "output_type": "stream",
     "text": [
      " 83%|████████▎ | 965/1156 [58:56<40:04, 12.59s/it]"
     ]
    },
    {
     "name": "stdout",
     "output_type": "stream",
     "text": [
      "No data found for GLD from 1996-01-02 until 1997-05-06"
     ]
    },
    {
     "name": "stderr",
     "output_type": "stream",
     "text": [
      " 84%|████████▎ | 967/1156 [58:59<21:50,  6.93s/it]"
     ]
    },
    {
     "name": "stdout",
     "output_type": "stream",
     "text": [
      "No data found for EMC from 1996-03-28 until 2016-09-07"
     ]
    },
    {
     "name": "stderr",
     "output_type": "stream",
     "text": [
      " 84%|████████▍ | 973/1156 [59:12<07:43,  2.53s/it]"
     ]
    },
    {
     "name": "stdout",
     "output_type": "stream",
     "text": [
      "No data found for H from 1996-01-02 until 2001-06-29"
     ]
    },
    {
     "name": "stderr",
     "output_type": "stream",
     "text": [
      " 84%|████████▍ | 974/1156 [59:14<06:57,  2.29s/it]"
     ]
    },
    {
     "name": "stdout",
     "output_type": "stream",
     "text": [
      "No data found for H from 2006-08-01 until 2007-04-10"
     ]
    },
    {
     "name": "stderr",
     "output_type": "stream",
     "text": [
      " 85%|████████▌ | 984/1156 [59:40<06:59,  2.44s/it]"
     ]
    },
    {
     "name": "stdout",
     "output_type": "stream",
     "text": [
      "No data found for FDC from 1996-01-02 until 2007-09-25"
     ]
    },
    {
     "name": "stderr",
     "output_type": "stream",
     "text": [
      " 85%|████████▌ | 985/1156 [59:41<05:44,  2.01s/it]"
     ]
    },
    {
     "name": "stdout",
     "output_type": "stream",
     "text": [
      "404 not found from api for ticker: NYN\n"
     ]
    },
    {
     "name": "stderr",
     "output_type": "stream",
     "text": [
      " 86%|████████▌ | 992/1156 [59:59<05:13,  1.91s/it]"
     ]
    },
    {
     "name": "stdout",
     "output_type": "stream",
     "text": [
      "No data found for CR from 1996-01-02 until 2004-12-20"
     ]
    },
    {
     "name": "stderr",
     "output_type": "stream",
     "text": [
      " 87%|████████▋ | 1002/1156 [1:00:44<12:01,  4.68s/it]"
     ]
    },
    {
     "name": "stdout",
     "output_type": "stream",
     "text": [
      "404 not found from api for ticker: CYR\n"
     ]
    },
    {
     "name": "stderr",
     "output_type": "stream",
     "text": [
      " 87%|████████▋ | 1011/1156 [1:01:07<05:32,  2.29s/it]"
     ]
    },
    {
     "name": "stdout",
     "output_type": "stream",
     "text": [
      "No data found for WB from 1996-01-02 until 2009-01-02"
     ]
    },
    {
     "name": "stderr",
     "output_type": "stream",
     "text": [
      " 88%|████████▊ | 1012/1156 [1:01:08<04:35,  1.92s/it]"
     ]
    },
    {
     "name": "stdout",
     "output_type": "stream",
     "text": [
      "No data found for CSE from 1996-01-22 until 1999-11-15"
     ]
    },
    {
     "name": "stderr",
     "output_type": "stream",
     "text": [
      " 88%|████████▊ | 1014/1156 [1:01:12<04:28,  1.89s/it]"
     ]
    },
    {
     "name": "stdout",
     "output_type": "stream",
     "text": [
      "No data found for DO from 2009-02-26 until 2016-10-03"
     ]
    },
    {
     "name": "stderr",
     "output_type": "stream",
     "text": [
      " 88%|████████▊ | 1016/1156 [1:01:17<04:41,  2.01s/it]"
     ]
    },
    {
     "name": "stdout",
     "output_type": "stream",
     "text": [
      "No data found for AL from 1996-01-02 until 2002-07-22"
     ]
    },
    {
     "name": "stderr",
     "output_type": "stream",
     "text": [
      " 89%|████████▉ | 1026/1156 [1:02:02<06:33,  3.03s/it]"
     ]
    },
    {
     "name": "stdout",
     "output_type": "stream",
     "text": [
      "No data found for AZA.A from 1996-01-02 until 2001-06-25"
     ]
    },
    {
     "name": "stderr",
     "output_type": "stream",
     "text": [
      " 89%|████████▉ | 1033/1156 [1:02:34<06:11,  3.02s/it]"
     ]
    },
    {
     "name": "stdout",
     "output_type": "stream",
     "text": [
      "No data found for BUD from 1996-01-02 until 2008-11-18"
     ]
    },
    {
     "name": "stderr",
     "output_type": "stream",
     "text": [
      " 89%|████████▉ | 1034/1156 [1:02:35<04:51,  2.39s/it]"
     ]
    },
    {
     "name": "stdout",
     "output_type": "stream",
     "text": [
      "No data found for BFI from 1996-01-02 until 1999-08-02"
     ]
    },
    {
     "name": "stderr",
     "output_type": "stream",
     "text": [
      " 90%|████████▉ | 1035/1156 [1:02:36<03:55,  1.95s/it]"
     ]
    },
    {
     "name": "stdout",
     "output_type": "stream",
     "text": [
      "No data found for SAF from 1996-01-02 until 2008-09-23"
     ]
    },
    {
     "name": "stderr",
     "output_type": "stream",
     "text": [
      " 90%|████████▉ | 1040/1156 [1:02:46<03:48,  1.97s/it]"
     ]
    },
    {
     "name": "stdout",
     "output_type": "stream",
     "text": [
      "No data found for BAY from 1996-02-12 until 1998-08-31"
     ]
    },
    {
     "name": "stderr",
     "output_type": "stream",
     "text": [
      " 91%|█████████ | 1047/1156 [1:03:05<04:01,  2.22s/it]"
     ]
    },
    {
     "name": "stdout",
     "output_type": "stream",
     "text": [
      "No data found for TX from 1996-01-02 until 2001-10-10"
     ]
    },
    {
     "name": "stderr",
     "output_type": "stream",
     "text": [
      " 91%|█████████ | 1048/1156 [1:03:05<03:16,  1.82s/it]"
     ]
    },
    {
     "name": "stdout",
     "output_type": "stream",
     "text": [
      "No data found for TSG from 2000-03-16 until 2007-04-02"
     ]
    },
    {
     "name": "stderr",
     "output_type": "stream",
     "text": [
      " 91%|█████████ | 1049/1156 [1:03:08<03:44,  2.10s/it]"
     ]
    },
    {
     "name": "stdout",
     "output_type": "stream",
     "text": [
      "No data found for AMP from 1996-01-02 until 1999-04-05"
     ]
    },
    {
     "name": "stderr",
     "output_type": "stream",
     "text": [
      " 91%|█████████▏| 1055/1156 [1:03:57<20:47, 12.35s/it]"
     ]
    },
    {
     "name": "stdout",
     "output_type": "stream",
     "text": [
      "No data found for PWER from 2000-10-23 until 2005-03-14"
     ]
    },
    {
     "name": "stderr",
     "output_type": "stream",
     "text": [
      " 92%|█████████▏| 1065/1156 [1:05:13<13:05,  8.64s/it]"
     ]
    },
    {
     "name": "stdout",
     "output_type": "stream",
     "text": [
      "404 not found from api for ticker: GWF\n"
     ]
    },
    {
     "name": "stderr",
     "output_type": "stream",
     "text": [
      " 92%|█████████▏| 1067/1156 [1:05:18<07:55,  5.34s/it]"
     ]
    },
    {
     "name": "stdout",
     "output_type": "stream",
     "text": [
      "No data found for HDLM from 1996-01-02 until 1996-03-08"
     ]
    },
    {
     "name": "stderr",
     "output_type": "stream",
     "text": [
      " 93%|█████████▎| 1073/1156 [1:05:33<03:34,  2.59s/it]"
     ]
    },
    {
     "name": "stdout",
     "output_type": "stream",
     "text": [
      "404 not found from api for ticker: SHN\n"
     ]
    },
    {
     "name": "stderr",
     "output_type": "stream",
     "text": [
      " 93%|█████████▎| 1080/1156 [1:05:46<02:03,  1.62s/it]"
     ]
    },
    {
     "name": "stdout",
     "output_type": "stream",
     "text": [
      "No data found for DNB from 2008-12-02 until 2017-04-05"
     ]
    },
    {
     "name": "stderr",
     "output_type": "stream",
     "text": [
      " 94%|█████████▎| 1083/1156 [1:05:56<02:49,  2.32s/it]"
     ]
    },
    {
     "name": "stdout",
     "output_type": "stream",
     "text": [
      "No data found for FG from 1996-01-02 until 1998-04-27"
     ]
    },
    {
     "name": "stderr",
     "output_type": "stream",
     "text": [
      " 94%|█████████▍| 1088/1156 [1:06:44<05:39,  4.99s/it]"
     ]
    },
    {
     "name": "stdout",
     "output_type": "stream",
     "text": [
      "No data found for MTL from 1998-02-23 until 1999-09-20"
     ]
    },
    {
     "name": "stderr",
     "output_type": "stream",
     "text": [
      " 94%|█████████▍| 1089/1156 [1:06:45<04:11,  3.75s/it]"
     ]
    },
    {
     "name": "stdout",
     "output_type": "stream",
     "text": [
      "No data found for CHIR from 2000-11-24 until 2006-04-20"
     ]
    },
    {
     "name": "stderr",
     "output_type": "stream",
     "text": [
      " 94%|█████████▍| 1092/1156 [1:06:53<03:00,  2.81s/it]"
     ]
    },
    {
     "name": "stdout",
     "output_type": "stream",
     "text": [
      "No data found for WYND from 2006-08-01 until 2018-05-31"
     ]
    },
    {
     "name": "stderr",
     "output_type": "stream",
     "text": [
      " 95%|█████████▌| 1103/1156 [1:07:50<05:19,  6.04s/it]"
     ]
    },
    {
     "name": "stdout",
     "output_type": "stream",
     "text": [
      "No data found for CHA from 1996-01-02 until 2000-06-19"
     ]
    },
    {
     "name": "stderr",
     "output_type": "stream",
     "text": [
      " 96%|█████████▌| 1104/1156 [1:07:51<03:55,  4.53s/it]"
     ]
    },
    {
     "name": "stdout",
     "output_type": "stream",
     "text": [
      "No data found for FSL from 2004-12-03 until 2006-12-04"
     ]
    },
    {
     "name": "stderr",
     "output_type": "stream",
     "text": [
      " 96%|█████████▌| 1109/1156 [1:08:01<01:46,  2.27s/it]"
     ]
    },
    {
     "name": "stdout",
     "output_type": "stream",
     "text": [
      "No data found for FTL.A from 1996-01-02 until 1999-10-01"
     ]
    },
    {
     "name": "stderr",
     "output_type": "stream",
     "text": [
      " 96%|█████████▌| 1112/1156 [1:08:42<06:47,  9.27s/it]"
     ]
    },
    {
     "name": "stdout",
     "output_type": "stream",
     "text": [
      "No data found for PAC from 1996-01-02 until 1997-04-01"
     ]
    },
    {
     "name": "stderr",
     "output_type": "stream",
     "text": [
      " 97%|█████████▋| 1125/1156 [1:09:34<01:14,  2.42s/it]"
     ]
    },
    {
     "name": "stdout",
     "output_type": "stream",
     "text": [
      "No data found for LEHMQ from 1998-01-12 until 2008-09-17"
     ]
    },
    {
     "name": "stderr",
     "output_type": "stream",
     "text": [
      " 97%|█████████▋| 1126/1156 [1:09:35<00:58,  1.96s/it]"
     ]
    },
    {
     "name": "stdout",
     "output_type": "stream",
     "text": [
      "No data found for DTV from 2006-12-04 until 2015-07-27"
     ]
    },
    {
     "name": "stderr",
     "output_type": "stream",
     "text": [
      " 98%|█████████▊| 1138/1156 [1:10:40<00:57,  3.21s/it]"
     ]
    },
    {
     "name": "stdout",
     "output_type": "stream",
     "text": [
      "No data found for BFO from 1996-01-02 until 2000-10-03"
     ]
    },
    {
     "name": "stderr",
     "output_type": "stream",
     "text": [
      " 99%|█████████▊| 1140/1156 [1:10:44<00:45,  2.83s/it]"
     ]
    },
    {
     "name": "stdout",
     "output_type": "stream",
     "text": [
      "No data found for MOB from 1996-01-02 until 1999-12-01"
     ]
    },
    {
     "name": "stderr",
     "output_type": "stream",
     "text": [
      " 99%|█████████▉| 1143/1156 [1:11:10<01:05,  5.02s/it]"
     ]
    },
    {
     "name": "stdout",
     "output_type": "stream",
     "text": [
      "No data found for COC.B from 1999-08-09 until 2002-09-03"
     ]
    },
    {
     "name": "stderr",
     "output_type": "stream",
     "text": [
      "100%|██████████| 1156/1156 [1:11:40<00:00,  3.72s/it]\n"
     ]
    }
   ],
   "source": [
    "import pickle\n",
    "import os \n",
    "\n",
    "with open(\"eod_key.pkl\", \"rb\") as input_file:\n",
    "  eod_key = pickle.load(input_file)\n",
    "\n",
    "from urllib.request import urlopen\n",
    "import pandas as pd\n",
    "import numpy as np\n",
    "import urllib.request\n",
    "from urllib.error import HTTPError\n",
    "\n",
    "# Function to get the Data\n",
    "\n",
    "def get_jsonparsed_data(url):\n",
    "    res = urlopen(url)\n",
    "    data = res.read().decode(\"utf-8\")\n",
    "    return json.loads(data)\n",
    "\n",
    "def find_when_active(cons,tick):\n",
    "    '''\n",
    "    oututs a list of tuples containing the datetimes of when it first started and ended being part of the s&p500\n",
    "    '''\n",
    "    mask = cons['tickers'].apply(lambda x: tick in x)\n",
    "    part_of = []\n",
    "    active = False\n",
    "    for idx in range(len(cons)):\n",
    "        # first time appearing \n",
    "        if not active and mask.iloc[idx]:\n",
    "            start    = mask.index[idx]\n",
    "            active = True\n",
    "            continue\n",
    "        # removed from index\n",
    "        if active and not mask.iloc[idx]:\n",
    "            end      = mask.index[idx]\n",
    "            active   = False\n",
    "            part_of.append((start,end))\n",
    "            continue\n",
    "\n",
    "    if active:\n",
    "        end = mask.index[-1]\n",
    "        part_of.append((start,end))\n",
    "    assert len(part_of) != 0\n",
    "    return part_of\n",
    "\n",
    "import datetime as dt\n",
    "from tqdm import tqdm \n",
    "\n",
    "filename = 'price_df.csv'\n",
    "\n",
    "# first look up the historical s&p 500 constituents\n",
    "constituents = pd.read_csv('sp500.csv')\n",
    "constituents.date  = pd.to_datetime(constituents.date)\n",
    "constituents.set_index(constituents.date, inplace=True)\n",
    "constituents.drop(columns=['date'],inplace=True)\n",
    "\n",
    "constituents['tickers'] = constituents['tickers'].apply(lambda row: row.split(','))\n",
    "all_tickers = set(np.concatenate(constituents.tickers.values))\n",
    "\n",
    "begin = constituents.index[0]\n",
    "end   = constituents.index[-1]\n",
    "\n",
    "price_df = pd.DataFrame(index=pd.date_range(start=begin, end=end, freq=\"B\"), columns = list(all_tickers))\n",
    "failed_to_add = list()\n",
    "\n",
    "# check if the file already exists\n",
    "# if os.path.exists(filename):\n",
    "#     price_df = pd.read_csv(filename)\n",
    "#     price_df = price_df.rename(columns={'Unnamed: 0':'date'})\n",
    "#     price_df.set_index('date', inplace=True)    \n",
    "\n",
    "for count, ticker in enumerate(tqdm(all_tickers)):\n",
    "    # find the correct dates the stock was part of the s&p 500\n",
    "    for start, stop in find_when_active(constituents, ticker):\n",
    "        # fetch data using eod api\n",
    "        try:\n",
    "            df  = get_jsonparsed_data(\"https://eodhd.com/api/eod/{}.US?from={}&to={}&period=d&api_token={}&fmt=json\".format(ticker.replace('.','-'),\n",
    "                start.strftime('%Y-%m-%d'),stop.strftime('%Y-%m-%d'), eod_key))\n",
    "        except HTTPError as e:\n",
    "            if e.code == 404:\n",
    "                print('404 not found from api for ticker: {}'.format(ticker))\n",
    "                failed_to_add.append(ticker)\n",
    "                continue\n",
    "            else:\n",
    "                print(e)\n",
    "        # output if no data was able to be found\n",
    "        if len(df) == 0:\n",
    "            print('No data found for {} from {} until {}'.format(ticker,start.strftime('%Y-%m-%d'),stop.strftime('%Y-%m-%d')),end=\"\")\n",
    "            failed_to_add.append(ticker)\n",
    "            continue\n",
    "        df1 = pd.DataFrame(df)\n",
    "        df1['date'] = pd.to_datetime(df1['date'])\n",
    "        df1.set_index('date',inplace=True)\n",
    "        # merge the dataset\n",
    "        price_df.loc[df1.index, ticker] = df1['adjusted_close']    \n",
    "\n",
    "    #occasionally backup the dataframe\n",
    "    if count % 20 == 0:\n",
    "        price_df.to_csv(filename)\n",
    "\n",
    "price_df.to_csv(filename) #save when done"
   ]
  },
  {
   "cell_type": "markdown",
   "metadata": {},
   "source": [
    "### 2) dataset generated using fmp"
   ]
  },
  {
   "cell_type": "code",
   "execution_count": 8,
   "metadata": {},
   "outputs": [
    {
     "ename": "KeyboardInterrupt",
     "evalue": "",
     "output_type": "error",
     "traceback": [
      "\u001b[0;31m---------------------------------------------------------------------------\u001b[0m",
      "\u001b[0;31mKeyboardInterrupt\u001b[0m                         Traceback (most recent call last)",
      "\u001b[1;32m/Users/quintengeerts/Desktop/master thesis/stat_arb_thesis/empirical_analysis/data_gathering.ipynb Cell 5\u001b[0m line \u001b[0;36m4\n\u001b[1;32m     <a href='vscode-notebook-cell:/Users/quintengeerts/Desktop/master%20thesis/stat_arb_thesis/empirical_analysis/data_gathering.ipynb#W2sZmlsZQ%3D%3D?line=37'>38</a>\u001b[0m \u001b[39m# check if the file already exists\u001b[39;00m\n\u001b[1;32m     <a href='vscode-notebook-cell:/Users/quintengeerts/Desktop/master%20thesis/stat_arb_thesis/empirical_analysis/data_gathering.ipynb#W2sZmlsZQ%3D%3D?line=38'>39</a>\u001b[0m \u001b[39mif\u001b[39;00m os\u001b[39m.\u001b[39mpath\u001b[39m.\u001b[39mexists(filename):\n\u001b[0;32m---> <a href='vscode-notebook-cell:/Users/quintengeerts/Desktop/master%20thesis/stat_arb_thesis/empirical_analysis/data_gathering.ipynb#W2sZmlsZQ%3D%3D?line=39'>40</a>\u001b[0m     price_df \u001b[39m=\u001b[39m pd\u001b[39m.\u001b[39;49mread_csv(filename)\n\u001b[1;32m     <a href='vscode-notebook-cell:/Users/quintengeerts/Desktop/master%20thesis/stat_arb_thesis/empirical_analysis/data_gathering.ipynb#W2sZmlsZQ%3D%3D?line=40'>41</a>\u001b[0m     price_df \u001b[39m=\u001b[39m price_df\u001b[39m.\u001b[39mrename(columns\u001b[39m=\u001b[39m{\u001b[39m'\u001b[39m\u001b[39mUnnamed: 0\u001b[39m\u001b[39m'\u001b[39m:\u001b[39m'\u001b[39m\u001b[39mdate\u001b[39m\u001b[39m'\u001b[39m})\n\u001b[1;32m     <a href='vscode-notebook-cell:/Users/quintengeerts/Desktop/master%20thesis/stat_arb_thesis/empirical_analysis/data_gathering.ipynb#W2sZmlsZQ%3D%3D?line=41'>42</a>\u001b[0m     price_df\u001b[39m.\u001b[39mset_index(\u001b[39m'\u001b[39m\u001b[39mdate\u001b[39m\u001b[39m'\u001b[39m, inplace\u001b[39m=\u001b[39m\u001b[39mTrue\u001b[39;00m)    \n",
      "File \u001b[0;32m/opt/anaconda3/envs/deep_learning/lib/python3.8/site-packages/pandas/util/_decorators.py:211\u001b[0m, in \u001b[0;36mdeprecate_kwarg.<locals>._deprecate_kwarg.<locals>.wrapper\u001b[0;34m(*args, **kwargs)\u001b[0m\n\u001b[1;32m    209\u001b[0m     \u001b[39melse\u001b[39;00m:\n\u001b[1;32m    210\u001b[0m         kwargs[new_arg_name] \u001b[39m=\u001b[39m new_arg_value\n\u001b[0;32m--> 211\u001b[0m \u001b[39mreturn\u001b[39;00m func(\u001b[39m*\u001b[39;49margs, \u001b[39m*\u001b[39;49m\u001b[39m*\u001b[39;49mkwargs)\n",
      "File \u001b[0;32m/opt/anaconda3/envs/deep_learning/lib/python3.8/site-packages/pandas/util/_decorators.py:331\u001b[0m, in \u001b[0;36mdeprecate_nonkeyword_arguments.<locals>.decorate.<locals>.wrapper\u001b[0;34m(*args, **kwargs)\u001b[0m\n\u001b[1;32m    325\u001b[0m \u001b[39mif\u001b[39;00m \u001b[39mlen\u001b[39m(args) \u001b[39m>\u001b[39m num_allow_args:\n\u001b[1;32m    326\u001b[0m     warnings\u001b[39m.\u001b[39mwarn(\n\u001b[1;32m    327\u001b[0m         msg\u001b[39m.\u001b[39mformat(arguments\u001b[39m=\u001b[39m_format_argument_list(allow_args)),\n\u001b[1;32m    328\u001b[0m         \u001b[39mFutureWarning\u001b[39;00m,\n\u001b[1;32m    329\u001b[0m         stacklevel\u001b[39m=\u001b[39mfind_stack_level(),\n\u001b[1;32m    330\u001b[0m     )\n\u001b[0;32m--> 331\u001b[0m \u001b[39mreturn\u001b[39;00m func(\u001b[39m*\u001b[39;49margs, \u001b[39m*\u001b[39;49m\u001b[39m*\u001b[39;49mkwargs)\n",
      "File \u001b[0;32m/opt/anaconda3/envs/deep_learning/lib/python3.8/site-packages/pandas/io/parsers/readers.py:950\u001b[0m, in \u001b[0;36mread_csv\u001b[0;34m(filepath_or_buffer, sep, delimiter, header, names, index_col, usecols, squeeze, prefix, mangle_dupe_cols, dtype, engine, converters, true_values, false_values, skipinitialspace, skiprows, skipfooter, nrows, na_values, keep_default_na, na_filter, verbose, skip_blank_lines, parse_dates, infer_datetime_format, keep_date_col, date_parser, dayfirst, cache_dates, iterator, chunksize, compression, thousands, decimal, lineterminator, quotechar, quoting, doublequote, escapechar, comment, encoding, encoding_errors, dialect, error_bad_lines, warn_bad_lines, on_bad_lines, delim_whitespace, low_memory, memory_map, float_precision, storage_options)\u001b[0m\n\u001b[1;32m    935\u001b[0m kwds_defaults \u001b[39m=\u001b[39m _refine_defaults_read(\n\u001b[1;32m    936\u001b[0m     dialect,\n\u001b[1;32m    937\u001b[0m     delimiter,\n\u001b[0;32m   (...)\u001b[0m\n\u001b[1;32m    946\u001b[0m     defaults\u001b[39m=\u001b[39m{\u001b[39m\"\u001b[39m\u001b[39mdelimiter\u001b[39m\u001b[39m\"\u001b[39m: \u001b[39m\"\u001b[39m\u001b[39m,\u001b[39m\u001b[39m\"\u001b[39m},\n\u001b[1;32m    947\u001b[0m )\n\u001b[1;32m    948\u001b[0m kwds\u001b[39m.\u001b[39mupdate(kwds_defaults)\n\u001b[0;32m--> 950\u001b[0m \u001b[39mreturn\u001b[39;00m _read(filepath_or_buffer, kwds)\n",
      "File \u001b[0;32m/opt/anaconda3/envs/deep_learning/lib/python3.8/site-packages/pandas/io/parsers/readers.py:611\u001b[0m, in \u001b[0;36m_read\u001b[0;34m(filepath_or_buffer, kwds)\u001b[0m\n\u001b[1;32m    608\u001b[0m     \u001b[39mreturn\u001b[39;00m parser\n\u001b[1;32m    610\u001b[0m \u001b[39mwith\u001b[39;00m parser:\n\u001b[0;32m--> 611\u001b[0m     \u001b[39mreturn\u001b[39;00m parser\u001b[39m.\u001b[39;49mread(nrows)\n",
      "File \u001b[0;32m/opt/anaconda3/envs/deep_learning/lib/python3.8/site-packages/pandas/io/parsers/readers.py:1778\u001b[0m, in \u001b[0;36mTextFileReader.read\u001b[0;34m(self, nrows)\u001b[0m\n\u001b[1;32m   1771\u001b[0m nrows \u001b[39m=\u001b[39m validate_integer(\u001b[39m\"\u001b[39m\u001b[39mnrows\u001b[39m\u001b[39m\"\u001b[39m, nrows)\n\u001b[1;32m   1772\u001b[0m \u001b[39mtry\u001b[39;00m:\n\u001b[1;32m   1773\u001b[0m     \u001b[39m# error: \"ParserBase\" has no attribute \"read\"\u001b[39;00m\n\u001b[1;32m   1774\u001b[0m     (\n\u001b[1;32m   1775\u001b[0m         index,\n\u001b[1;32m   1776\u001b[0m         columns,\n\u001b[1;32m   1777\u001b[0m         col_dict,\n\u001b[0;32m-> 1778\u001b[0m     ) \u001b[39m=\u001b[39m \u001b[39mself\u001b[39;49m\u001b[39m.\u001b[39;49m_engine\u001b[39m.\u001b[39;49mread(  \u001b[39m# type: ignore[attr-defined]\u001b[39;49;00m\n\u001b[1;32m   1779\u001b[0m         nrows\n\u001b[1;32m   1780\u001b[0m     )\n\u001b[1;32m   1781\u001b[0m \u001b[39mexcept\u001b[39;00m \u001b[39mException\u001b[39;00m:\n\u001b[1;32m   1782\u001b[0m     \u001b[39mself\u001b[39m\u001b[39m.\u001b[39mclose()\n",
      "File \u001b[0;32m/opt/anaconda3/envs/deep_learning/lib/python3.8/site-packages/pandas/io/parsers/c_parser_wrapper.py:230\u001b[0m, in \u001b[0;36mCParserWrapper.read\u001b[0;34m(self, nrows)\u001b[0m\n\u001b[1;32m    228\u001b[0m \u001b[39mtry\u001b[39;00m:\n\u001b[1;32m    229\u001b[0m     \u001b[39mif\u001b[39;00m \u001b[39mself\u001b[39m\u001b[39m.\u001b[39mlow_memory:\n\u001b[0;32m--> 230\u001b[0m         chunks \u001b[39m=\u001b[39m \u001b[39mself\u001b[39;49m\u001b[39m.\u001b[39;49m_reader\u001b[39m.\u001b[39;49mread_low_memory(nrows)\n\u001b[1;32m    231\u001b[0m         \u001b[39m# destructive to chunks\u001b[39;00m\n\u001b[1;32m    232\u001b[0m         data \u001b[39m=\u001b[39m _concatenate_chunks(chunks)\n",
      "File \u001b[0;32m/opt/anaconda3/envs/deep_learning/lib/python3.8/site-packages/pandas/_libs/parsers.pyx:808\u001b[0m, in \u001b[0;36mpandas._libs.parsers.TextReader.read_low_memory\u001b[0;34m()\u001b[0m\n",
      "File \u001b[0;32m/opt/anaconda3/envs/deep_learning/lib/python3.8/site-packages/pandas/_libs/parsers.pyx:890\u001b[0m, in \u001b[0;36mpandas._libs.parsers.TextReader._read_rows\u001b[0;34m()\u001b[0m\n",
      "File \u001b[0;32m/opt/anaconda3/envs/deep_learning/lib/python3.8/site-packages/pandas/_libs/parsers.pyx:1050\u001b[0m, in \u001b[0;36mpandas._libs.parsers.TextReader._convert_column_data\u001b[0;34m()\u001b[0m\n",
      "File \u001b[0;32m/opt/anaconda3/envs/deep_learning/lib/python3.8/site-packages/pandas/_libs/parsers.pyx:1388\u001b[0m, in \u001b[0;36mpandas._libs.parsers._maybe_upcast\u001b[0;34m()\u001b[0m\n",
      "File \u001b[0;32m<__array_function__ internals>:177\u001b[0m, in \u001b[0;36mputmask\u001b[0;34m(*args, **kwargs)\u001b[0m\n",
      "\u001b[0;31mKeyboardInterrupt\u001b[0m: "
     ]
    }
   ],
   "source": [
    "import pickle\n",
    "import os \n",
    "with open(\"fmp_key.pkl\", \"rb\") as input_file:\n",
    "  fmp_key = pickle.load(input_file)\n",
    "\n",
    "with open(\"eod_key.pkl\", \"rb\") as input_file:\n",
    "  eod_key = pickle.load(input_file)\n",
    "\n",
    "import urllib, json\n",
    "import requests\n",
    "from urllib.request import urlopen\n",
    "import pandas as pd\n",
    "\n",
    "# Function to get the Data\n",
    "\n",
    "def get_jsonparsed_data(url):\n",
    "    res = urlopen(url)\n",
    "    data = res.read().decode(\"utf-8\")\n",
    "    return json.loads(data)\n",
    "\n",
    "import datetime as dt\n",
    "from tqdm import tqdm \n",
    "\n",
    "filename = 'price_df.csv'\n",
    "data_provider  = 'eod' # other choice is 'fmp'\n",
    "\n",
    "# first look up the historical s&p 500 constituents\n",
    "constituents = get_jsonparsed_data(\"https://financialmodelingprep.com/api/v3/historical/sp500_constituent?apikey={}\".format(fmp_key))\n",
    "constituents = pd.DataFrame(constituents)\n",
    "constituents['date'] = pd.to_datetime(constituents['date'])\n",
    "all_tickers = set(constituents['symbol'].values)\n",
    "\n",
    "begin = dt.datetime(1980,1,2)\n",
    "end   = dt.datetime(2024,1,1)\n",
    "\n",
    "price_df = pd.DataFrame(index=pd.date_range(start=begin, end=end, freq=\"B\"))\n",
    "failed_to_add = list()\n",
    "# check if the file already exists\n",
    "if os.path.exists(filename):\n",
    "    price_df = pd.read_csv(filename)\n",
    "    price_df = price_df.rename(columns={'Unnamed: 0':'date'})\n",
    "    price_df.set_index('date', inplace=True)    \n",
    "\n",
    "for count, ticker in enumerate(tqdm(all_tickers)):\n",
    "    # find the correct dates the stock was part of the s&p 500\n",
    "    date_begin = begin\n",
    "    date_end   = end\n",
    "    ticker = ticker.split(\" \")[0]\n",
    "    \n",
    "    if ticker in price_df.columns:\n",
    "        continue\n",
    "    for _, row in constituents[constituents.symbol == ticker].iterrows():\n",
    "        if len(row['addedSecurity']) != 0:\n",
    "            date_begin = begin if row.date <= begin else row.date\n",
    "        if len(row['removedSecurity']) != 0:\n",
    "            date_end = end if row.date >= end else end\n",
    "\n",
    "    if data_provider == 'fmp':\n",
    "        # get the data from the fmp api\n",
    "        df = get_jsonparsed_data(\"https://financialmodelingprep.com/api/v3/historical-price-full/{}?from={}&to={}&apikey={}\".format(ticker,\n",
    "            date_begin.strftime('%Y-%m-%d'),date_end.strftime('%Y-%m-%d'),fmp_key))\n",
    "        if len(df) == 0:\n",
    "            print('could not add {}'.format(ticker),end=\"\")\n",
    "            failed_to_add.append(ticker)\n",
    "            continue\n",
    "        df1 = pd.DataFrame(df['historical'])\n",
    "        df1['date'] = pd.to_datetime(df1['date'])\n",
    "        df1.set_index('date',inplace=True)\n",
    "        # merge the dataset\n",
    "        price_df = pd.merge(price_df, df1['adjClose'], how='left', left_index=True, right_index=True)\n",
    "        price_df = price_df.rename(columns={'adjClose': ticker})\n",
    "    elif data_provider == 'eod':\n",
    "        df  = get_jsonparsed_data(\"https://eodhd.com/api/eod/{}.US?from={}&to={}&period=d&api_token={}&fmt=json\".format(ticker,\n",
    "            date_begin.strftime('%Y-%m-%d'),date_end.strftime('%Y-%m-%d'), eod_key))\n",
    "        if len(df) == 0:\n",
    "            print('could not add {}'.format(ticker),end=\"\")\n",
    "            failed_to_add.append(ticker)\n",
    "            continue\n",
    "        df1 = pd.DataFrame(df)\n",
    "        df1['date'] = pd.to_datetime(df1['date'])\n",
    "        df1.set_index('date',inplace=True)\n",
    "        # merge the dataset\n",
    "        price_df = pd.merge(price_df, df1['adjusted_close'], how='left', left_index=True, right_index=True)\n",
    "        price_df = price_df.rename(columns={'adjusted_close': ticker})\n",
    "\n",
    "    # occasionally backup the dataframe\n",
    "    if count % 20 == 0:\n",
    "        price_df.to_csv(filename)"
   ]
  },
  {
   "cell_type": "markdown",
   "metadata": {},
   "source": [
    "### 3) dataset generated using WRDS"
   ]
  },
  {
   "cell_type": "code",
   "execution_count": 139,
   "metadata": {},
   "outputs": [],
   "source": [
    "import pandas as pd\n",
    "import numpy as np\n",
    "import datetime as dt\n",
    "from tqdm import tqdm"
   ]
  },
  {
   "cell_type": "code",
   "execution_count": 51,
   "metadata": {},
   "outputs": [
    {
     "name": "stderr",
     "output_type": "stream",
     "text": [
      "/var/folders/qc/v9nsdlnj777f923zdc9n38vw0000gn/T/ipykernel_90685/3119658163.py:1: DtypeWarning: Columns (12,18) have mixed types. Specify dtype option on import or set low_memory=False.\n",
      "  data = pd.read_csv('wrds_data.csv')\n"
     ]
    }
   ],
   "source": [
    "data = pd.read_csv('wrds_data_raw.csv')\n",
    "data.date = pd.to_datetime(data.date)"
   ]
  },
  {
   "cell_type": "code",
   "execution_count": 73,
   "metadata": {},
   "outputs": [],
   "source": [
    "constituents = pd.read_csv('wrds_sp500_cons.csv')\n",
    "constituents.drop(columns=['Unnamed: 0'],inplace=True)\n",
    "constituents['SP500 End'] = pd.to_datetime(constituents['SP500 End'])\n",
    "constituents['SP500 Start'] = pd.to_datetime(constituents['SP500 Start'])"
   ]
  },
  {
   "cell_type": "code",
   "execution_count": 166,
   "metadata": {},
   "outputs": [
    {
     "name": "stderr",
     "output_type": "stream",
     "text": [
      "100%|██████████| 1179/1179 [04:45<00:00,  4.13it/s]\n"
     ]
    }
   ],
   "source": [
    "returns_dataset = pd.DataFrame()\n",
    "for permno in tqdm(set(data['PERMNO'].values)):\n",
    "    date_ranges = set([(row['SP500 Start'],row['SP500 End']) for _, row in constituents.loc[constituents['PERMNO'] == permno].iterrows()])\n",
    "    slices = [(data['PERMNO'] == permno) & (data['date'] >= start) & (data['date'] <= end) for start, end in date_ranges]\n",
    "    if len(slices) > 1:\n",
    "        mask   = np.bitwise_or(*slices)\n",
    "    else:\n",
    "        mask   = slices[0]\n",
    "    data_sliced = data[mask].set_index('date')\n",
    "    data_sliced = pd.DataFrame(data=data_sliced['RET'].values, index=data_sliced.index, columns=[constituents.loc[constituents['PERMNO'] == permno,'Ticker'].values[0]]) \n",
    "    returns_dataset = pd.merge(returns_dataset, data_sliced, how='outer', left_index=True, right_index=True)"
   ]
  },
  {
   "cell_type": "code",
   "execution_count": 193,
   "metadata": {},
   "outputs": [
    {
     "data": {
      "text/html": [
       "<div>\n",
       "<style scoped>\n",
       "    .dataframe tbody tr th:only-of-type {\n",
       "        vertical-align: middle;\n",
       "    }\n",
       "\n",
       "    .dataframe tbody tr th {\n",
       "        vertical-align: top;\n",
       "    }\n",
       "\n",
       "    .dataframe thead th {\n",
       "        text-align: right;\n",
       "    }\n",
       "</style>\n",
       "<table border=\"1\" class=\"dataframe\">\n",
       "  <thead>\n",
       "    <tr style=\"text-align: right;\">\n",
       "      <th></th>\n",
       "      <th>NUE</th>\n",
       "      <th>HLT_x</th>\n",
       "      <th>ABT</th>\n",
       "      <th>CEN</th>\n",
       "      <th>DH</th>\n",
       "      <th>COO</th>\n",
       "      <th>SOTR</th>\n",
       "      <th>JDSU</th>\n",
       "      <th>URBN</th>\n",
       "      <th>ANF</th>\n",
       "      <th>...</th>\n",
       "      <th>ANDW</th>\n",
       "      <th>FOXA</th>\n",
       "      <th>FOX_y</th>\n",
       "      <th>PPL</th>\n",
       "      <th>TXU</th>\n",
       "      <th>MEL</th>\n",
       "      <th>GNT</th>\n",
       "      <th>DOW_y</th>\n",
       "      <th>TEL</th>\n",
       "      <th>HSP</th>\n",
       "    </tr>\n",
       "    <tr>\n",
       "      <th>date</th>\n",
       "      <th></th>\n",
       "      <th></th>\n",
       "      <th></th>\n",
       "      <th></th>\n",
       "      <th></th>\n",
       "      <th></th>\n",
       "      <th></th>\n",
       "      <th></th>\n",
       "      <th></th>\n",
       "      <th></th>\n",
       "      <th></th>\n",
       "      <th></th>\n",
       "      <th></th>\n",
       "      <th></th>\n",
       "      <th></th>\n",
       "      <th></th>\n",
       "      <th></th>\n",
       "      <th></th>\n",
       "      <th></th>\n",
       "      <th></th>\n",
       "      <th></th>\n",
       "    </tr>\n",
       "  </thead>\n",
       "  <tbody>\n",
       "    <tr>\n",
       "      <th>1995-01-03</th>\n",
       "      <td>-0.011287</td>\n",
       "      <td>NaN</td>\n",
       "      <td>0.003831</td>\n",
       "      <td>0.0</td>\n",
       "      <td>-0.010601</td>\n",
       "      <td>NaN</td>\n",
       "      <td>NaN</td>\n",
       "      <td>NaN</td>\n",
       "      <td>NaN</td>\n",
       "      <td>NaN</td>\n",
       "      <td>...</td>\n",
       "      <td>0.000000</td>\n",
       "      <td>NaN</td>\n",
       "      <td>NaN</td>\n",
       "      <td>NaN</td>\n",
       "      <td>0.011719</td>\n",
       "      <td>0.032653</td>\n",
       "      <td>NaN</td>\n",
       "      <td>NaN</td>\n",
       "      <td>NaN</td>\n",
       "      <td>NaN</td>\n",
       "    </tr>\n",
       "    <tr>\n",
       "      <th>1995-01-04</th>\n",
       "      <td>0.018265</td>\n",
       "      <td>NaN</td>\n",
       "      <td>0.000000</td>\n",
       "      <td>0.013953</td>\n",
       "      <td>-0.001786</td>\n",
       "      <td>NaN</td>\n",
       "      <td>NaN</td>\n",
       "      <td>NaN</td>\n",
       "      <td>NaN</td>\n",
       "      <td>NaN</td>\n",
       "      <td>...</td>\n",
       "      <td>-0.009569</td>\n",
       "      <td>NaN</td>\n",
       "      <td>NaN</td>\n",
       "      <td>NaN</td>\n",
       "      <td>0.015444</td>\n",
       "      <td>0.011858</td>\n",
       "      <td>NaN</td>\n",
       "      <td>NaN</td>\n",
       "      <td>NaN</td>\n",
       "      <td>NaN</td>\n",
       "    </tr>\n",
       "    <tr>\n",
       "      <th>1995-01-05</th>\n",
       "      <td>-0.013453</td>\n",
       "      <td>NaN</td>\n",
       "      <td>-0.007634</td>\n",
       "      <td>0.0</td>\n",
       "      <td>0.0161</td>\n",
       "      <td>NaN</td>\n",
       "      <td>NaN</td>\n",
       "      <td>NaN</td>\n",
       "      <td>NaN</td>\n",
       "      <td>NaN</td>\n",
       "      <td>...</td>\n",
       "      <td>-0.014493</td>\n",
       "      <td>NaN</td>\n",
       "      <td>NaN</td>\n",
       "      <td>NaN</td>\n",
       "      <td>0.0</td>\n",
       "      <td>0.003906</td>\n",
       "      <td>NaN</td>\n",
       "      <td>NaN</td>\n",
       "      <td>NaN</td>\n",
       "      <td>NaN</td>\n",
       "    </tr>\n",
       "    <tr>\n",
       "      <th>1995-01-06</th>\n",
       "      <td>0.045455</td>\n",
       "      <td>NaN</td>\n",
       "      <td>-0.015385</td>\n",
       "      <td>-0.018349</td>\n",
       "      <td>-0.007042</td>\n",
       "      <td>NaN</td>\n",
       "      <td>NaN</td>\n",
       "      <td>NaN</td>\n",
       "      <td>NaN</td>\n",
       "      <td>NaN</td>\n",
       "      <td>...</td>\n",
       "      <td>0.009804</td>\n",
       "      <td>NaN</td>\n",
       "      <td>NaN</td>\n",
       "      <td>NaN</td>\n",
       "      <td>0.003802</td>\n",
       "      <td>0.0</td>\n",
       "      <td>NaN</td>\n",
       "      <td>NaN</td>\n",
       "      <td>NaN</td>\n",
       "      <td>NaN</td>\n",
       "    </tr>\n",
       "    <tr>\n",
       "      <th>1995-01-09</th>\n",
       "      <td>-0.017391</td>\n",
       "      <td>NaN</td>\n",
       "      <td>-0.001875</td>\n",
       "      <td>-0.014019</td>\n",
       "      <td>-0.028369</td>\n",
       "      <td>NaN</td>\n",
       "      <td>NaN</td>\n",
       "      <td>NaN</td>\n",
       "      <td>NaN</td>\n",
       "      <td>NaN</td>\n",
       "      <td>...</td>\n",
       "      <td>0.009709</td>\n",
       "      <td>NaN</td>\n",
       "      <td>NaN</td>\n",
       "      <td>NaN</td>\n",
       "      <td>0.0</td>\n",
       "      <td>-0.003891</td>\n",
       "      <td>NaN</td>\n",
       "      <td>NaN</td>\n",
       "      <td>NaN</td>\n",
       "      <td>NaN</td>\n",
       "    </tr>\n",
       "    <tr>\n",
       "      <th>...</th>\n",
       "      <td>...</td>\n",
       "      <td>...</td>\n",
       "      <td>...</td>\n",
       "      <td>...</td>\n",
       "      <td>...</td>\n",
       "      <td>...</td>\n",
       "      <td>...</td>\n",
       "      <td>...</td>\n",
       "      <td>...</td>\n",
       "      <td>...</td>\n",
       "      <td>...</td>\n",
       "      <td>...</td>\n",
       "      <td>...</td>\n",
       "      <td>...</td>\n",
       "      <td>...</td>\n",
       "      <td>...</td>\n",
       "      <td>...</td>\n",
       "      <td>...</td>\n",
       "      <td>...</td>\n",
       "      <td>...</td>\n",
       "      <td>...</td>\n",
       "    </tr>\n",
       "    <tr>\n",
       "      <th>2023-12-22</th>\n",
       "      <td>0.008153</td>\n",
       "      <td>-0.000055</td>\n",
       "      <td>0.005070</td>\n",
       "      <td>NaN</td>\n",
       "      <td>0.005955</td>\n",
       "      <td>0.013407</td>\n",
       "      <td>NaN</td>\n",
       "      <td>NaN</td>\n",
       "      <td>NaN</td>\n",
       "      <td>NaN</td>\n",
       "      <td>...</td>\n",
       "      <td>NaN</td>\n",
       "      <td>-0.005339</td>\n",
       "      <td>-0.005020</td>\n",
       "      <td>0.016294</td>\n",
       "      <td>NaN</td>\n",
       "      <td>NaN</td>\n",
       "      <td>NaN</td>\n",
       "      <td>0.002729</td>\n",
       "      <td>0.007792</td>\n",
       "      <td>NaN</td>\n",
       "    </tr>\n",
       "    <tr>\n",
       "      <th>2023-12-26</th>\n",
       "      <td>0.001067</td>\n",
       "      <td>-0.001653</td>\n",
       "      <td>0.001834</td>\n",
       "      <td>NaN</td>\n",
       "      <td>0.00592</td>\n",
       "      <td>0.009561</td>\n",
       "      <td>NaN</td>\n",
       "      <td>NaN</td>\n",
       "      <td>NaN</td>\n",
       "      <td>NaN</td>\n",
       "      <td>...</td>\n",
       "      <td>NaN</td>\n",
       "      <td>0.002348</td>\n",
       "      <td>0.003604</td>\n",
       "      <td>0.005966</td>\n",
       "      <td>NaN</td>\n",
       "      <td>NaN</td>\n",
       "      <td>NaN</td>\n",
       "      <td>0.010704</td>\n",
       "      <td>0.002554</td>\n",
       "      <td>NaN</td>\n",
       "    </tr>\n",
       "    <tr>\n",
       "      <th>2023-12-27</th>\n",
       "      <td>-0.002132</td>\n",
       "      <td>0.001711</td>\n",
       "      <td>0.005127</td>\n",
       "      <td>NaN</td>\n",
       "      <td>0.009572</td>\n",
       "      <td>0.008038</td>\n",
       "      <td>NaN</td>\n",
       "      <td>NaN</td>\n",
       "      <td>NaN</td>\n",
       "      <td>NaN</td>\n",
       "      <td>...</td>\n",
       "      <td>NaN</td>\n",
       "      <td>-0.006024</td>\n",
       "      <td>-0.007540</td>\n",
       "      <td>0.002224</td>\n",
       "      <td>NaN</td>\n",
       "      <td>NaN</td>\n",
       "      <td>NaN</td>\n",
       "      <td>0.000000</td>\n",
       "      <td>-0.003962</td>\n",
       "      <td>NaN</td>\n",
       "    </tr>\n",
       "    <tr>\n",
       "      <th>2023-12-28</th>\n",
       "      <td>-0.012031</td>\n",
       "      <td>0.001212</td>\n",
       "      <td>0.005556</td>\n",
       "      <td>NaN</td>\n",
       "      <td>0.001124</td>\n",
       "      <td>-0.001211</td>\n",
       "      <td>NaN</td>\n",
       "      <td>NaN</td>\n",
       "      <td>NaN</td>\n",
       "      <td>NaN</td>\n",
       "      <td>...</td>\n",
       "      <td>NaN</td>\n",
       "      <td>0.001347</td>\n",
       "      <td>0.002171</td>\n",
       "      <td>0.004068</td>\n",
       "      <td>NaN</td>\n",
       "      <td>NaN</td>\n",
       "      <td>NaN</td>\n",
       "      <td>-0.008616</td>\n",
       "      <td>0.002131</td>\n",
       "      <td>NaN</td>\n",
       "    </tr>\n",
       "    <tr>\n",
       "      <th>2023-12-29</th>\n",
       "      <td>-0.006564</td>\n",
       "      <td>0.001926</td>\n",
       "      <td>-0.002989</td>\n",
       "      <td>NaN</td>\n",
       "      <td>-0.000842</td>\n",
       "      <td>-0.002898</td>\n",
       "      <td>NaN</td>\n",
       "      <td>NaN</td>\n",
       "      <td>NaN</td>\n",
       "      <td>NaN</td>\n",
       "      <td>...</td>\n",
       "      <td>NaN</td>\n",
       "      <td>-0.002354</td>\n",
       "      <td>-0.001805</td>\n",
       "      <td>-0.001842</td>\n",
       "      <td>NaN</td>\n",
       "      <td>NaN</td>\n",
       "      <td>NaN</td>\n",
       "      <td>-0.007061</td>\n",
       "      <td>-0.004041</td>\n",
       "      <td>NaN</td>\n",
       "    </tr>\n",
       "  </tbody>\n",
       "</table>\n",
       "<p>7301 rows × 1179 columns</p>\n",
       "</div>"
      ],
      "text/plain": [
       "                 NUE      HLT_x        ABT       CEN        DH       COO SOTR  \\\n",
       "date                                                                            \n",
       "1995-01-03 -0.011287        NaN   0.003831       0.0 -0.010601       NaN  NaN   \n",
       "1995-01-04  0.018265        NaN   0.000000  0.013953 -0.001786       NaN  NaN   \n",
       "1995-01-05 -0.013453        NaN  -0.007634       0.0    0.0161       NaN  NaN   \n",
       "1995-01-06  0.045455        NaN  -0.015385 -0.018349 -0.007042       NaN  NaN   \n",
       "1995-01-09 -0.017391        NaN  -0.001875 -0.014019 -0.028369       NaN  NaN   \n",
       "...              ...        ...        ...       ...       ...       ...  ...   \n",
       "2023-12-22  0.008153  -0.000055   0.005070       NaN  0.005955  0.013407  NaN   \n",
       "2023-12-26  0.001067  -0.001653   0.001834       NaN   0.00592  0.009561  NaN   \n",
       "2023-12-27 -0.002132   0.001711   0.005127       NaN  0.009572  0.008038  NaN   \n",
       "2023-12-28 -0.012031   0.001212   0.005556       NaN  0.001124 -0.001211  NaN   \n",
       "2023-12-29 -0.006564   0.001926  -0.002989       NaN -0.000842 -0.002898  NaN   \n",
       "\n",
       "           JDSU URBN  ANF  ...       ANDW       FOXA      FOX_y       PPL  \\\n",
       "date                       ...                                              \n",
       "1995-01-03  NaN  NaN  NaN  ...   0.000000        NaN        NaN       NaN   \n",
       "1995-01-04  NaN  NaN  NaN  ...  -0.009569        NaN        NaN       NaN   \n",
       "1995-01-05  NaN  NaN  NaN  ...  -0.014493        NaN        NaN       NaN   \n",
       "1995-01-06  NaN  NaN  NaN  ...   0.009804        NaN        NaN       NaN   \n",
       "1995-01-09  NaN  NaN  NaN  ...   0.009709        NaN        NaN       NaN   \n",
       "...         ...  ...  ...  ...        ...        ...        ...       ...   \n",
       "2023-12-22  NaN  NaN  NaN  ...        NaN  -0.005339  -0.005020  0.016294   \n",
       "2023-12-26  NaN  NaN  NaN  ...        NaN   0.002348   0.003604  0.005966   \n",
       "2023-12-27  NaN  NaN  NaN  ...        NaN  -0.006024  -0.007540  0.002224   \n",
       "2023-12-28  NaN  NaN  NaN  ...        NaN   0.001347   0.002171  0.004068   \n",
       "2023-12-29  NaN  NaN  NaN  ...        NaN  -0.002354  -0.001805 -0.001842   \n",
       "\n",
       "                 TXU       MEL  GNT      DOW_y        TEL  HSP  \n",
       "date                                                            \n",
       "1995-01-03  0.011719  0.032653  NaN        NaN        NaN  NaN  \n",
       "1995-01-04  0.015444  0.011858  NaN        NaN        NaN  NaN  \n",
       "1995-01-05       0.0  0.003906  NaN        NaN        NaN  NaN  \n",
       "1995-01-06  0.003802       0.0  NaN        NaN        NaN  NaN  \n",
       "1995-01-09       0.0 -0.003891  NaN        NaN        NaN  NaN  \n",
       "...              ...       ...  ...        ...        ...  ...  \n",
       "2023-12-22       NaN       NaN  NaN   0.002729   0.007792  NaN  \n",
       "2023-12-26       NaN       NaN  NaN   0.010704   0.002554  NaN  \n",
       "2023-12-27       NaN       NaN  NaN   0.000000  -0.003962  NaN  \n",
       "2023-12-28       NaN       NaN  NaN  -0.008616   0.002131  NaN  \n",
       "2023-12-29       NaN       NaN  NaN  -0.007061  -0.004041  NaN  \n",
       "\n",
       "[7301 rows x 1179 columns]"
      ]
     },
     "execution_count": 193,
     "metadata": {},
     "output_type": "execute_result"
    }
   ],
   "source": [
    "returns_dataset"
   ]
  },
  {
   "cell_type": "code",
   "execution_count": 197,
   "metadata": {},
   "outputs": [],
   "source": [
    "returns_dataset.to_csv('wrds_returns_data.csv')"
   ]
  },
  {
   "cell_type": "code",
   "execution_count": 203,
   "metadata": {},
   "outputs": [
    {
     "data": {
      "text/html": [
       "<div>\n",
       "<style scoped>\n",
       "    .dataframe tbody tr th:only-of-type {\n",
       "        vertical-align: middle;\n",
       "    }\n",
       "\n",
       "    .dataframe tbody tr th {\n",
       "        vertical-align: top;\n",
       "    }\n",
       "\n",
       "    .dataframe thead th {\n",
       "        text-align: right;\n",
       "    }\n",
       "</style>\n",
       "<table border=\"1\" class=\"dataframe\">\n",
       "  <thead>\n",
       "    <tr style=\"text-align: right;\">\n",
       "      <th></th>\n",
       "      <th>NUE</th>\n",
       "      <th>HLT_x</th>\n",
       "      <th>ABT</th>\n",
       "      <th>CEN</th>\n",
       "      <th>DH</th>\n",
       "      <th>COO</th>\n",
       "      <th>SOTR</th>\n",
       "      <th>JDSU</th>\n",
       "      <th>URBN</th>\n",
       "      <th>ANF</th>\n",
       "      <th>...</th>\n",
       "      <th>ANDW</th>\n",
       "      <th>FOXA</th>\n",
       "      <th>FOX_y</th>\n",
       "      <th>PPL</th>\n",
       "      <th>TXU</th>\n",
       "      <th>MEL</th>\n",
       "      <th>GNT</th>\n",
       "      <th>DOW_y</th>\n",
       "      <th>TEL</th>\n",
       "      <th>HSP</th>\n",
       "    </tr>\n",
       "    <tr>\n",
       "      <th>date</th>\n",
       "      <th></th>\n",
       "      <th></th>\n",
       "      <th></th>\n",
       "      <th></th>\n",
       "      <th></th>\n",
       "      <th></th>\n",
       "      <th></th>\n",
       "      <th></th>\n",
       "      <th></th>\n",
       "      <th></th>\n",
       "      <th></th>\n",
       "      <th></th>\n",
       "      <th></th>\n",
       "      <th></th>\n",
       "      <th></th>\n",
       "      <th></th>\n",
       "      <th></th>\n",
       "      <th></th>\n",
       "      <th></th>\n",
       "      <th></th>\n",
       "      <th></th>\n",
       "    </tr>\n",
       "  </thead>\n",
       "  <tbody>\n",
       "    <tr>\n",
       "      <th>1995-01-03</th>\n",
       "      <td>-0.011287</td>\n",
       "      <td>NaN</td>\n",
       "      <td>0.003831</td>\n",
       "      <td>0.0</td>\n",
       "      <td>-0.010601</td>\n",
       "      <td>NaN</td>\n",
       "      <td>NaN</td>\n",
       "      <td>NaN</td>\n",
       "      <td>NaN</td>\n",
       "      <td>NaN</td>\n",
       "      <td>...</td>\n",
       "      <td>0.000000</td>\n",
       "      <td>NaN</td>\n",
       "      <td>NaN</td>\n",
       "      <td>NaN</td>\n",
       "      <td>0.011719</td>\n",
       "      <td>0.032653</td>\n",
       "      <td>NaN</td>\n",
       "      <td>NaN</td>\n",
       "      <td>NaN</td>\n",
       "      <td>NaN</td>\n",
       "    </tr>\n",
       "    <tr>\n",
       "      <th>1995-01-04</th>\n",
       "      <td>0.018265</td>\n",
       "      <td>NaN</td>\n",
       "      <td>0.000000</td>\n",
       "      <td>0.013953</td>\n",
       "      <td>-0.001786</td>\n",
       "      <td>NaN</td>\n",
       "      <td>NaN</td>\n",
       "      <td>NaN</td>\n",
       "      <td>NaN</td>\n",
       "      <td>NaN</td>\n",
       "      <td>...</td>\n",
       "      <td>-0.009569</td>\n",
       "      <td>NaN</td>\n",
       "      <td>NaN</td>\n",
       "      <td>NaN</td>\n",
       "      <td>0.015444</td>\n",
       "      <td>0.011858</td>\n",
       "      <td>NaN</td>\n",
       "      <td>NaN</td>\n",
       "      <td>NaN</td>\n",
       "      <td>NaN</td>\n",
       "    </tr>\n",
       "    <tr>\n",
       "      <th>1995-01-05</th>\n",
       "      <td>-0.013453</td>\n",
       "      <td>NaN</td>\n",
       "      <td>-0.007634</td>\n",
       "      <td>0.0</td>\n",
       "      <td>0.0161</td>\n",
       "      <td>NaN</td>\n",
       "      <td>NaN</td>\n",
       "      <td>NaN</td>\n",
       "      <td>NaN</td>\n",
       "      <td>NaN</td>\n",
       "      <td>...</td>\n",
       "      <td>-0.014493</td>\n",
       "      <td>NaN</td>\n",
       "      <td>NaN</td>\n",
       "      <td>NaN</td>\n",
       "      <td>0.0</td>\n",
       "      <td>0.003906</td>\n",
       "      <td>NaN</td>\n",
       "      <td>NaN</td>\n",
       "      <td>NaN</td>\n",
       "      <td>NaN</td>\n",
       "    </tr>\n",
       "    <tr>\n",
       "      <th>1995-01-06</th>\n",
       "      <td>0.045455</td>\n",
       "      <td>NaN</td>\n",
       "      <td>-0.015385</td>\n",
       "      <td>-0.018349</td>\n",
       "      <td>-0.007042</td>\n",
       "      <td>NaN</td>\n",
       "      <td>NaN</td>\n",
       "      <td>NaN</td>\n",
       "      <td>NaN</td>\n",
       "      <td>NaN</td>\n",
       "      <td>...</td>\n",
       "      <td>0.009804</td>\n",
       "      <td>NaN</td>\n",
       "      <td>NaN</td>\n",
       "      <td>NaN</td>\n",
       "      <td>0.003802</td>\n",
       "      <td>0.0</td>\n",
       "      <td>NaN</td>\n",
       "      <td>NaN</td>\n",
       "      <td>NaN</td>\n",
       "      <td>NaN</td>\n",
       "    </tr>\n",
       "    <tr>\n",
       "      <th>1995-01-09</th>\n",
       "      <td>-0.017391</td>\n",
       "      <td>NaN</td>\n",
       "      <td>-0.001875</td>\n",
       "      <td>-0.014019</td>\n",
       "      <td>-0.028369</td>\n",
       "      <td>NaN</td>\n",
       "      <td>NaN</td>\n",
       "      <td>NaN</td>\n",
       "      <td>NaN</td>\n",
       "      <td>NaN</td>\n",
       "      <td>...</td>\n",
       "      <td>0.009709</td>\n",
       "      <td>NaN</td>\n",
       "      <td>NaN</td>\n",
       "      <td>NaN</td>\n",
       "      <td>0.0</td>\n",
       "      <td>-0.003891</td>\n",
       "      <td>NaN</td>\n",
       "      <td>NaN</td>\n",
       "      <td>NaN</td>\n",
       "      <td>NaN</td>\n",
       "    </tr>\n",
       "    <tr>\n",
       "      <th>...</th>\n",
       "      <td>...</td>\n",
       "      <td>...</td>\n",
       "      <td>...</td>\n",
       "      <td>...</td>\n",
       "      <td>...</td>\n",
       "      <td>...</td>\n",
       "      <td>...</td>\n",
       "      <td>...</td>\n",
       "      <td>...</td>\n",
       "      <td>...</td>\n",
       "      <td>...</td>\n",
       "      <td>...</td>\n",
       "      <td>...</td>\n",
       "      <td>...</td>\n",
       "      <td>...</td>\n",
       "      <td>...</td>\n",
       "      <td>...</td>\n",
       "      <td>...</td>\n",
       "      <td>...</td>\n",
       "      <td>...</td>\n",
       "      <td>...</td>\n",
       "    </tr>\n",
       "    <tr>\n",
       "      <th>2023-12-22</th>\n",
       "      <td>0.008153</td>\n",
       "      <td>-0.000055</td>\n",
       "      <td>0.005070</td>\n",
       "      <td>NaN</td>\n",
       "      <td>0.005955</td>\n",
       "      <td>0.013407</td>\n",
       "      <td>NaN</td>\n",
       "      <td>NaN</td>\n",
       "      <td>NaN</td>\n",
       "      <td>NaN</td>\n",
       "      <td>...</td>\n",
       "      <td>NaN</td>\n",
       "      <td>-0.005339</td>\n",
       "      <td>-0.005020</td>\n",
       "      <td>0.016294</td>\n",
       "      <td>NaN</td>\n",
       "      <td>NaN</td>\n",
       "      <td>NaN</td>\n",
       "      <td>0.002729</td>\n",
       "      <td>0.007792</td>\n",
       "      <td>NaN</td>\n",
       "    </tr>\n",
       "    <tr>\n",
       "      <th>2023-12-26</th>\n",
       "      <td>0.001067</td>\n",
       "      <td>-0.001653</td>\n",
       "      <td>0.001834</td>\n",
       "      <td>NaN</td>\n",
       "      <td>0.00592</td>\n",
       "      <td>0.009561</td>\n",
       "      <td>NaN</td>\n",
       "      <td>NaN</td>\n",
       "      <td>NaN</td>\n",
       "      <td>NaN</td>\n",
       "      <td>...</td>\n",
       "      <td>NaN</td>\n",
       "      <td>0.002348</td>\n",
       "      <td>0.003604</td>\n",
       "      <td>0.005966</td>\n",
       "      <td>NaN</td>\n",
       "      <td>NaN</td>\n",
       "      <td>NaN</td>\n",
       "      <td>0.010704</td>\n",
       "      <td>0.002554</td>\n",
       "      <td>NaN</td>\n",
       "    </tr>\n",
       "    <tr>\n",
       "      <th>2023-12-27</th>\n",
       "      <td>-0.002132</td>\n",
       "      <td>0.001711</td>\n",
       "      <td>0.005127</td>\n",
       "      <td>NaN</td>\n",
       "      <td>0.009572</td>\n",
       "      <td>0.008038</td>\n",
       "      <td>NaN</td>\n",
       "      <td>NaN</td>\n",
       "      <td>NaN</td>\n",
       "      <td>NaN</td>\n",
       "      <td>...</td>\n",
       "      <td>NaN</td>\n",
       "      <td>-0.006024</td>\n",
       "      <td>-0.007540</td>\n",
       "      <td>0.002224</td>\n",
       "      <td>NaN</td>\n",
       "      <td>NaN</td>\n",
       "      <td>NaN</td>\n",
       "      <td>0.000000</td>\n",
       "      <td>-0.003962</td>\n",
       "      <td>NaN</td>\n",
       "    </tr>\n",
       "    <tr>\n",
       "      <th>2023-12-28</th>\n",
       "      <td>-0.012031</td>\n",
       "      <td>0.001212</td>\n",
       "      <td>0.005556</td>\n",
       "      <td>NaN</td>\n",
       "      <td>0.001124</td>\n",
       "      <td>-0.001211</td>\n",
       "      <td>NaN</td>\n",
       "      <td>NaN</td>\n",
       "      <td>NaN</td>\n",
       "      <td>NaN</td>\n",
       "      <td>...</td>\n",
       "      <td>NaN</td>\n",
       "      <td>0.001347</td>\n",
       "      <td>0.002171</td>\n",
       "      <td>0.004068</td>\n",
       "      <td>NaN</td>\n",
       "      <td>NaN</td>\n",
       "      <td>NaN</td>\n",
       "      <td>-0.008616</td>\n",
       "      <td>0.002131</td>\n",
       "      <td>NaN</td>\n",
       "    </tr>\n",
       "    <tr>\n",
       "      <th>2023-12-29</th>\n",
       "      <td>-0.006564</td>\n",
       "      <td>0.001926</td>\n",
       "      <td>-0.002989</td>\n",
       "      <td>NaN</td>\n",
       "      <td>-0.000842</td>\n",
       "      <td>-0.002898</td>\n",
       "      <td>NaN</td>\n",
       "      <td>NaN</td>\n",
       "      <td>NaN</td>\n",
       "      <td>NaN</td>\n",
       "      <td>...</td>\n",
       "      <td>NaN</td>\n",
       "      <td>-0.002354</td>\n",
       "      <td>-0.001805</td>\n",
       "      <td>-0.001842</td>\n",
       "      <td>NaN</td>\n",
       "      <td>NaN</td>\n",
       "      <td>NaN</td>\n",
       "      <td>-0.007061</td>\n",
       "      <td>-0.004041</td>\n",
       "      <td>NaN</td>\n",
       "    </tr>\n",
       "  </tbody>\n",
       "</table>\n",
       "<p>7300 rows × 1179 columns</p>\n",
       "</div>"
      ],
      "text/plain": [
       "                 NUE      HLT_x        ABT       CEN        DH       COO SOTR  \\\n",
       "date                                                                            \n",
       "1995-01-03 -0.011287        NaN   0.003831       0.0 -0.010601       NaN  NaN   \n",
       "1995-01-04  0.018265        NaN   0.000000  0.013953 -0.001786       NaN  NaN   \n",
       "1995-01-05 -0.013453        NaN  -0.007634       0.0    0.0161       NaN  NaN   \n",
       "1995-01-06  0.045455        NaN  -0.015385 -0.018349 -0.007042       NaN  NaN   \n",
       "1995-01-09 -0.017391        NaN  -0.001875 -0.014019 -0.028369       NaN  NaN   \n",
       "...              ...        ...        ...       ...       ...       ...  ...   \n",
       "2023-12-22  0.008153  -0.000055   0.005070       NaN  0.005955  0.013407  NaN   \n",
       "2023-12-26  0.001067  -0.001653   0.001834       NaN   0.00592  0.009561  NaN   \n",
       "2023-12-27 -0.002132   0.001711   0.005127       NaN  0.009572  0.008038  NaN   \n",
       "2023-12-28 -0.012031   0.001212   0.005556       NaN  0.001124 -0.001211  NaN   \n",
       "2023-12-29 -0.006564   0.001926  -0.002989       NaN -0.000842 -0.002898  NaN   \n",
       "\n",
       "           JDSU URBN  ANF  ...       ANDW       FOXA      FOX_y       PPL  \\\n",
       "date                       ...                                              \n",
       "1995-01-03  NaN  NaN  NaN  ...   0.000000        NaN        NaN       NaN   \n",
       "1995-01-04  NaN  NaN  NaN  ...  -0.009569        NaN        NaN       NaN   \n",
       "1995-01-05  NaN  NaN  NaN  ...  -0.014493        NaN        NaN       NaN   \n",
       "1995-01-06  NaN  NaN  NaN  ...   0.009804        NaN        NaN       NaN   \n",
       "1995-01-09  NaN  NaN  NaN  ...   0.009709        NaN        NaN       NaN   \n",
       "...         ...  ...  ...  ...        ...        ...        ...       ...   \n",
       "2023-12-22  NaN  NaN  NaN  ...        NaN  -0.005339  -0.005020  0.016294   \n",
       "2023-12-26  NaN  NaN  NaN  ...        NaN   0.002348   0.003604  0.005966   \n",
       "2023-12-27  NaN  NaN  NaN  ...        NaN  -0.006024  -0.007540  0.002224   \n",
       "2023-12-28  NaN  NaN  NaN  ...        NaN   0.001347   0.002171  0.004068   \n",
       "2023-12-29  NaN  NaN  NaN  ...        NaN  -0.002354  -0.001805 -0.001842   \n",
       "\n",
       "                 TXU       MEL  GNT      DOW_y        TEL  HSP  \n",
       "date                                                            \n",
       "1995-01-03  0.011719  0.032653  NaN        NaN        NaN  NaN  \n",
       "1995-01-04  0.015444  0.011858  NaN        NaN        NaN  NaN  \n",
       "1995-01-05       0.0  0.003906  NaN        NaN        NaN  NaN  \n",
       "1995-01-06  0.003802       0.0  NaN        NaN        NaN  NaN  \n",
       "1995-01-09       0.0 -0.003891  NaN        NaN        NaN  NaN  \n",
       "...              ...       ...  ...        ...        ...  ...  \n",
       "2023-12-22       NaN       NaN  NaN   0.002729   0.007792  NaN  \n",
       "2023-12-26       NaN       NaN  NaN   0.010704   0.002554  NaN  \n",
       "2023-12-27       NaN       NaN  NaN   0.000000  -0.003962  NaN  \n",
       "2023-12-28       NaN       NaN  NaN  -0.008616   0.002131  NaN  \n",
       "2023-12-29       NaN       NaN  NaN  -0.007061  -0.004041  NaN  \n",
       "\n",
       "[7300 rows x 1179 columns]"
      ]
     },
     "execution_count": 203,
     "metadata": {},
     "output_type": "execute_result"
    }
   ],
   "source": [
    "returns_dataset"
   ]
  },
  {
   "cell_type": "code",
   "execution_count": 199,
   "metadata": {},
   "outputs": [
    {
     "data": {
      "text/plain": [
       "Text(0.5, 0, 'date')"
      ]
     },
     "execution_count": 199,
     "metadata": {},
     "output_type": "execute_result"
    },
    {
     "data": {
      "image/png": "[encoded data removed]",
      "text/plain": [
       "<Figure size 640x480 with 1 Axes>"
      ]
     },
     "metadata": {},
     "output_type": "display_data"
    }
   ],
   "source": [
    "plt.plot(returns_dataset.count(axis=1))\n",
    "plt.title('Amount of assets with available data:')\n",
    "plt.xlabel('date')"
   ]
  },
  {
   "cell_type": "code",
   "execution_count": null,
   "metadata": {},
   "outputs": [],
   "source": []
  }
 ],
 "metadata": {
  "kernelspec": {
   "display_name": "deep_learning",
   "language": "python",
   "name": "python3"
  },
  "language_info": {
   "codemirror_mode": {
    "name": "ipython",
    "version": 3
   },
   "file_extension": ".py",
   "mimetype": "text/x-python",
   "name": "python",
   "nbconvert_exporter": "python",
   "pygments_lexer": "ipython3",
   "version": "3.8.15"
  }
 },
 "nbformat": 4,
 "nbformat_minor": 2
}
