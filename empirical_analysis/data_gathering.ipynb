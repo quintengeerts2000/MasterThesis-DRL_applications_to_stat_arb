{
 "cells": [
  {
   "cell_type": "markdown",
   "metadata": {},
   "source": [
    "## Notebook used for constructing the datasets used in the empirical section"
   ]
  },
  {
   "cell_type": "markdown",
   "metadata": {},
   "source": [
    "### 1) historical Standard & Poors 500 constituents dataset fetched from eodhd.com"
   ]
  },
  {
   "cell_type": "code",
   "execution_count": 175,
   "metadata": {},
   "outputs": [
    {
     "name": "stderr",
     "output_type": "stream",
     "text": [
      "  1%|          | 6/1156 [00:24<51:10,  2.67s/it]  "
     ]
    },
    {
     "name": "stdout",
     "output_type": "stream",
     "text": [
      "No data found for PZE from 1996-01-02 until 1998-12-31"
     ]
    },
    {
     "name": "stderr",
     "output_type": "stream",
     "text": [
      "  1%|          | 14/1156 [00:42<43:06,  2.27s/it]"
     ]
    },
    {
     "name": "stdout",
     "output_type": "stream",
     "text": [
      "No data found for DOW from 1996-01-02 until 2017-09-01"
     ]
    },
    {
     "name": "stderr",
     "output_type": "stream",
     "text": [
      "  2%|▏         | 23/1156 [01:11<1:06:07,  3.50s/it]"
     ]
    },
    {
     "name": "stdout",
     "output_type": "stream",
     "text": [
      "No data found for BR from 1996-01-02 until 2006-04-03"
     ]
    },
    {
     "name": "stderr",
     "output_type": "stream",
     "text": [
      "  3%|▎         | 31/1156 [01:49<1:04:38,  3.45s/it]"
     ]
    },
    {
     "name": "stdout",
     "output_type": "stream",
     "text": [
      "No data found for LOR from 1996-01-02 until 1996-04-23"
     ]
    },
    {
     "name": "stderr",
     "output_type": "stream",
     "text": [
      "  3%|▎         | 34/1156 [01:55<43:22,  2.32s/it]  "
     ]
    },
    {
     "name": "stdout",
     "output_type": "stream",
     "text": [
      "No data found for ALTR from 2000-04-18 until 2015-12-28"
     ]
    },
    {
     "name": "stderr",
     "output_type": "stream",
     "text": [
      "  4%|▍         | 45/1156 [02:54<44:27,  2.40s/it]  "
     ]
    },
    {
     "name": "stdout",
     "output_type": "stream",
     "text": [
      "No data found for MDR from 1996-01-02 until 2003-08-20"
     ]
    },
    {
     "name": "stderr",
     "output_type": "stream",
     "text": [
      "  4%|▍         | 52/1156 [03:31<2:32:17,  8.28s/it]"
     ]
    },
    {
     "name": "stdout",
     "output_type": "stream",
     "text": [
      "No data found for NE from 2001-01-16 until 2009-03-27"
     ]
    },
    {
     "name": "stderr",
     "output_type": "stream",
     "text": [
      "  5%|▍         | 53/1156 [03:33<1:57:05,  6.37s/it]"
     ]
    },
    {
     "name": "stdout",
     "output_type": "stream",
     "text": [
      "No data found for NE from 2011-01-18 until 2015-07-20"
     ]
    },
    {
     "name": "stderr",
     "output_type": "stream",
     "text": [
      "  5%|▌         | 60/1156 [04:23<2:13:49,  7.33s/it]"
     ]
    },
    {
     "name": "stdout",
     "output_type": "stream",
     "text": [
      "No data found for DI from 1996-01-02 until 1998-09-30"
     ]
    },
    {
     "name": "stderr",
     "output_type": "stream",
     "text": [
      "  6%|▌         | 64/1156 [04:35<1:04:45,  3.56s/it]"
     ]
    },
    {
     "name": "stdout",
     "output_type": "stream",
     "text": [
      "No data found for COV from 1996-01-02 until 1996-08-16"
     ]
    },
    {
     "name": "stderr",
     "output_type": "stream",
     "text": [
      "  7%|▋         | 85/1156 [06:57<2:49:50,  9.51s/it]"
     ]
    },
    {
     "name": "stdout",
     "output_type": "stream",
     "text": [
      "No data found for PVT from 1998-08-31 until 1999-07-01"
     ]
    },
    {
     "name": "stderr",
     "output_type": "stream",
     "text": [
      "  7%|▋         | 86/1156 [06:58<2:03:42,  6.94s/it]"
     ]
    },
    {
     "name": "stdout",
     "output_type": "stream",
     "text": [
      "No data found for HCR from 1998-09-28 until 2007-11-09"
     ]
    },
    {
     "name": "stderr",
     "output_type": "stream",
     "text": [
      "  8%|▊         | 88/1156 [07:01<1:11:26,  4.01s/it]"
     ]
    },
    {
     "name": "stdout",
     "output_type": "stream",
     "text": [
      "No data found for EC from 1996-01-02 until 2006-06-06"
     ]
    },
    {
     "name": "stderr",
     "output_type": "stream",
     "text": [
      "  8%|▊         | 94/1156 [07:16<51:36,  2.92s/it]  "
     ]
    },
    {
     "name": "stdout",
     "output_type": "stream",
     "text": [
      "No data found for TMC from 1996-01-02 until 2000-06-13"
     ]
    },
    {
     "name": "stderr",
     "output_type": "stream",
     "text": [
      " 10%|▉         | 115/1156 [08:07<38:33,  2.22s/it]"
     ]
    },
    {
     "name": "stdout",
     "output_type": "stream",
     "text": [
      "No data found for CHK from 2006-03-03 until 2018-03-19"
     ]
    },
    {
     "name": "stderr",
     "output_type": "stream",
     "text": [
      " 10%|█         | 116/1156 [08:27<2:10:28,  7.53s/it]"
     ]
    },
    {
     "name": "stdout",
     "output_type": "stream",
     "text": [
      "No data found for SE from 2007-01-03 until 2017-02-27"
     ]
    },
    {
     "name": "stderr",
     "output_type": "stream",
     "text": [
      " 10%|█         | 119/1156 [08:52<2:44:45,  9.53s/it]"
     ]
    },
    {
     "name": "stdout",
     "output_type": "stream",
     "text": [
      "No data found for CCB from 1996-01-02 until 1996-02-12"
     ]
    },
    {
     "name": "stderr",
     "output_type": "stream",
     "text": [
      " 11%|█         | 124/1156 [09:05<59:36,  3.47s/it]  "
     ]
    },
    {
     "name": "stdout",
     "output_type": "stream",
     "text": [
      "No data found for GSX from 1996-01-02 until 1998-10-07"
     ]
    },
    {
     "name": "stderr",
     "output_type": "stream",
     "text": [
      " 11%|█         | 125/1156 [09:06<46:21,  2.70s/it]"
     ]
    },
    {
     "name": "stdout",
     "output_type": "stream",
     "text": [
      "No data found for FRO from 1997-01-02 until 1999-09-29"
     ]
    },
    {
     "name": "stderr",
     "output_type": "stream",
     "text": [
      " 12%|█▏        | 133/1156 [09:26<37:02,  2.17s/it]"
     ]
    },
    {
     "name": "stdout",
     "output_type": "stream",
     "text": [
      "404 not found from api for ticker: PEL\n"
     ]
    },
    {
     "name": "stderr",
     "output_type": "stream",
     "text": [
      " 12%|█▏        | 137/1156 [09:32<29:00,  1.71s/it]"
     ]
    },
    {
     "name": "stdout",
     "output_type": "stream",
     "text": [
      "No data found for GP from 1996-01-02 until 2005-12-20"
     ]
    },
    {
     "name": "stderr",
     "output_type": "stream",
     "text": [
      " 12%|█▏        | 144/1156 [09:54<41:28,  2.46s/it]  "
     ]
    },
    {
     "name": "stdout",
     "output_type": "stream",
     "text": [
      "404 not found from api for ticker: GIDL\n"
     ]
    },
    {
     "name": "stderr",
     "output_type": "stream",
     "text": [
      " 13%|█▎        | 147/1156 [10:02<41:50,  2.49s/it]"
     ]
    },
    {
     "name": "stdout",
     "output_type": "stream",
     "text": [
      "No data found for HCA from 1996-01-02 until 2006-11-20"
     ]
    },
    {
     "name": "stderr",
     "output_type": "stream",
     "text": [
      " 15%|█▍        | 172/1156 [11:17<37:23,  2.28s/it]  "
     ]
    },
    {
     "name": "stdout",
     "output_type": "stream",
     "text": [
      "404 not found from api for ticker: MST\n",
      "No data found for MIR from 1997-08-07 until 2000-06-01"
     ]
    },
    {
     "name": "stderr",
     "output_type": "stream",
     "text": [
      " 15%|█▍        | 173/1156 [11:19<35:40,  2.18s/it]"
     ]
    },
    {
     "name": "stdout",
     "output_type": "stream",
     "text": [
      "No data found for MIR from 2001-04-03 until 2003-07-17"
     ]
    },
    {
     "name": "stderr",
     "output_type": "stream",
     "text": [
      " 15%|█▌        | 176/1156 [11:24<27:03,  1.66s/it]"
     ]
    },
    {
     "name": "stdout",
     "output_type": "stream",
     "text": [
      "No data found for HMA from 2001-11-07 until 2007-03-02"
     ]
    },
    {
     "name": "stderr",
     "output_type": "stream",
     "text": [
      " 16%|█▌        | 185/1156 [12:05<2:05:10,  7.73s/it]"
     ]
    },
    {
     "name": "stdout",
     "output_type": "stream",
     "text": [
      "No data found for PSFT from 1998-10-02 until 2004-12-29"
     ]
    },
    {
     "name": "stderr",
     "output_type": "stream",
     "text": [
      " 16%|█▋        | 189/1156 [12:15<57:53,  3.59s/it]  "
     ]
    },
    {
     "name": "stdout",
     "output_type": "stream",
     "text": [
      "No data found for MMI from 2011-01-04 until 2012-05-22"
     ]
    },
    {
     "name": "stderr",
     "output_type": "stream",
     "text": [
      " 19%|█▊        | 216/1156 [13:57<34:40,  2.21s/it]  "
     ]
    },
    {
     "name": "stdout",
     "output_type": "stream",
     "text": [
      "No data found for MYG from 1996-01-02 until 2006-04-03"
     ]
    },
    {
     "name": "stderr",
     "output_type": "stream",
     "text": [
      " 19%|█▉        | 219/1156 [14:04<32:55,  2.11s/it]"
     ]
    },
    {
     "name": "stdout",
     "output_type": "stream",
     "text": [
      "No data found for AT from 1996-01-02 until 2007-11-19"
     ]
    },
    {
     "name": "stderr",
     "output_type": "stream",
     "text": [
      " 20%|█▉        | 228/1156 [15:06<1:06:24,  4.29s/it]"
     ]
    },
    {
     "name": "stdout",
     "output_type": "stream",
     "text": [
      "No data found for CNW from 1996-01-02 until 1996-12-03"
     ]
    },
    {
     "name": "stderr",
     "output_type": "stream",
     "text": [
      " 20%|█▉        | 229/1156 [15:07<50:57,  3.30s/it]  "
     ]
    },
    {
     "name": "stdout",
     "output_type": "stream",
     "text": [
      "No data found for S from 1996-01-02 until 2013-07-09"
     ]
    },
    {
     "name": "stderr",
     "output_type": "stream",
     "text": [
      " 20%|██        | 232/1156 [15:15<42:49,  2.78s/it]"
     ]
    },
    {
     "name": "stdout",
     "output_type": "stream",
     "text": [
      "No data found for ASND from 1998-06-12 until 1999-06-25No data found for KMI from 2000-12-12 until 2007-05-31"
     ]
    },
    {
     "name": "stderr",
     "output_type": "stream",
     "text": [
      " 21%|██        | 237/1156 [16:02<1:10:15,  4.59s/it]"
     ]
    },
    {
     "name": "stdout",
     "output_type": "stream",
     "text": [
      "No data found for HCP from 2008-03-31 until 2019-11-05"
     ]
    },
    {
     "name": "stderr",
     "output_type": "stream",
     "text": [
      " 22%|██▏       | 257/1156 [17:06<24:51,  1.66s/it]  "
     ]
    },
    {
     "name": "stdout",
     "output_type": "stream",
     "text": [
      "No data found for AMH from 1996-01-02 until 1997-09-15"
     ]
    },
    {
     "name": "stderr",
     "output_type": "stream",
     "text": [
      " 22%|██▏       | 258/1156 [17:07<21:51,  1.46s/it]"
     ]
    },
    {
     "name": "stdout",
     "output_type": "stream",
     "text": [
      "No data found for PLL from 1996-01-02 until 2015-08-31"
     ]
    },
    {
     "name": "stderr",
     "output_type": "stream",
     "text": [
      " 23%|██▎       | 262/1156 [17:18<32:24,  2.17s/it]"
     ]
    },
    {
     "name": "stdout",
     "output_type": "stream",
     "text": [
      "No data found for JP from 1996-01-02 until 2006-04-03"
     ]
    },
    {
     "name": "stderr",
     "output_type": "stream",
     "text": [
      " 24%|██▍       | 276/1156 [17:54<30:00,  2.05s/it]"
     ]
    },
    {
     "name": "stdout",
     "output_type": "stream",
     "text": [
      "No data found for AV from 2000-10-02 until 2007-10-26"
     ]
    },
    {
     "name": "stderr",
     "output_type": "stream",
     "text": [
      " 24%|██▍       | 279/1156 [18:02<31:32,  2.16s/it]"
     ]
    },
    {
     "name": "stdout",
     "output_type": "stream",
     "text": [
      "No data found for CG from 1996-01-02 until 2000-11-02"
     ]
    },
    {
     "name": "stderr",
     "output_type": "stream",
     "text": [
      " 25%|██▍       | 285/1156 [18:15<26:08,  1.80s/it]"
     ]
    },
    {
     "name": "stdout",
     "output_type": "stream",
     "text": [
      "No data found for BEAM from 1996-01-02 until 2014-05-01"
     ]
    },
    {
     "name": "stderr",
     "output_type": "stream",
     "text": [
      " 26%|██▌       | 300/1156 [19:51<1:24:00,  5.89s/it]"
     ]
    },
    {
     "name": "stdout",
     "output_type": "stream",
     "text": [
      "No data found for BHMSQ from 1996-01-02 until 2000-12-11"
     ]
    },
    {
     "name": "stderr",
     "output_type": "stream",
     "text": [
      " 28%|██▊       | 320/1156 [22:12<2:11:20,  9.43s/it]"
     ]
    },
    {
     "name": "stdout",
     "output_type": "stream",
     "text": [
      "No data found for SB from 1996-01-02 until 1997-11-28"
     ]
    },
    {
     "name": "stderr",
     "output_type": "stream",
     "text": [
      " 28%|██▊       | 322/1156 [22:18<1:22:17,  5.92s/it]"
     ]
    },
    {
     "name": "stdout",
     "output_type": "stream",
     "text": [
      "No data found for FMY from 1998-07-10 until 1999-05-28"
     ]
    },
    {
     "name": "stderr",
     "output_type": "stream",
     "text": [
      " 29%|██▉       | 334/1156 [22:45<24:07,  1.76s/it]  "
     ]
    },
    {
     "name": "stdout",
     "output_type": "stream",
     "text": [
      "No data found for THY from 1996-01-02 until 1996-10-16"
     ]
    },
    {
     "name": "stderr",
     "output_type": "stream",
     "text": [
      " 29%|██▉       | 335/1156 [22:46<20:56,  1.53s/it]"
     ]
    },
    {
     "name": "stdout",
     "output_type": "stream",
     "text": [
      "No data found for CFL from 1996-01-02 until 1998-04-28"
     ]
    },
    {
     "name": "stderr",
     "output_type": "stream",
     "text": [
      " 29%|██▉       | 337/1156 [22:52<27:33,  2.02s/it]"
     ]
    },
    {
     "name": "stdout",
     "output_type": "stream",
     "text": [
      "No data found for PGN from 1996-01-02 until 2012-07-02"
     ]
    },
    {
     "name": "stderr",
     "output_type": "stream",
     "text": [
      " 30%|███       | 352/1156 [24:01<24:32,  1.83s/it]  "
     ]
    },
    {
     "name": "stdout",
     "output_type": "stream",
     "text": [
      "No data found for ENS from 1996-01-02 until 1997-08-06"
     ]
    },
    {
     "name": "stderr",
     "output_type": "stream",
     "text": [
      " 31%|███       | 355/1156 [24:09<28:42,  2.15s/it]"
     ]
    },
    {
     "name": "stdout",
     "output_type": "stream",
     "text": [
      "No data found for EQ from 2006-05-18 until 2009-07-01"
     ]
    },
    {
     "name": "stderr",
     "output_type": "stream",
     "text": [
      " 31%|███       | 357/1156 [24:12<21:42,  1.63s/it]"
     ]
    },
    {
     "name": "stdout",
     "output_type": "stream",
     "text": [
      "No data found for NLC from 1996-01-02 until 1999-08-02"
     ]
    },
    {
     "name": "stderr",
     "output_type": "stream",
     "text": [
      " 32%|███▏      | 372/1156 [24:47<21:26,  1.64s/it]"
     ]
    },
    {
     "name": "stdout",
     "output_type": "stream",
     "text": [
      "404 not found from api for ticker: NMK\n"
     ]
    },
    {
     "name": "stderr",
     "output_type": "stream",
     "text": [
      " 33%|███▎      | 379/1156 [25:07<36:26,  2.81s/it]"
     ]
    },
    {
     "name": "stdout",
     "output_type": "stream",
     "text": [
      "No data found for CE from 2001-04-02 until 2004-02-27"
     ]
    },
    {
     "name": "stderr",
     "output_type": "stream",
     "text": [
      " 34%|███▎      | 389/1156 [25:53<1:41:26,  7.94s/it]"
     ]
    },
    {
     "name": "stdout",
     "output_type": "stream",
     "text": [
      "No data found for ADCT from 1999-08-02 until 2007-07-02"
     ]
    },
    {
     "name": "stderr",
     "output_type": "stream",
     "text": [
      " 34%|███▍      | 393/1156 [26:00<40:11,  3.16s/it]  "
     ]
    },
    {
     "name": "stdout",
     "output_type": "stream",
     "text": [
      "No data found for RDS.A from 1996-01-02 until 2002-07-22"
     ]
    },
    {
     "name": "stderr",
     "output_type": "stream",
     "text": [
      " 34%|███▍      | 394/1156 [26:01<31:36,  2.49s/it]"
     ]
    },
    {
     "name": "stdout",
     "output_type": "stream",
     "text": [
      "No data found for CRR from 1996-01-02 until 1997-05-27"
     ]
    },
    {
     "name": "stderr",
     "output_type": "stream",
     "text": [
      " 34%|███▍      | 395/1156 [26:02<25:45,  2.03s/it]"
     ]
    },
    {
     "name": "stdout",
     "output_type": "stream",
     "text": [
      "No data found for RYI from 1996-01-02 until 1998-07-01"
     ]
    },
    {
     "name": "stderr",
     "output_type": "stream",
     "text": [
      " 35%|███▍      | 400/1156 [26:17<31:50,  2.53s/it]"
     ]
    },
    {
     "name": "stdout",
     "output_type": "stream",
     "text": [
      "No data found for TRW from 1996-01-02 until 2002-12-12"
     ]
    },
    {
     "name": "stderr",
     "output_type": "stream",
     "text": [
      " 36%|███▌      | 414/1156 [27:21<34:16,  2.77s/it]  "
     ]
    },
    {
     "name": "stdout",
     "output_type": "stream",
     "text": [
      "No data found for NSM from 1996-01-02 until 2011-09-26"
     ]
    },
    {
     "name": "stderr",
     "output_type": "stream",
     "text": [
      " 36%|███▋      | 420/1156 [27:33<23:20,  1.90s/it]"
     ]
    },
    {
     "name": "stdout",
     "output_type": "stream",
     "text": [
      "No data found for MNR from 1996-01-02 until 1998-09-28"
     ]
    },
    {
     "name": "stderr",
     "output_type": "stream",
     "text": [
      " 37%|███▋      | 432/1156 [28:25<31:18,  2.60s/it]  "
     ]
    },
    {
     "name": "stdout",
     "output_type": "stream",
     "text": [
      "404 not found from api for ticker: TDM\n"
     ]
    },
    {
     "name": "stderr",
     "output_type": "stream",
     "text": [
      " 37%|███▋      | 433/1156 [28:26<25:06,  2.08s/it]"
     ]
    },
    {
     "name": "stdout",
     "output_type": "stream",
     "text": [
      "No data found for LLL from 2004-12-01 until 2019-07-01"
     ]
    },
    {
     "name": "stderr",
     "output_type": "stream",
     "text": [
      " 38%|███▊      | 435/1156 [28:29<21:48,  1.81s/it]"
     ]
    },
    {
     "name": "stdout",
     "output_type": "stream",
     "text": [
      "No data found for AAMRQ from 1996-01-02 until 2003-03-14"
     ]
    },
    {
     "name": "stderr",
     "output_type": "stream",
     "text": [
      " 38%|███▊      | 438/1156 [28:36<23:31,  1.97s/it]"
     ]
    },
    {
     "name": "stdout",
     "output_type": "stream",
     "text": [
      "No data found for COMS from 1996-01-02 until 2000-07-28"
     ]
    },
    {
     "name": "stderr",
     "output_type": "stream",
     "text": [
      " 38%|███▊      | 443/1156 [28:47<25:24,  2.14s/it]"
     ]
    },
    {
     "name": "stdout",
     "output_type": "stream",
     "text": [
      "No data found for SRR from 1996-01-02 until 1997-10-07"
     ]
    },
    {
     "name": "stderr",
     "output_type": "stream",
     "text": [
      " 39%|███▉      | 448/1156 [28:59<28:52,  2.45s/it]"
     ]
    },
    {
     "name": "stdout",
     "output_type": "stream",
     "text": [
      "No data found for CF from 2000-06-19 until 2004-09-01"
     ]
    },
    {
     "name": "stderr",
     "output_type": "stream",
     "text": [
      " 39%|███▉      | 450/1156 [29:04<26:05,  2.22s/it]"
     ]
    },
    {
     "name": "stdout",
     "output_type": "stream",
     "text": [
      "No data found for CBH from 2006-06-06 until 2008-03-31"
     ]
    },
    {
     "name": "stderr",
     "output_type": "stream",
     "text": [
      " 40%|████      | 463/1156 [30:12<38:06,  3.30s/it]  "
     ]
    },
    {
     "name": "stdout",
     "output_type": "stream",
     "text": [
      "No data found for MEDI from 2000-06-16 until 2007-06-01"
     ]
    },
    {
     "name": "stderr",
     "output_type": "stream",
     "text": [
      " 40%|████      | 465/1156 [30:14<25:53,  2.25s/it]"
     ]
    },
    {
     "name": "stdout",
     "output_type": "stream",
     "text": [
      "No data found for TA from 1996-01-02 until 1999-07-22"
     ]
    },
    {
     "name": "stderr",
     "output_type": "stream",
     "text": [
      " 41%|████      | 471/1156 [30:25<18:57,  1.66s/it]"
     ]
    },
    {
     "name": "stdout",
     "output_type": "stream",
     "text": [
      "404 not found from api for ticker: BLY\n"
     ]
    },
    {
     "name": "stderr",
     "output_type": "stream",
     "text": [
      " 41%|████      | 472/1156 [30:26<16:21,  1.43s/it]"
     ]
    },
    {
     "name": "stdout",
     "output_type": "stream",
     "text": [
      "No data found for ASO from 1999-03-10 until 2006-11-06"
     ]
    },
    {
     "name": "stderr",
     "output_type": "stream",
     "text": [
      " 41%|████      | 474/1156 [30:30<18:51,  1.66s/it]"
     ]
    },
    {
     "name": "stdout",
     "output_type": "stream",
     "text": [
      "No data found for DELL from 1996-09-06 until 2013-10-29"
     ]
    },
    {
     "name": "stderr",
     "output_type": "stream",
     "text": [
      " 41%|████▏     | 478/1156 [30:42<29:42,  2.63s/it]"
     ]
    },
    {
     "name": "stdout",
     "output_type": "stream",
     "text": [
      "No data found for AAL from 1996-01-02 until 1997-01-15"
     ]
    },
    {
     "name": "stderr",
     "output_type": "stream",
     "text": [
      " 42%|████▏     | 480/1156 [31:08<1:39:47,  8.86s/it]"
     ]
    },
    {
     "name": "stdout",
     "output_type": "stream",
     "text": [
      "No data found for MTLQQ from 1996-01-02 until 2009-06-03"
     ]
    },
    {
     "name": "stderr",
     "output_type": "stream",
     "text": [
      " 42%|████▏     | 488/1156 [31:30<32:48,  2.95s/it]  "
     ]
    },
    {
     "name": "stdout",
     "output_type": "stream",
     "text": [
      "No data found for DEC from 1996-01-02 until 1998-06-12"
     ]
    },
    {
     "name": "stderr",
     "output_type": "stream",
     "text": [
      " 42%|████▏     | 491/1156 [31:35<21:48,  1.97s/it]"
     ]
    },
    {
     "name": "stdout",
     "output_type": "stream",
     "text": [
      "No data found for HI from 1996-01-02 until 2003-03-31"
     ]
    },
    {
     "name": "stderr",
     "output_type": "stream",
     "text": [
      " 43%|████▎     | 493/1156 [31:37<16:31,  1.50s/it]"
     ]
    },
    {
     "name": "stdout",
     "output_type": "stream",
     "text": [
      "No data found for LIFE from 2008-11-24 until 2014-01-24"
     ]
    },
    {
     "name": "stderr",
     "output_type": "stream",
     "text": [
      " 43%|████▎     | 495/1156 [31:40<16:19,  1.48s/it]"
     ]
    },
    {
     "name": "stdout",
     "output_type": "stream",
     "text": [
      "No data found for RE from 2017-06-19 until 2023-06-10"
     ]
    },
    {
     "name": "stderr",
     "output_type": "stream",
     "text": [
      " 44%|████▎     | 503/1156 [32:01<24:39,  2.27s/it]"
     ]
    },
    {
     "name": "stdout",
     "output_type": "stream",
     "text": [
      "No data found for SDS from 2002-07-22 until 2005-08-12"
     ]
    },
    {
     "name": "stderr",
     "output_type": "stream",
     "text": [
      " 44%|████▍     | 512/1156 [32:24<21:31,  2.00s/it]"
     ]
    },
    {
     "name": "stdout",
     "output_type": "stream",
     "text": [
      "No data found for MNK from 2014-08-19 until 2017-07-26"
     ]
    },
    {
     "name": "stderr",
     "output_type": "stream",
     "text": [
      " 44%|████▍     | 514/1156 [32:27<17:57,  1.68s/it]"
     ]
    },
    {
     "name": "stdout",
     "output_type": "stream",
     "text": [
      "No data found for RYAN from 1996-01-02 until 1997-01-02"
     ]
    },
    {
     "name": "stderr",
     "output_type": "stream",
     "text": [
      " 45%|████▍     | 517/1156 [32:34<20:26,  1.92s/it]"
     ]
    },
    {
     "name": "stdout",
     "output_type": "stream",
     "text": [
      "No data found for ASC from 1996-01-02 until 1999-06-24"
     ]
    },
    {
     "name": "stderr",
     "output_type": "stream",
     "text": [
      " 45%|████▍     | 520/1156 [32:43<24:35,  2.32s/it]"
     ]
    },
    {
     "name": "stdout",
     "output_type": "stream",
     "text": [
      "No data found for SAI from 1997-07-17 until 1999-01-04"
     ]
    },
    {
     "name": "stderr",
     "output_type": "stream",
     "text": [
      " 46%|████▌     | 529/1156 [33:09<22:27,  2.15s/it]"
     ]
    },
    {
     "name": "stdout",
     "output_type": "stream",
     "text": [
      "No data found for IR from 1996-01-02 until 2009-07-01"
     ]
    },
    {
     "name": "stderr",
     "output_type": "stream",
     "text": [
      " 46%|████▌     | 533/1156 [34:14<1:39:00,  9.54s/it]"
     ]
    },
    {
     "name": "stdout",
     "output_type": "stream",
     "text": [
      "No data found for DYN from 2000-10-03 until 2009-12-21"
     ]
    },
    {
     "name": "stderr",
     "output_type": "stream",
     "text": [
      " 47%|████▋     | 548/1156 [34:48<20:45,  2.05s/it]  "
     ]
    },
    {
     "name": "stdout",
     "output_type": "stream",
     "text": [
      "No data found for CNXT from 2000-01-31 until 2002-06-26"
     ]
    },
    {
     "name": "stderr",
     "output_type": "stream",
     "text": [
      " 47%|████▋     | 549/1156 [34:49<17:12,  1.70s/it]"
     ]
    },
    {
     "name": "stdout",
     "output_type": "stream",
     "text": [
      "No data found for STR from 2006-12-01 until 2010-07-01"
     ]
    },
    {
     "name": "stderr",
     "output_type": "stream",
     "text": [
      " 48%|████▊     | 553/1156 [35:01<24:36,  2.45s/it]"
     ]
    },
    {
     "name": "stdout",
     "output_type": "stream",
     "text": [
      "No data found for NLV from 1996-04-01 until 2000-01-06"
     ]
    },
    {
     "name": "stderr",
     "output_type": "stream",
     "text": [
      " 48%|████▊     | 554/1156 [35:02<20:05,  2.00s/it]"
     ]
    },
    {
     "name": "stdout",
     "output_type": "stream",
     "text": [
      "No data found for WLP from 1999-06-09 until 2004-12-01"
     ]
    },
    {
     "name": "stderr",
     "output_type": "stream",
     "text": [
      " 48%|████▊     | 559/1156 [35:12<18:43,  1.88s/it]"
     ]
    },
    {
     "name": "stdout",
     "output_type": "stream",
     "text": [
      "No data found for SMI from 1996-01-02 until 2000-12-12"
     ]
    },
    {
     "name": "stderr",
     "output_type": "stream",
     "text": [
      " 48%|████▊     | 560/1156 [35:13<15:51,  1.60s/it]"
     ]
    },
    {
     "name": "stdout",
     "output_type": "stream",
     "text": [
      "No data found for GTE from 1996-01-02 until 2000-07-03"
     ]
    },
    {
     "name": "stderr",
     "output_type": "stream",
     "text": [
      " 49%|████▉     | 569/1156 [35:32<13:56,  1.42s/it]"
     ]
    },
    {
     "name": "stdout",
     "output_type": "stream",
     "text": [
      "404 not found from api for ticker: NAE\n"
     ]
    },
    {
     "name": "stderr",
     "output_type": "stream",
     "text": [
      " 49%|████▉     | 570/1156 [36:08<1:54:59, 11.77s/it]"
     ]
    },
    {
     "name": "stdout",
     "output_type": "stream",
     "text": [
      "No data found for AM from 1996-01-02 until 2004-05-03"
     ]
    },
    {
     "name": "stderr",
     "output_type": "stream",
     "text": [
      " 49%|████▉     | 572/1156 [36:12<1:05:13,  6.70s/it]"
     ]
    },
    {
     "name": "stdout",
     "output_type": "stream",
     "text": [
      "No data found for PMI from 1996-01-02 until 1996-05-31"
     ]
    },
    {
     "name": "stderr",
     "output_type": "stream",
     "text": [
      " 50%|████▉     | 573/1156 [36:13<48:41,  5.01s/it]  "
     ]
    },
    {
     "name": "stdout",
     "output_type": "stream",
     "text": [
      "No data found for ECO from 1996-01-02 until 1998-01-20"
     ]
    },
    {
     "name": "stderr",
     "output_type": "stream",
     "text": [
      " 51%|█████     | 591/1156 [38:12<48:07,  5.11s/it]  "
     ]
    },
    {
     "name": "stdout",
     "output_type": "stream",
     "text": [
      "No data found for HLT from 1996-01-02 until 2007-10-25"
     ]
    },
    {
     "name": "stderr",
     "output_type": "stream",
     "text": [
      " 52%|█████▏    | 597/1156 [38:28<26:00,  2.79s/it]"
     ]
    },
    {
     "name": "stdout",
     "output_type": "stream",
     "text": [
      "No data found for AGC from 1996-01-02 until 2001-08-29"
     ]
    },
    {
     "name": "stderr",
     "output_type": "stream",
     "text": [
      " 52%|█████▏    | 599/1156 [38:32<21:48,  2.35s/it]"
     ]
    },
    {
     "name": "stdout",
     "output_type": "stream",
     "text": [
      "No data found for JAVA from 1996-01-02 until 2010-01-27"
     ]
    },
    {
     "name": "stderr",
     "output_type": "stream",
     "text": [
      " 52%|█████▏    | 600/1156 [38:33<17:56,  1.94s/it]"
     ]
    },
    {
     "name": "stdout",
     "output_type": "stream",
     "text": [
      "No data found for WCOEQ from 1996-04-01 until 2002-05-15404 not found from api for ticker: HFS\n"
     ]
    },
    {
     "name": "stderr",
     "output_type": "stream",
     "text": [
      " 53%|█████▎    | 610/1156 [39:34<59:09,  6.50s/it]  "
     ]
    },
    {
     "name": "stdout",
     "output_type": "stream",
     "text": [
      "No data found for SK from 1996-01-02 until 1998-04-01"
     ]
    },
    {
     "name": "stderr",
     "output_type": "stream",
     "text": [
      " 53%|█████▎    | 618/1156 [39:49<19:20,  2.16s/it]"
     ]
    },
    {
     "name": "stdout",
     "output_type": "stream",
     "text": [
      "No data found for UPC from 1998-10-01 until 2004-07-01"
     ]
    },
    {
     "name": "stderr",
     "output_type": "stream",
     "text": [
      " 54%|█████▎    | 619/1156 [39:50<16:01,  1.79s/it]"
     ]
    },
    {
     "name": "stdout",
     "output_type": "stream",
     "text": [
      "No data found for PCS from 1998-11-24 until 2004-04-23"
     ]
    },
    {
     "name": "stderr",
     "output_type": "stream",
     "text": [
      " 54%|█████▍    | 626/1156 [40:08<21:08,  2.39s/it]"
     ]
    },
    {
     "name": "stdout",
     "output_type": "stream",
     "text": [
      "No data found for CDAY from 2021-09-20 until 2023-10-18"
     ]
    },
    {
     "name": "stderr",
     "output_type": "stream",
     "text": [
      " 55%|█████▍    | 632/1156 [40:24<20:13,  2.32s/it]"
     ]
    },
    {
     "name": "stdout",
     "output_type": "stream",
     "text": [
      "No data found for MIL from 1996-01-02 until 2010-07-15"
     ]
    },
    {
     "name": "stderr",
     "output_type": "stream",
     "text": [
      " 55%|█████▍    | 635/1156 [40:33<21:53,  2.52s/it]"
     ]
    },
    {
     "name": "stdout",
     "output_type": "stream",
     "text": [
      "No data found for VAT from 1996-01-02 until 1996-09-06"
     ]
    },
    {
     "name": "stderr",
     "output_type": "stream",
     "text": [
      " 56%|█████▌    | 648/1156 [41:26<22:14,  2.63s/it]  "
     ]
    },
    {
     "name": "stdout",
     "output_type": "stream",
     "text": [
      "No data found for ABI from 1996-01-02 until 2008-11-24"
     ]
    },
    {
     "name": "stderr",
     "output_type": "stream",
     "text": [
      " 56%|█████▌    | 649/1156 [41:26<17:52,  2.12s/it]"
     ]
    },
    {
     "name": "stdout",
     "output_type": "stream",
     "text": [
      "No data found for ABKFQ from 2000-12-11 until 2008-06-11"
     ]
    },
    {
     "name": "stderr",
     "output_type": "stream",
     "text": [
      " 56%|█████▋    | 653/1156 [41:36<18:10,  2.17s/it]"
     ]
    },
    {
     "name": "stdout",
     "output_type": "stream",
     "text": [
      "No data found for RSHCQ from 1996-01-02 until 2011-07-01"
     ]
    },
    {
     "name": "stderr",
     "output_type": "stream",
     "text": [
      " 57%|█████▋    | 655/1156 [41:39<15:02,  1.80s/it]"
     ]
    },
    {
     "name": "stdout",
     "output_type": "stream",
     "text": [
      "No data found for INGR from 1996-01-02 until 1997-07-28"
     ]
    },
    {
     "name": "stderr",
     "output_type": "stream",
     "text": [
      " 57%|█████▋    | 660/1156 [41:50<17:45,  2.15s/it]"
     ]
    },
    {
     "name": "stdout",
     "output_type": "stream",
     "text": [
      "No data found for JH from 1996-01-02 until 1998-04-01"
     ]
    },
    {
     "name": "stderr",
     "output_type": "stream",
     "text": [
      " 58%|█████▊    | 665/1156 [42:03<18:07,  2.21s/it]"
     ]
    },
    {
     "name": "stdout",
     "output_type": "stream",
     "text": [
      "No data found for Q from 2000-07-06 until 2011-04-01"
     ]
    },
    {
     "name": "stderr",
     "output_type": "stream",
     "text": [
      " 58%|█████▊    | 670/1156 [42:14<18:03,  2.23s/it]"
     ]
    },
    {
     "name": "stdout",
     "output_type": "stream",
     "text": [
      "No data found for UK from 1996-01-02 until 2001-02-07"
     ]
    },
    {
     "name": "stderr",
     "output_type": "stream",
     "text": [
      " 58%|█████▊    | 672/1156 [42:18<16:09,  2.00s/it]"
     ]
    },
    {
     "name": "stdout",
     "output_type": "stream",
     "text": [
      "No data found for I from 1996-01-02 until 1996-04-01"
     ]
    },
    {
     "name": "stderr",
     "output_type": "stream",
     "text": [
      " 59%|█████▊    | 677/1156 [42:25<11:04,  1.39s/it]"
     ]
    },
    {
     "name": "stdout",
     "output_type": "stream",
     "text": [
      "No data found for BOAT from 1996-01-02 until 1997-01-07"
     ]
    },
    {
     "name": "stderr",
     "output_type": "stream",
     "text": [
      " 59%|█████▊    | 679/1156 [42:29<12:59,  1.63s/it]"
     ]
    },
    {
     "name": "stdout",
     "output_type": "stream",
     "text": [
      "No data found for ADT from 2012-10-02 until 2016-05-02"
     ]
    },
    {
     "name": "stderr",
     "output_type": "stream",
     "text": [
      " 59%|█████▉    | 680/1156 [42:30<11:17,  1.42s/it]"
     ]
    },
    {
     "name": "stdout",
     "output_type": "stream",
     "text": [
      "No data found for LDW.B from 1996-01-02 until 1999-12-08"
     ]
    },
    {
     "name": "stderr",
     "output_type": "stream",
     "text": [
      " 59%|█████▉    | 682/1156 [42:37<17:20,  2.19s/it]"
     ]
    },
    {
     "name": "stdout",
     "output_type": "stream",
     "text": [
      "No data found for BNL from 1996-01-02 until 1998-07-01"
     ]
    },
    {
     "name": "stderr",
     "output_type": "stream",
     "text": [
      " 60%|█████▉    | 689/1156 [43:04<21:32,  2.77s/it]"
     ]
    },
    {
     "name": "stdout",
     "output_type": "stream",
     "text": [
      "No data found for EFU from 1996-01-02 until 2000-11-02"
     ]
    },
    {
     "name": "stderr",
     "output_type": "stream",
     "text": [
      " 60%|█████▉    | 692/1156 [43:10<16:06,  2.08s/it]"
     ]
    },
    {
     "name": "stdout",
     "output_type": "stream",
     "text": [
      "404 not found from api for ticker: USHC\n"
     ]
    },
    {
     "name": "stderr",
     "output_type": "stream",
     "text": [
      " 60%|██████    | 695/1156 [43:16<14:33,  1.90s/it]"
     ]
    },
    {
     "name": "stdout",
     "output_type": "stream",
     "text": [
      "No data found for GRN from 1996-01-02 until 1998-12-22"
     ]
    },
    {
     "name": "stderr",
     "output_type": "stream",
     "text": [
      " 60%|██████    | 696/1156 [43:17<12:22,  1.61s/it]"
     ]
    },
    {
     "name": "stdout",
     "output_type": "stream",
     "text": [
      "No data found for CA from 1996-01-02 until 2018-11-06"
     ]
    },
    {
     "name": "stderr",
     "output_type": "stream",
     "text": [
      " 61%|██████    | 700/1156 [43:46<33:55,  4.46s/it]"
     ]
    },
    {
     "name": "stdout",
     "output_type": "stream",
     "text": [
      "No data found for BEV from 1996-01-02 until 1997-12-04"
     ]
    },
    {
     "name": "stderr",
     "output_type": "stream",
     "text": [
      " 61%|██████    | 702/1156 [43:51<25:16,  3.34s/it]"
     ]
    },
    {
     "name": "stdout",
     "output_type": "stream",
     "text": [
      "No data found for MON from 2002-08-14 until 2018-06-07"
     ]
    },
    {
     "name": "stderr",
     "output_type": "stream",
     "text": [
      " 61%|██████    | 707/1156 [43:59<12:52,  1.72s/it]"
     ]
    },
    {
     "name": "stdout",
     "output_type": "stream",
     "text": [
      "No data found for UAWGQ from 1996-01-02 until 2002-05-15"
     ]
    },
    {
     "name": "stderr",
     "output_type": "stream",
     "text": [
      " 61%|██████▏   | 710/1156 [44:05<12:23,  1.67s/it]"
     ]
    },
    {
     "name": "stdout",
     "output_type": "stream",
     "text": [
      "404 not found from api for ticker: FBO\n"
     ]
    },
    {
     "name": "stderr",
     "output_type": "stream",
     "text": [
      " 62%|██████▏   | 715/1156 [44:13<10:59,  1.50s/it]"
     ]
    },
    {
     "name": "stdout",
     "output_type": "stream",
     "text": [
      "No data found for MEA from 1996-01-02 until 2002-01-30"
     ]
    },
    {
     "name": "stderr",
     "output_type": "stream",
     "text": [
      " 62%|██████▏   | 716/1156 [44:14<09:41,  1.32s/it]"
     ]
    },
    {
     "name": "stdout",
     "output_type": "stream",
     "text": [
      "No data found for AR from 1996-01-02 until 1999-10-27"
     ]
    },
    {
     "name": "stderr",
     "output_type": "stream",
     "text": [
      " 62%|██████▏   | 720/1156 [44:24<13:26,  1.85s/it]"
     ]
    },
    {
     "name": "stdout",
     "output_type": "stream",
     "text": [
      "No data found for ARC from 1996-01-02 until 2000-04-18"
     ]
    },
    {
     "name": "stderr",
     "output_type": "stream",
     "text": [
      " 63%|██████▎   | 725/1156 [44:41<18:47,  2.61s/it]"
     ]
    },
    {
     "name": "stdout",
     "output_type": "stream",
     "text": [
      "No data found for USBC from 1996-01-02 until 1997-08-04"
     ]
    },
    {
     "name": "stderr",
     "output_type": "stream",
     "text": [
      " 63%|██████▎   | 729/1156 [44:49<13:24,  1.88s/it]"
     ]
    },
    {
     "name": "stdout",
     "output_type": "stream",
     "text": [
      "No data found for CEN from 1996-01-02 until 2001-04-02"
     ]
    },
    {
     "name": "stderr",
     "output_type": "stream",
     "text": [
      " 64%|██████▎   | 736/1156 [45:39<39:35,  5.66s/it]  "
     ]
    },
    {
     "name": "stdout",
     "output_type": "stream",
     "text": [
      "No data found for PHB from 1996-01-02 until 1999-10-04"
     ]
    },
    {
     "name": "stderr",
     "output_type": "stream",
     "text": [
      " 64%|██████▍   | 738/1156 [45:42<23:55,  3.43s/it]"
     ]
    },
    {
     "name": "stdout",
     "output_type": "stream",
     "text": [
      "No data found for ECH from 1996-01-02 until 1998-07-10"
     ]
    },
    {
     "name": "stderr",
     "output_type": "stream",
     "text": [
      " 64%|██████▍   | 743/1156 [45:57<18:57,  2.75s/it]"
     ]
    },
    {
     "name": "stdout",
     "output_type": "stream",
     "text": [
      "No data found for LU from 1996-10-01 until 2006-12-01"
     ]
    },
    {
     "name": "stderr",
     "output_type": "stream",
     "text": [
      " 65%|██████▍   | 746/1156 [46:04<15:33,  2.28s/it]"
     ]
    },
    {
     "name": "stdout",
     "output_type": "stream",
     "text": [
      "No data found for UCL from 1996-01-02 until 2005-08-11"
     ]
    },
    {
     "name": "stderr",
     "output_type": "stream",
     "text": [
      " 65%|██████▍   | 750/1156 [46:17<17:46,  2.63s/it]"
     ]
    },
    {
     "name": "stdout",
     "output_type": "stream",
     "text": [
      "No data found for GFS.A from 1996-01-02 until 1998-07-16"
     ]
    },
    {
     "name": "stderr",
     "output_type": "stream",
     "text": [
      " 65%|██████▍   | 751/1156 [46:18<14:47,  2.19s/it]"
     ]
    },
    {
     "name": "stdout",
     "output_type": "stream",
     "text": [
      "No data found for UCC from 1996-01-02 until 1999-05-03"
     ]
    },
    {
     "name": "stderr",
     "output_type": "stream",
     "text": [
      " 65%|██████▌   | 756/1156 [46:29<14:01,  2.10s/it]"
     ]
    },
    {
     "name": "stdout",
     "output_type": "stream",
     "text": [
      "No data found for CEG from 1996-01-02 until 2012-03-13"
     ]
    },
    {
     "name": "stderr",
     "output_type": "stream",
     "text": [
      " 66%|██████▌   | 759/1156 [46:35<12:25,  1.88s/it]"
     ]
    },
    {
     "name": "stdout",
     "output_type": "stream",
     "text": [
      "No data found for TMC.A from 1996-01-02 until 2000-06-13"
     ]
    },
    {
     "name": "stderr",
     "output_type": "stream",
     "text": [
      " 66%|██████▌   | 762/1156 [46:48<22:51,  3.48s/it]"
     ]
    },
    {
     "name": "stdout",
     "output_type": "stream",
     "text": [
      "No data found for UMG from 1996-01-02 until 2000-06-15"
     ]
    },
    {
     "name": "stderr",
     "output_type": "stream",
     "text": [
      " 66%|██████▋   | 766/1156 [47:04<19:44,  3.04s/it]"
     ]
    },
    {
     "name": "stdout",
     "output_type": "stream",
     "text": [
      "No data found for VRTS from 2000-04-03 until 2005-07-05"
     ]
    },
    {
     "name": "stderr",
     "output_type": "stream",
     "text": [
      " 67%|██████▋   | 770/1156 [47:13<14:31,  2.26s/it]"
     ]
    },
    {
     "name": "stdout",
     "output_type": "stream",
     "text": [
      "No data found for RLM from 1996-01-02 until 2000-05-04"
     ]
    },
    {
     "name": "stderr",
     "output_type": "stream",
     "text": [
      " 68%|██████▊   | 786/1156 [48:19<19:57,  3.24s/it]"
     ]
    },
    {
     "name": "stdout",
     "output_type": "stream",
     "text": [
      "404 not found from api for ticker: DWD\n"
     ]
    },
    {
     "name": "stderr",
     "output_type": "stream",
     "text": [
      " 69%|██████▊   | 794/1156 [49:13<1:16:04, 12.61s/it]"
     ]
    },
    {
     "name": "stdout",
     "output_type": "stream",
     "text": [
      "No data found for PD from 1996-01-02 until 2007-03-20"
     ]
    },
    {
     "name": "stderr",
     "output_type": "stream",
     "text": [
      " 69%|██████▉   | 802/1156 [49:39<21:15,  3.60s/it]  "
     ]
    },
    {
     "name": "stdout",
     "output_type": "stream",
     "text": [
      "No data found for WLL from 1996-01-02 until 2002-02-11"
     ]
    },
    {
     "name": "stderr",
     "output_type": "stream",
     "text": [
      " 70%|███████   | 811/1156 [49:58<10:28,  1.82s/it]"
     ]
    },
    {
     "name": "stdout",
     "output_type": "stream",
     "text": [
      "No data found for ANV from 1996-01-02 until 1999-04-12"
     ]
    },
    {
     "name": "stderr",
     "output_type": "stream",
     "text": [
      " 71%|███████   | 820/1156 [50:35<44:03,  7.87s/it]"
     ]
    },
    {
     "name": "stdout",
     "output_type": "stream",
     "text": [
      "No data found for PBY from 1996-01-02 until 2000-04-03"
     ]
    },
    {
     "name": "stderr",
     "output_type": "stream",
     "text": [
      " 73%|███████▎  | 839/1156 [51:18<08:58,  1.70s/it]"
     ]
    },
    {
     "name": "stdout",
     "output_type": "stream",
     "text": [
      "No data found for SFS from 1996-01-02 until 1997-07-28"
     ]
    },
    {
     "name": "stderr",
     "output_type": "stream",
     "text": [
      " 73%|███████▎  | 847/1156 [51:44<12:32,  2.44s/it]"
     ]
    },
    {
     "name": "stdout",
     "output_type": "stream",
     "text": [
      "No data found for GNT from 1996-03-13 until 1998-07-01"
     ]
    },
    {
     "name": "stderr",
     "output_type": "stream",
     "text": [
      " 74%|███████▎  | 851/1156 [51:56<13:07,  2.58s/it]"
     ]
    },
    {
     "name": "stdout",
     "output_type": "stream",
     "text": [
      "404 not found from api for ticker: USH\n"
     ]
    },
    {
     "name": "stderr",
     "output_type": "stream",
     "text": [
      " 74%|███████▍  | 860/1156 [52:38<12:20,  2.50s/it]"
     ]
    },
    {
     "name": "stdout",
     "output_type": "stream",
     "text": [
      "No data found for PET from 1996-01-02 until 1998-06-29"
     ]
    },
    {
     "name": "stderr",
     "output_type": "stream",
     "text": [
      " 75%|███████▍  | 864/1156 [52:52<14:13,  2.92s/it]"
     ]
    },
    {
     "name": "stdout",
     "output_type": "stream",
     "text": [
      "No data found for DG from 1998-07-16 until 2007-07-09"
     ]
    },
    {
     "name": "stderr",
     "output_type": "stream",
     "text": [
      " 75%|███████▍  | 866/1156 [52:56<11:22,  2.35s/it]"
     ]
    },
    {
     "name": "stdout",
     "output_type": "stream",
     "text": [
      "No data found for G from 1996-01-02 until 2005-10-03"
     ]
    },
    {
     "name": "stderr",
     "output_type": "stream",
     "text": [
      " 76%|███████▌  | 878/1156 [53:21<10:00,  2.16s/it]"
     ]
    },
    {
     "name": "stdout",
     "output_type": "stream",
     "text": [
      "No data found for ACV from 1996-01-02 until 2006-11-17"
     ]
    },
    {
     "name": "stderr",
     "output_type": "stream",
     "text": [
      " 76%|███████▋  | 883/1156 [53:38<12:00,  2.64s/it]"
     ]
    },
    {
     "name": "stdout",
     "output_type": "stream",
     "text": [
      "404 not found from api for ticker: CMB\n"
     ]
    },
    {
     "name": "stderr",
     "output_type": "stream",
     "text": [
      " 77%|███████▋  | 892/1156 [54:18<11:54,  2.71s/it]"
     ]
    },
    {
     "name": "stdout",
     "output_type": "stream",
     "text": [
      "No data found for VO from 1996-01-02 until 2000-12-11"
     ]
    },
    {
     "name": "stderr",
     "output_type": "stream",
     "text": [
      " 78%|███████▊  | 897/1156 [54:26<08:15,  1.91s/it]"
     ]
    },
    {
     "name": "stdout",
     "output_type": "stream",
     "text": [
      "No data found for CIT.A from 2000-07-17 until 2001-06-04"
     ]
    },
    {
     "name": "stderr",
     "output_type": "stream",
     "text": [
      " 78%|███████▊  | 900/1156 [54:32<07:51,  1.84s/it]"
     ]
    },
    {
     "name": "stdout",
     "output_type": "stream",
     "text": [
      "No data found for XL from 2001-09-04 until 2018-09-12"
     ]
    },
    {
     "name": "stderr",
     "output_type": "stream",
     "text": [
      " 78%|███████▊  | 904/1156 [54:41<07:22,  1.76s/it]"
     ]
    },
    {
     "name": "stdout",
     "output_type": "stream",
     "text": [
      "No data found for SHLD from 2005-03-28 until 2012-09-05"
     ]
    },
    {
     "name": "stderr",
     "output_type": "stream",
     "text": [
      " 79%|███████▉  | 912/1156 [55:37<42:36, 10.48s/it]"
     ]
    },
    {
     "name": "stdout",
     "output_type": "stream",
     "text": [
      "No data found for ANRZQ from 2011-06-02 until 2012-10-02"
     ]
    },
    {
     "name": "stderr",
     "output_type": "stream",
     "text": [
      " 80%|████████  | 928/1156 [56:32<13:01,  3.43s/it]"
     ]
    },
    {
     "name": "stdout",
     "output_type": "stream",
     "text": [
      "No data found for HRS from 1996-01-02 until 1999-11-08"
     ]
    },
    {
     "name": "stderr",
     "output_type": "stream",
     "text": [
      " 81%|████████  | 938/1156 [56:56<07:25,  2.04s/it]"
     ]
    },
    {
     "name": "stdout",
     "output_type": "stream",
     "text": [
      "No data found for AFS.A from 1998-04-08 until 2000-12-01"
     ]
    },
    {
     "name": "stderr",
     "output_type": "stream",
     "text": [
      " 82%|████████▏ | 943/1156 [57:14<10:44,  3.03s/it]"
     ]
    },
    {
     "name": "stdout",
     "output_type": "stream",
     "text": [
      "No data found for FLMIQ from 1996-01-02 until 1997-12-24"
     ]
    },
    {
     "name": "stderr",
     "output_type": "stream",
     "text": [
      " 82%|████████▏ | 949/1156 [57:24<05:33,  1.61s/it]"
     ]
    },
    {
     "name": "stdout",
     "output_type": "stream",
     "text": [
      "No data found for CHRS from 1996-01-02 until 1998-04-08"
     ]
    },
    {
     "name": "stderr",
     "output_type": "stream",
     "text": [
      " 82%|████████▏ | 952/1156 [57:49<15:17,  4.50s/it]"
     ]
    },
    {
     "name": "stdout",
     "output_type": "stream",
     "text": [
      "No data found for SUNEQ from 2007-05-31 until 2011-12-19"
     ]
    },
    {
     "name": "stderr",
     "output_type": "stream",
     "text": [
      " 83%|████████▎ | 958/1156 [58:07<09:47,  2.97s/it]"
     ]
    },
    {
     "name": "stdout",
     "output_type": "stream",
     "text": [
      "404 not found from api for ticker: LLX\n"
     ]
    },
    {
     "name": "stderr",
     "output_type": "stream",
     "text": [
      " 83%|████████▎ | 959/1156 [58:08<07:42,  2.35s/it]"
     ]
    },
    {
     "name": "stdout",
     "output_type": "stream",
     "text": [
      "No data found for SUB from 1998-01-28 until 2001-03-01"
     ]
    },
    {
     "name": "stderr",
     "output_type": "stream",
     "text": [
      " 83%|████████▎ | 960/1156 [58:09<06:48,  2.09s/it]"
     ]
    },
    {
     "name": "stdout",
     "output_type": "stream",
     "text": [
      "No data found for UST from 1996-01-02 until 2009-01-06"
     ]
    },
    {
     "name": "stderr",
     "output_type": "stream",
     "text": [
      " 83%|████████▎ | 962/1156 [58:15<07:24,  2.29s/it]"
     ]
    },
    {
     "name": "stdout",
     "output_type": "stream",
     "text": [
      "No data found for OM from 1996-01-02 until 1996-10-01"
     ]
    },
    {
     "name": "stderr",
     "output_type": "stream",
     "text": [
      " 83%|████████▎ | 965/1156 [58:56<40:04, 12.59s/it]"
     ]
    },
    {
     "name": "stdout",
     "output_type": "stream",
     "text": [
      "No data found for GLD from 1996-01-02 until 1997-05-06"
     ]
    },
    {
     "name": "stderr",
     "output_type": "stream",
     "text": [
      " 84%|████████▎ | 967/1156 [58:59<21:50,  6.93s/it]"
     ]
    },
    {
     "name": "stdout",
     "output_type": "stream",
     "text": [
      "No data found for EMC from 1996-03-28 until 2016-09-07"
     ]
    },
    {
     "name": "stderr",
     "output_type": "stream",
     "text": [
      " 84%|████████▍ | 973/1156 [59:12<07:43,  2.53s/it]"
     ]
    },
    {
     "name": "stdout",
     "output_type": "stream",
     "text": [
      "No data found for H from 1996-01-02 until 2001-06-29"
     ]
    },
    {
     "name": "stderr",
     "output_type": "stream",
     "text": [
      " 84%|████████▍ | 974/1156 [59:14<06:57,  2.29s/it]"
     ]
    },
    {
     "name": "stdout",
     "output_type": "stream",
     "text": [
      "No data found for H from 2006-08-01 until 2007-04-10"
     ]
    },
    {
     "name": "stderr",
     "output_type": "stream",
     "text": [
      " 85%|████████▌ | 984/1156 [59:40<06:59,  2.44s/it]"
     ]
    },
    {
     "name": "stdout",
     "output_type": "stream",
     "text": [
      "No data found for FDC from 1996-01-02 until 2007-09-25"
     ]
    },
    {
     "name": "stderr",
     "output_type": "stream",
     "text": [
      " 85%|████████▌ | 985/1156 [59:41<05:44,  2.01s/it]"
     ]
    },
    {
     "name": "stdout",
     "output_type": "stream",
     "text": [
      "404 not found from api for ticker: NYN\n"
     ]
    },
    {
     "name": "stderr",
     "output_type": "stream",
     "text": [
      " 86%|████████▌ | 992/1156 [59:59<05:13,  1.91s/it]"
     ]
    },
    {
     "name": "stdout",
     "output_type": "stream",
     "text": [
      "No data found for CR from 1996-01-02 until 2004-12-20"
     ]
    },
    {
     "name": "stderr",
     "output_type": "stream",
     "text": [
      " 87%|████████▋ | 1002/1156 [1:00:44<12:01,  4.68s/it]"
     ]
    },
    {
     "name": "stdout",
     "output_type": "stream",
     "text": [
      "404 not found from api for ticker: CYR\n"
     ]
    },
    {
     "name": "stderr",
     "output_type": "stream",
     "text": [
      " 87%|████████▋ | 1011/1156 [1:01:07<05:32,  2.29s/it]"
     ]
    },
    {
     "name": "stdout",
     "output_type": "stream",
     "text": [
      "No data found for WB from 1996-01-02 until 2009-01-02"
     ]
    },
    {
     "name": "stderr",
     "output_type": "stream",
     "text": [
      " 88%|████████▊ | 1012/1156 [1:01:08<04:35,  1.92s/it]"
     ]
    },
    {
     "name": "stdout",
     "output_type": "stream",
     "text": [
      "No data found for CSE from 1996-01-22 until 1999-11-15"
     ]
    },
    {
     "name": "stderr",
     "output_type": "stream",
     "text": [
      " 88%|████████▊ | 1014/1156 [1:01:12<04:28,  1.89s/it]"
     ]
    },
    {
     "name": "stdout",
     "output_type": "stream",
     "text": [
      "No data found for DO from 2009-02-26 until 2016-10-03"
     ]
    },
    {
     "name": "stderr",
     "output_type": "stream",
     "text": [
      " 88%|████████▊ | 1016/1156 [1:01:17<04:41,  2.01s/it]"
     ]
    },
    {
     "name": "stdout",
     "output_type": "stream",
     "text": [
      "No data found for AL from 1996-01-02 until 2002-07-22"
     ]
    },
    {
     "name": "stderr",
     "output_type": "stream",
     "text": [
      " 89%|████████▉ | 1026/1156 [1:02:02<06:33,  3.03s/it]"
     ]
    },
    {
     "name": "stdout",
     "output_type": "stream",
     "text": [
      "No data found for AZA.A from 1996-01-02 until 2001-06-25"
     ]
    },
    {
     "name": "stderr",
     "output_type": "stream",
     "text": [
      " 89%|████████▉ | 1033/1156 [1:02:34<06:11,  3.02s/it]"
     ]
    },
    {
     "name": "stdout",
     "output_type": "stream",
     "text": [
      "No data found for BUD from 1996-01-02 until 2008-11-18"
     ]
    },
    {
     "name": "stderr",
     "output_type": "stream",
     "text": [
      " 89%|████████▉ | 1034/1156 [1:02:35<04:51,  2.39s/it]"
     ]
    },
    {
     "name": "stdout",
     "output_type": "stream",
     "text": [
      "No data found for BFI from 1996-01-02 until 1999-08-02"
     ]
    },
    {
     "name": "stderr",
     "output_type": "stream",
     "text": [
      " 90%|████████▉ | 1035/1156 [1:02:36<03:55,  1.95s/it]"
     ]
    },
    {
     "name": "stdout",
     "output_type": "stream",
     "text": [
      "No data found for SAF from 1996-01-02 until 2008-09-23"
     ]
    },
    {
     "name": "stderr",
     "output_type": "stream",
     "text": [
      " 90%|████████▉ | 1040/1156 [1:02:46<03:48,  1.97s/it]"
     ]
    },
    {
     "name": "stdout",
     "output_type": "stream",
     "text": [
      "No data found for BAY from 1996-02-12 until 1998-08-31"
     ]
    },
    {
     "name": "stderr",
     "output_type": "stream",
     "text": [
      " 91%|█████████ | 1047/1156 [1:03:05<04:01,  2.22s/it]"
     ]
    },
    {
     "name": "stdout",
     "output_type": "stream",
     "text": [
      "No data found for TX from 1996-01-02 until 2001-10-10"
     ]
    },
    {
     "name": "stderr",
     "output_type": "stream",
     "text": [
      " 91%|█████████ | 1048/1156 [1:03:05<03:16,  1.82s/it]"
     ]
    },
    {
     "name": "stdout",
     "output_type": "stream",
     "text": [
      "No data found for TSG from 2000-03-16 until 2007-04-02"
     ]
    },
    {
     "name": "stderr",
     "output_type": "stream",
     "text": [
      " 91%|█████████ | 1049/1156 [1:03:08<03:44,  2.10s/it]"
     ]
    },
    {
     "name": "stdout",
     "output_type": "stream",
     "text": [
      "No data found for AMP from 1996-01-02 until 1999-04-05"
     ]
    },
    {
     "name": "stderr",
     "output_type": "stream",
     "text": [
      " 91%|█████████▏| 1055/1156 [1:03:57<20:47, 12.35s/it]"
     ]
    },
    {
     "name": "stdout",
     "output_type": "stream",
     "text": [
      "No data found for PWER from 2000-10-23 until 2005-03-14"
     ]
    },
    {
     "name": "stderr",
     "output_type": "stream",
     "text": [
      " 92%|█████████▏| 1065/1156 [1:05:13<13:05,  8.64s/it]"
     ]
    },
    {
     "name": "stdout",
     "output_type": "stream",
     "text": [
      "404 not found from api for ticker: GWF\n"
     ]
    },
    {
     "name": "stderr",
     "output_type": "stream",
     "text": [
      " 92%|█████████▏| 1067/1156 [1:05:18<07:55,  5.34s/it]"
     ]
    },
    {
     "name": "stdout",
     "output_type": "stream",
     "text": [
      "No data found for HDLM from 1996-01-02 until 1996-03-08"
     ]
    },
    {
     "name": "stderr",
     "output_type": "stream",
     "text": [
      " 93%|█████████▎| 1073/1156 [1:05:33<03:34,  2.59s/it]"
     ]
    },
    {
     "name": "stdout",
     "output_type": "stream",
     "text": [
      "404 not found from api for ticker: SHN\n"
     ]
    },
    {
     "name": "stderr",
     "output_type": "stream",
     "text": [
      " 93%|█████████▎| 1080/1156 [1:05:46<02:03,  1.62s/it]"
     ]
    },
    {
     "name": "stdout",
     "output_type": "stream",
     "text": [
      "No data found for DNB from 2008-12-02 until 2017-04-05"
     ]
    },
    {
     "name": "stderr",
     "output_type": "stream",
     "text": [
      " 94%|█████████▎| 1083/1156 [1:05:56<02:49,  2.32s/it]"
     ]
    },
    {
     "name": "stdout",
     "output_type": "stream",
     "text": [
      "No data found for FG from 1996-01-02 until 1998-04-27"
     ]
    },
    {
     "name": "stderr",
     "output_type": "stream",
     "text": [
      " 94%|█████████▍| 1088/1156 [1:06:44<05:39,  4.99s/it]"
     ]
    },
    {
     "name": "stdout",
     "output_type": "stream",
     "text": [
      "No data found for MTL from 1998-02-23 until 1999-09-20"
     ]
    },
    {
     "name": "stderr",
     "output_type": "stream",
     "text": [
      " 94%|█████████▍| 1089/1156 [1:06:45<04:11,  3.75s/it]"
     ]
    },
    {
     "name": "stdout",
     "output_type": "stream",
     "text": [
      "No data found for CHIR from 2000-11-24 until 2006-04-20"
     ]
    },
    {
     "name": "stderr",
     "output_type": "stream",
     "text": [
      " 94%|█████████▍| 1092/1156 [1:06:53<03:00,  2.81s/it]"
     ]
    },
    {
     "name": "stdout",
     "output_type": "stream",
     "text": [
      "No data found for WYND from 2006-08-01 until 2018-05-31"
     ]
    },
    {
     "name": "stderr",
     "output_type": "stream",
     "text": [
      " 95%|█████████▌| 1103/1156 [1:07:50<05:19,  6.04s/it]"
     ]
    },
    {
     "name": "stdout",
     "output_type": "stream",
     "text": [
      "No data found for CHA from 1996-01-02 until 2000-06-19"
     ]
    },
    {
     "name": "stderr",
     "output_type": "stream",
     "text": [
      " 96%|█████████▌| 1104/1156 [1:07:51<03:55,  4.53s/it]"
     ]
    },
    {
     "name": "stdout",
     "output_type": "stream",
     "text": [
      "No data found for FSL from 2004-12-03 until 2006-12-04"
     ]
    },
    {
     "name": "stderr",
     "output_type": "stream",
     "text": [
      " 96%|█████████▌| 1109/1156 [1:08:01<01:46,  2.27s/it]"
     ]
    },
    {
     "name": "stdout",
     "output_type": "stream",
     "text": [
      "No data found for FTL.A from 1996-01-02 until 1999-10-01"
     ]
    },
    {
     "name": "stderr",
     "output_type": "stream",
     "text": [
      " 96%|█████████▌| 1112/1156 [1:08:42<06:47,  9.27s/it]"
     ]
    },
    {
     "name": "stdout",
     "output_type": "stream",
     "text": [
      "No data found for PAC from 1996-01-02 until 1997-04-01"
     ]
    },
    {
     "name": "stderr",
     "output_type": "stream",
     "text": [
      " 97%|█████████▋| 1125/1156 [1:09:34<01:14,  2.42s/it]"
     ]
    },
    {
     "name": "stdout",
     "output_type": "stream",
     "text": [
      "No data found for LEHMQ from 1998-01-12 until 2008-09-17"
     ]
    },
    {
     "name": "stderr",
     "output_type": "stream",
     "text": [
      " 97%|█████████▋| 1126/1156 [1:09:35<00:58,  1.96s/it]"
     ]
    },
    {
     "name": "stdout",
     "output_type": "stream",
     "text": [
      "No data found for DTV from 2006-12-04 until 2015-07-27"
     ]
    },
    {
     "name": "stderr",
     "output_type": "stream",
     "text": [
      " 98%|█████████▊| 1138/1156 [1:10:40<00:57,  3.21s/it]"
     ]
    },
    {
     "name": "stdout",
     "output_type": "stream",
     "text": [
      "No data found for BFO from 1996-01-02 until 2000-10-03"
     ]
    },
    {
     "name": "stderr",
     "output_type": "stream",
     "text": [
      " 99%|█████████▊| 1140/1156 [1:10:44<00:45,  2.83s/it]"
     ]
    },
    {
     "name": "stdout",
     "output_type": "stream",
     "text": [
      "No data found for MOB from 1996-01-02 until 1999-12-01"
     ]
    },
    {
     "name": "stderr",
     "output_type": "stream",
     "text": [
      " 99%|█████████▉| 1143/1156 [1:11:10<01:05,  5.02s/it]"
     ]
    },
    {
     "name": "stdout",
     "output_type": "stream",
     "text": [
      "No data found for COC.B from 1999-08-09 until 2002-09-03"
     ]
    },
    {
     "name": "stderr",
     "output_type": "stream",
     "text": [
      "100%|██████████| 1156/1156 [1:11:40<00:00,  3.72s/it]\n"
     ]
    }
   ],
   "source": [
    "import pickle\n",
    "import os \n",
    "\n",
    "with open(\"eod_key.pkl\", \"rb\") as input_file:\n",
    "  eod_key = pickle.load(input_file)\n",
    "\n",
    "from urllib.request import urlopen\n",
    "import pandas as pd\n",
    "import numpy as np\n",
    "import urllib.request\n",
    "from urllib.error import HTTPError\n",
    "\n",
    "# Function to get the Data\n",
    "\n",
    "def get_jsonparsed_data(url):\n",
    "    res = urlopen(url)\n",
    "    data = res.read().decode(\"utf-8\")\n",
    "    return json.loads(data)\n",
    "\n",
    "def find_when_active(cons,tick):\n",
    "    '''\n",
    "    oututs a list of tuples containing the datetimes of when it first started and ended being part of the s&p500\n",
    "    '''\n",
    "    mask = cons['tickers'].apply(lambda x: tick in x)\n",
    "    part_of = []\n",
    "    active = False\n",
    "    for idx in range(len(cons)):\n",
    "        # first time appearing \n",
    "        if not active and mask.iloc[idx]:\n",
    "            start    = mask.index[idx]\n",
    "            active = True\n",
    "            continue\n",
    "        # removed from index\n",
    "        if active and not mask.iloc[idx]:\n",
    "            end      = mask.index[idx]\n",
    "            active   = False\n",
    "            part_of.append((start,end))\n",
    "            continue\n",
    "\n",
    "    if active:\n",
    "        end = mask.index[-1]\n",
    "        part_of.append((start,end))\n",
    "    assert len(part_of) != 0\n",
    "    return part_of\n",
    "\n",
    "import datetime as dt\n",
    "from tqdm import tqdm \n",
    "\n",
    "filename = 'price_df.csv'\n",
    "\n",
    "# first look up the historical s&p 500 constituents\n",
    "constituents = pd.read_csv('sp500.csv')\n",
    "constituents.date  = pd.to_datetime(constituents.date)\n",
    "constituents.set_index(constituents.date, inplace=True)\n",
    "constituents.drop(columns=['date'],inplace=True)\n",
    "\n",
    "constituents['tickers'] = constituents['tickers'].apply(lambda row: row.split(','))\n",
    "all_tickers = set(np.concatenate(constituents.tickers.values))\n",
    "\n",
    "begin = constituents.index[0]\n",
    "end   = constituents.index[-1]\n",
    "\n",
    "price_df = pd.DataFrame(index=pd.date_range(start=begin, end=end, freq=\"B\"), columns = list(all_tickers))\n",
    "failed_to_add = list()\n",
    "\n",
    "# check if the file already exists\n",
    "# if os.path.exists(filename):\n",
    "#     price_df = pd.read_csv(filename)\n",
    "#     price_df = price_df.rename(columns={'Unnamed: 0':'date'})\n",
    "#     price_df.set_index('date', inplace=True)    \n",
    "\n",
    "for count, ticker in enumerate(tqdm(all_tickers)):\n",
    "    # find the correct dates the stock was part of the s&p 500\n",
    "    for start, stop in find_when_active(constituents, ticker):\n",
    "        # fetch data using eod api\n",
    "        try:\n",
    "            df  = get_jsonparsed_data(\"https://eodhd.com/api/eod/{}.US?from={}&to={}&period=d&api_token={}&fmt=json\".format(ticker.replace('.','-'),\n",
    "                start.strftime('%Y-%m-%d'),stop.strftime('%Y-%m-%d'), eod_key))\n",
    "        except HTTPError as e:\n",
    "            if e.code == 404:\n",
    "                print('404 not found from api for ticker: {}'.format(ticker))\n",
    "                failed_to_add.append(ticker)\n",
    "                continue\n",
    "            else:\n",
    "                print(e)\n",
    "        # output if no data was able to be found\n",
    "        if len(df) == 0:\n",
    "            print('No data found for {} from {} until {}'.format(ticker,start.strftime('%Y-%m-%d'),stop.strftime('%Y-%m-%d')),end=\"\")\n",
    "            failed_to_add.append(ticker)\n",
    "            continue\n",
    "        df1 = pd.DataFrame(df)\n",
    "        df1['date'] = pd.to_datetime(df1['date'])\n",
    "        df1.set_index('date',inplace=True)\n",
    "        # merge the dataset\n",
    "        price_df.loc[df1.index, ticker] = df1['adjusted_close']    \n",
    "\n",
    "    #occasionally backup the dataframe\n",
    "    if count % 20 == 0:\n",
    "        price_df.to_csv(filename)\n",
    "\n",
    "price_df.to_csv(filename) #save when done"
   ]
  },
  {
   "cell_type": "markdown",
   "metadata": {},
   "source": [
    "### 2) dataset generated using fmp"
   ]
  },
  {
   "cell_type": "code",
   "execution_count": 8,
   "metadata": {},
   "outputs": [
    {
     "ename": "KeyboardInterrupt",
     "evalue": "",
     "output_type": "error",
     "traceback": [
      "\u001b[0;31m---------------------------------------------------------------------------\u001b[0m",
      "\u001b[0;31mKeyboardInterrupt\u001b[0m                         Traceback (most recent call last)",
      "\u001b[1;32m/Users/quintengeerts/Desktop/master thesis/stat_arb_thesis/empirical_analysis/data_gathering.ipynb Cell 5\u001b[0m line \u001b[0;36m4\n\u001b[1;32m     <a href='vscode-notebook-cell:/Users/quintengeerts/Desktop/master%20thesis/stat_arb_thesis/empirical_analysis/data_gathering.ipynb#W2sZmlsZQ%3D%3D?line=37'>38</a>\u001b[0m \u001b[39m# check if the file already exists\u001b[39;00m\n\u001b[1;32m     <a href='vscode-notebook-cell:/Users/quintengeerts/Desktop/master%20thesis/stat_arb_thesis/empirical_analysis/data_gathering.ipynb#W2sZmlsZQ%3D%3D?line=38'>39</a>\u001b[0m \u001b[39mif\u001b[39;00m os\u001b[39m.\u001b[39mpath\u001b[39m.\u001b[39mexists(filename):\n\u001b[0;32m---> <a href='vscode-notebook-cell:/Users/quintengeerts/Desktop/master%20thesis/stat_arb_thesis/empirical_analysis/data_gathering.ipynb#W2sZmlsZQ%3D%3D?line=39'>40</a>\u001b[0m     price_df \u001b[39m=\u001b[39m pd\u001b[39m.\u001b[39;49mread_csv(filename)\n\u001b[1;32m     <a href='vscode-notebook-cell:/Users/quintengeerts/Desktop/master%20thesis/stat_arb_thesis/empirical_analysis/data_gathering.ipynb#W2sZmlsZQ%3D%3D?line=40'>41</a>\u001b[0m     price_df \u001b[39m=\u001b[39m price_df\u001b[39m.\u001b[39mrename(columns\u001b[39m=\u001b[39m{\u001b[39m'\u001b[39m\u001b[39mUnnamed: 0\u001b[39m\u001b[39m'\u001b[39m:\u001b[39m'\u001b[39m\u001b[39mdate\u001b[39m\u001b[39m'\u001b[39m})\n\u001b[1;32m     <a href='vscode-notebook-cell:/Users/quintengeerts/Desktop/master%20thesis/stat_arb_thesis/empirical_analysis/data_gathering.ipynb#W2sZmlsZQ%3D%3D?line=41'>42</a>\u001b[0m     price_df\u001b[39m.\u001b[39mset_index(\u001b[39m'\u001b[39m\u001b[39mdate\u001b[39m\u001b[39m'\u001b[39m, inplace\u001b[39m=\u001b[39m\u001b[39mTrue\u001b[39;00m)    \n",
      "File \u001b[0;32m/opt/anaconda3/envs/deep_learning/lib/python3.8/site-packages/pandas/util/_decorators.py:211\u001b[0m, in \u001b[0;36mdeprecate_kwarg.<locals>._deprecate_kwarg.<locals>.wrapper\u001b[0;34m(*args, **kwargs)\u001b[0m\n\u001b[1;32m    209\u001b[0m     \u001b[39melse\u001b[39;00m:\n\u001b[1;32m    210\u001b[0m         kwargs[new_arg_name] \u001b[39m=\u001b[39m new_arg_value\n\u001b[0;32m--> 211\u001b[0m \u001b[39mreturn\u001b[39;00m func(\u001b[39m*\u001b[39;49margs, \u001b[39m*\u001b[39;49m\u001b[39m*\u001b[39;49mkwargs)\n",
      "File \u001b[0;32m/opt/anaconda3/envs/deep_learning/lib/python3.8/site-packages/pandas/util/_decorators.py:331\u001b[0m, in \u001b[0;36mdeprecate_nonkeyword_arguments.<locals>.decorate.<locals>.wrapper\u001b[0;34m(*args, **kwargs)\u001b[0m\n\u001b[1;32m    325\u001b[0m \u001b[39mif\u001b[39;00m \u001b[39mlen\u001b[39m(args) \u001b[39m>\u001b[39m num_allow_args:\n\u001b[1;32m    326\u001b[0m     warnings\u001b[39m.\u001b[39mwarn(\n\u001b[1;32m    327\u001b[0m         msg\u001b[39m.\u001b[39mformat(arguments\u001b[39m=\u001b[39m_format_argument_list(allow_args)),\n\u001b[1;32m    328\u001b[0m         \u001b[39mFutureWarning\u001b[39;00m,\n\u001b[1;32m    329\u001b[0m         stacklevel\u001b[39m=\u001b[39mfind_stack_level(),\n\u001b[1;32m    330\u001b[0m     )\n\u001b[0;32m--> 331\u001b[0m \u001b[39mreturn\u001b[39;00m func(\u001b[39m*\u001b[39;49margs, \u001b[39m*\u001b[39;49m\u001b[39m*\u001b[39;49mkwargs)\n",
      "File \u001b[0;32m/opt/anaconda3/envs/deep_learning/lib/python3.8/site-packages/pandas/io/parsers/readers.py:950\u001b[0m, in \u001b[0;36mread_csv\u001b[0;34m(filepath_or_buffer, sep, delimiter, header, names, index_col, usecols, squeeze, prefix, mangle_dupe_cols, dtype, engine, converters, true_values, false_values, skipinitialspace, skiprows, skipfooter, nrows, na_values, keep_default_na, na_filter, verbose, skip_blank_lines, parse_dates, infer_datetime_format, keep_date_col, date_parser, dayfirst, cache_dates, iterator, chunksize, compression, thousands, decimal, lineterminator, quotechar, quoting, doublequote, escapechar, comment, encoding, encoding_errors, dialect, error_bad_lines, warn_bad_lines, on_bad_lines, delim_whitespace, low_memory, memory_map, float_precision, storage_options)\u001b[0m\n\u001b[1;32m    935\u001b[0m kwds_defaults \u001b[39m=\u001b[39m _refine_defaults_read(\n\u001b[1;32m    936\u001b[0m     dialect,\n\u001b[1;32m    937\u001b[0m     delimiter,\n\u001b[0;32m   (...)\u001b[0m\n\u001b[1;32m    946\u001b[0m     defaults\u001b[39m=\u001b[39m{\u001b[39m\"\u001b[39m\u001b[39mdelimiter\u001b[39m\u001b[39m\"\u001b[39m: \u001b[39m\"\u001b[39m\u001b[39m,\u001b[39m\u001b[39m\"\u001b[39m},\n\u001b[1;32m    947\u001b[0m )\n\u001b[1;32m    948\u001b[0m kwds\u001b[39m.\u001b[39mupdate(kwds_defaults)\n\u001b[0;32m--> 950\u001b[0m \u001b[39mreturn\u001b[39;00m _read(filepath_or_buffer, kwds)\n",
      "File \u001b[0;32m/opt/anaconda3/envs/deep_learning/lib/python3.8/site-packages/pandas/io/parsers/readers.py:611\u001b[0m, in \u001b[0;36m_read\u001b[0;34m(filepath_or_buffer, kwds)\u001b[0m\n\u001b[1;32m    608\u001b[0m     \u001b[39mreturn\u001b[39;00m parser\n\u001b[1;32m    610\u001b[0m \u001b[39mwith\u001b[39;00m parser:\n\u001b[0;32m--> 611\u001b[0m     \u001b[39mreturn\u001b[39;00m parser\u001b[39m.\u001b[39;49mread(nrows)\n",
      "File \u001b[0;32m/opt/anaconda3/envs/deep_learning/lib/python3.8/site-packages/pandas/io/parsers/readers.py:1778\u001b[0m, in \u001b[0;36mTextFileReader.read\u001b[0;34m(self, nrows)\u001b[0m\n\u001b[1;32m   1771\u001b[0m nrows \u001b[39m=\u001b[39m validate_integer(\u001b[39m\"\u001b[39m\u001b[39mnrows\u001b[39m\u001b[39m\"\u001b[39m, nrows)\n\u001b[1;32m   1772\u001b[0m \u001b[39mtry\u001b[39;00m:\n\u001b[1;32m   1773\u001b[0m     \u001b[39m# error: \"ParserBase\" has no attribute \"read\"\u001b[39;00m\n\u001b[1;32m   1774\u001b[0m     (\n\u001b[1;32m   1775\u001b[0m         index,\n\u001b[1;32m   1776\u001b[0m         columns,\n\u001b[1;32m   1777\u001b[0m         col_dict,\n\u001b[0;32m-> 1778\u001b[0m     ) \u001b[39m=\u001b[39m \u001b[39mself\u001b[39;49m\u001b[39m.\u001b[39;49m_engine\u001b[39m.\u001b[39;49mread(  \u001b[39m# type: ignore[attr-defined]\u001b[39;49;00m\n\u001b[1;32m   1779\u001b[0m         nrows\n\u001b[1;32m   1780\u001b[0m     )\n\u001b[1;32m   1781\u001b[0m \u001b[39mexcept\u001b[39;00m \u001b[39mException\u001b[39;00m:\n\u001b[1;32m   1782\u001b[0m     \u001b[39mself\u001b[39m\u001b[39m.\u001b[39mclose()\n",
      "File \u001b[0;32m/opt/anaconda3/envs/deep_learning/lib/python3.8/site-packages/pandas/io/parsers/c_parser_wrapper.py:230\u001b[0m, in \u001b[0;36mCParserWrapper.read\u001b[0;34m(self, nrows)\u001b[0m\n\u001b[1;32m    228\u001b[0m \u001b[39mtry\u001b[39;00m:\n\u001b[1;32m    229\u001b[0m     \u001b[39mif\u001b[39;00m \u001b[39mself\u001b[39m\u001b[39m.\u001b[39mlow_memory:\n\u001b[0;32m--> 230\u001b[0m         chunks \u001b[39m=\u001b[39m \u001b[39mself\u001b[39;49m\u001b[39m.\u001b[39;49m_reader\u001b[39m.\u001b[39;49mread_low_memory(nrows)\n\u001b[1;32m    231\u001b[0m         \u001b[39m# destructive to chunks\u001b[39;00m\n\u001b[1;32m    232\u001b[0m         data \u001b[39m=\u001b[39m _concatenate_chunks(chunks)\n",
      "File \u001b[0;32m/opt/anaconda3/envs/deep_learning/lib/python3.8/site-packages/pandas/_libs/parsers.pyx:808\u001b[0m, in \u001b[0;36mpandas._libs.parsers.TextReader.read_low_memory\u001b[0;34m()\u001b[0m\n",
      "File \u001b[0;32m/opt/anaconda3/envs/deep_learning/lib/python3.8/site-packages/pandas/_libs/parsers.pyx:890\u001b[0m, in \u001b[0;36mpandas._libs.parsers.TextReader._read_rows\u001b[0;34m()\u001b[0m\n",
      "File \u001b[0;32m/opt/anaconda3/envs/deep_learning/lib/python3.8/site-packages/pandas/_libs/parsers.pyx:1050\u001b[0m, in \u001b[0;36mpandas._libs.parsers.TextReader._convert_column_data\u001b[0;34m()\u001b[0m\n",
      "File \u001b[0;32m/opt/anaconda3/envs/deep_learning/lib/python3.8/site-packages/pandas/_libs/parsers.pyx:1388\u001b[0m, in \u001b[0;36mpandas._libs.parsers._maybe_upcast\u001b[0;34m()\u001b[0m\n",
      "File \u001b[0;32m<__array_function__ internals>:177\u001b[0m, in \u001b[0;36mputmask\u001b[0;34m(*args, **kwargs)\u001b[0m\n",
      "\u001b[0;31mKeyboardInterrupt\u001b[0m: "
     ]
    }
   ],
   "source": [
    "import pickle\n",
    "import os \n",
    "with open(\"fmp_key.pkl\", \"rb\") as input_file:\n",
    "  fmp_key = pickle.load(input_file)\n",
    "\n",
    "with open(\"eod_key.pkl\", \"rb\") as input_file:\n",
    "  eod_key = pickle.load(input_file)\n",
    "\n",
    "import urllib, json\n",
    "import requests\n",
    "from urllib.request import urlopen\n",
    "import pandas as pd\n",
    "\n",
    "# Function to get the Data\n",
    "\n",
    "def get_jsonparsed_data(url):\n",
    "    res = urlopen(url)\n",
    "    data = res.read().decode(\"utf-8\")\n",
    "    return json.loads(data)\n",
    "\n",
    "import datetime as dt\n",
    "from tqdm import tqdm \n",
    "\n",
    "filename = 'price_df.csv'\n",
    "data_provider  = 'eod' # other choice is 'fmp'\n",
    "\n",
    "# first look up the historical s&p 500 constituents\n",
    "constituents = get_jsonparsed_data(\"https://financialmodelingprep.com/api/v3/historical/sp500_constituent?apikey={}\".format(fmp_key))\n",
    "constituents = pd.DataFrame(constituents)\n",
    "constituents['date'] = pd.to_datetime(constituents['date'])\n",
    "all_tickers = set(constituents['symbol'].values)\n",
    "\n",
    "begin = dt.datetime(1980,1,2)\n",
    "end   = dt.datetime(2024,1,1)\n",
    "\n",
    "price_df = pd.DataFrame(index=pd.date_range(start=begin, end=end, freq=\"B\"))\n",
    "failed_to_add = list()\n",
    "# check if the file already exists\n",
    "if os.path.exists(filename):\n",
    "    price_df = pd.read_csv(filename)\n",
    "    price_df = price_df.rename(columns={'Unnamed: 0':'date'})\n",
    "    price_df.set_index('date', inplace=True)    \n",
    "\n",
    "for count, ticker in enumerate(tqdm(all_tickers)):\n",
    "    # find the correct dates the stock was part of the s&p 500\n",
    "    date_begin = begin\n",
    "    date_end   = end\n",
    "    ticker = ticker.split(\" \")[0]\n",
    "    \n",
    "    if ticker in price_df.columns:\n",
    "        continue\n",
    "    for _, row in constituents[constituents.symbol == ticker].iterrows():\n",
    "        if len(row['addedSecurity']) != 0:\n",
    "            date_begin = begin if row.date <= begin else row.date\n",
    "        if len(row['removedSecurity']) != 0:\n",
    "            date_end = end if row.date >= end else end\n",
    "\n",
    "    if data_provider == 'fmp':\n",
    "        # get the data from the fmp api\n",
    "        df = get_jsonparsed_data(\"https://financialmodelingprep.com/api/v3/historical-price-full/{}?from={}&to={}&apikey={}\".format(ticker,\n",
    "            date_begin.strftime('%Y-%m-%d'),date_end.strftime('%Y-%m-%d'),fmp_key))\n",
    "        if len(df) == 0:\n",
    "            print('could not add {}'.format(ticker),end=\"\")\n",
    "            failed_to_add.append(ticker)\n",
    "            continue\n",
    "        df1 = pd.DataFrame(df['historical'])\n",
    "        df1['date'] = pd.to_datetime(df1['date'])\n",
    "        df1.set_index('date',inplace=True)\n",
    "        # merge the dataset\n",
    "        price_df = pd.merge(price_df, df1['adjClose'], how='left', left_index=True, right_index=True)\n",
    "        price_df = price_df.rename(columns={'adjClose': ticker})\n",
    "    elif data_provider == 'eod':\n",
    "        df  = get_jsonparsed_data(\"https://eodhd.com/api/eod/{}.US?from={}&to={}&period=d&api_token={}&fmt=json\".format(ticker,\n",
    "            date_begin.strftime('%Y-%m-%d'),date_end.strftime('%Y-%m-%d'), eod_key))\n",
    "        if len(df) == 0:\n",
    "            print('could not add {}'.format(ticker),end=\"\")\n",
    "            failed_to_add.append(ticker)\n",
    "            continue\n",
    "        df1 = pd.DataFrame(df)\n",
    "        df1['date'] = pd.to_datetime(df1['date'])\n",
    "        df1.set_index('date',inplace=True)\n",
    "        # merge the dataset\n",
    "        price_df = pd.merge(price_df, df1['adjusted_close'], how='left', left_index=True, right_index=True)\n",
    "        price_df = price_df.rename(columns={'adjusted_close': ticker})\n",
    "\n",
    "    # occasionally backup the dataframe\n",
    "    if count % 20 == 0:\n",
    "        price_df.to_csv(filename)"
   ]
  },
  {
   "cell_type": "markdown",
   "metadata": {},
   "source": [
    "### 3) dataset generated using WRDS"
   ]
  },
  {
   "cell_type": "code",
   "execution_count": 2,
   "metadata": {},
   "outputs": [],
   "source": [
    "import pandas as pd\n",
    "import numpy as np\n",
    "import datetime as dt\n",
    "from tqdm import tqdm\n",
    "pd.set_option('display.max_columns', 100)"
   ]
  },
  {
   "cell_type": "code",
   "execution_count": 3,
   "metadata": {},
   "outputs": [
    {
     "name": "stderr",
     "output_type": "stream",
     "text": [
      "/var/folders/qc/v9nsdlnj777f923zdc9n38vw0000gn/T/ipykernel_92727/211164554.py:1: DtypeWarning: Columns (2,3,11,20,28) have mixed types. Specify dtype option on import or set low_memory=False.\n",
      "  data = pd.read_csv('wrds_daily_data_raw.csv')\n"
     ]
    }
   ],
   "source": [
    "data = pd.read_csv('wrds_daily_data_raw.csv')\n",
    "data.date = pd.to_datetime(data.date)"
   ]
  },
  {
   "cell_type": "markdown",
   "metadata": {},
   "source": [
    "#### Create the trading returns dataset:\n",
    "values are only added if they are added to the tradeable universe (i.e. they are part of the sp500)"
   ]
  },
  {
   "cell_type": "code",
   "execution_count": 4,
   "metadata": {},
   "outputs": [
    {
     "name": "stderr",
     "output_type": "stream",
     "text": [
      "100%|██████████| 1179/1179 [06:35<00:00,  2.98it/s]\n"
     ]
    }
   ],
   "source": [
    "constituents = pd.read_csv('wrds_sp500_cons.csv')\n",
    "constituents.drop(columns=['Unnamed: 0'],inplace=True)\n",
    "constituents['SP500 End'] = pd.to_datetime(constituents['SP500 End'])\n",
    "constituents['SP500 Start'] = pd.to_datetime(constituents['SP500 Start'])\n",
    "returns_dataset = pd.DataFrame()\n",
    "\n",
    "for permno in tqdm(set(data['PERMNO'].values)):\n",
    "    date_ranges = set([(row['SP500 Start'],row['SP500 End']) for _, row in constituents.loc[constituents['PERMNO'] == permno].iterrows()])\n",
    "    slices = [(data['PERMNO'] == permno) & (data['date'] >= start) & (data['date'] <= end) for start, end in date_ranges]\n",
    "    if len(slices) > 1:\n",
    "        mask   = np.bitwise_or(*slices)\n",
    "    else:\n",
    "        mask   = slices[0]\n",
    "    data_sliced = data[mask].set_index('date')\n",
    "    data_sliced = pd.DataFrame(data=data_sliced['RET'].values, index=data_sliced.index, columns=[constituents.loc[constituents['PERMNO'] == permno,'PERMNO'].values[0]]) \n",
    "    returns_dataset = pd.merge(returns_dataset, data_sliced, how='outer', left_index=True, right_index=True)\n",
    "returns_dataset.to_csv('wrds_returns_data.csv')"
   ]
  },
  {
   "cell_type": "code",
   "execution_count": 6,
   "metadata": {},
   "outputs": [
    {
     "data": {
      "text/plain": [
       "Text(0.5, 0, 'date')"
      ]
     },
     "execution_count": 6,
     "metadata": {},
     "output_type": "execute_result"
    },
    {
     "data": {
      "image/png": "[encoded data removed]",
      "text/plain": [
       "<Figure size 640x480 with 1 Axes>"
      ]
     },
     "metadata": {},
     "output_type": "display_data"
    }
   ],
   "source": [
    "import matplotlib.pyplot as plt\n",
    "plt.plot(returns_dataset.count(axis=1))\n",
    "plt.title('Amount of assets with available data:')\n",
    "plt.xlabel('date')"
   ]
  },
  {
   "cell_type": "markdown",
   "metadata": {},
   "source": [
    "#### Create the monthly returns + fundamentals dataset\n",
    "All values are used, this dataset is used for creating the IPCA portfolios"
   ]
  },
  {
   "cell_type": "code",
   "execution_count": 76,
   "metadata": {},
   "outputs": [
    {
     "name": "stdout",
     "output_type": "stream",
     "text": [
      "loading fundamental data...\n",
      "merging monthly and fundamental data...\n",
      "Computing lagged returns...\n",
      "Computing the derived fundamental features...\n"
     ]
    },
    {
     "name": "stderr",
     "output_type": "stream",
     "text": [
      "/opt/anaconda3/envs/deep_learning/lib/python3.8/site-packages/pandas/core/arraylike.py:402: RuntimeWarning: divide by zero encountered in log\n",
      "  result = getattr(ufunc, method)(*inputs, **kwargs)\n",
      "creating the returns and adjusted daily prices datasets...: 100%|██████████| 1179/1179 [09:05<00:00,  2.16it/s]\n",
      "/var/folders/qc/v9nsdlnj777f923zdc9n38vw0000gn/T/ipykernel_27790/1898808515.py:126: PerformanceWarning: DataFrame is highly fragmented.  This is usually the result of calling `frame.insert` many times, which has poor performance.  Consider joining all columns at once using pd.concat(axis=1) instead. To get a de-fragmented frame, use `newframe = frame.copy()`\n",
      "  returns_dataset = pd.merge(returns_dataset, data[['date','sprtrn']].drop_duplicates().copy(),on=['date'], how='left')\n",
      "computing the market betas...: 100%|██████████| 586/586 [14:34<00:00,  1.49s/it]\n",
      "computing the 12 month high...: 100%|██████████| 586/586 [01:11<00:00,  8.16it/s]\n",
      "computing the volatility...: 100%|██████████| 586/586 [01:24<00:00,  6.94it/s]\n"
     ]
    }
   ],
   "source": [
    "print('loading fundamental data...')\n",
    "fund_data = pd.read_csv('wrds_fundamental_data_raw.csv')\n",
    "fund_data.rdq = pd.to_datetime(fund_data.rdq)\n",
    "fund_data = fund_data.sort_values(by='rdq')\n",
    "fund_data['CUSIP'] = fund_data.cusip.str[:-1]\n",
    "fund_data['datadate'] = pd.to_datetime(fund_data['datadate'])\n",
    "\n",
    "# add the previous financial statement to every line as well, accessed by 'variable' + '_prev'\n",
    "data_prev = fund_data.copy()\n",
    "data_prev['year_qtr'] = data_prev.apply(lambda row: str(row.fyearq) + str(row.fqtr + 1.0) if row.fqtr != 4.0 else str(row.fyearq+1) + '1.0', axis=1)\n",
    "data_prev.rename(columns={col:col+ '_prev' for col in fund_data.columns if not (col == 'CUSIP') or (col == 'year_qtr')}, inplace=True)\n",
    "fund_data['year_qtr']  = fund_data.fyearq.astype(str) + fund_data.fqtr.astype(str)\n",
    "\n",
    "fund_data = pd.merge(fund_data, data_prev, on=['year_qtr', 'CUSIP'], how='left')\n",
    "del data_prev\n",
    "print('merging monthly and fundamental data...')\n",
    "# prepare for merging the fundamental and the returns data\n",
    "offset_1 = fund_data.copy()\n",
    "offset_1['month_latest'] = (fund_data.rdq + pd.DateOffset(months=1)).dt.strftime('%b-%Y')\n",
    "offset_2 = fund_data.copy()\n",
    "offset_2['month_latest'] = (fund_data.rdq + pd.DateOffset(months=2)).dt.strftime('%b-%Y')\n",
    "offset_3 = fund_data.copy()\n",
    "offset_3['month_latest'] = (fund_data.rdq + pd.DateOffset(months=3)).dt.strftime('%b-%Y')\n",
    "merged_fund = pd.concat([offset_1, offset_2, offset_3], ignore_index=True)\n",
    "del offset_1, offset_2, offset_3\n",
    "monthly_ret = pd.read_csv('wrds_monthly_data_raw.csv')\n",
    "monthly_ret.date = pd.to_datetime(monthly_ret.date)\n",
    "monthly_ret['month_latest'] = monthly_ret.date.dt.strftime('%b-%Y')\n",
    "monthly_ret['PRC_adj'] = monthly_ret['PRC'] / monthly_ret['CFACPR'] # adjust prices for corporate actions\n",
    "\n",
    "print('Computing lagged returns...')\n",
    "################ merge the lagged returns ####################\n",
    "last_1_month = monthly_ret[['date','PRC','PRC_adj', 'SHROUT','CUSIP','RET']].copy()\n",
    "last_1_month.rename(columns={'date':'date_t_1', 'PRC_adj':'PRC_adj_t_1','SHROUT':'SHROUT_t_1', 'RET':'RET_t_1',  'PRC':'PRC_t_1'}, inplace=True)\n",
    "last_1_month['month_latest'] = (last_1_month.date_t_1 + pd.DateOffset(months=1)).dt.strftime('%b-%Y')\n",
    "\n",
    "last_2_month = monthly_ret[['date', 'CUSIP', 'RET','PRC_adj']].copy()\n",
    "last_2_month.rename(columns={'date':'date_t_2', 'PRC_adj':'PRC_adj_t_2', 'RET':'r2_1'}, inplace=True)\n",
    "last_2_month['month_latest'] = (last_2_month.date_t_2 + pd.DateOffset(months=2)).dt.strftime('%b-%Y')\n",
    "\n",
    "last_7_month = monthly_ret[['date', 'CUSIP','PRC_adj']].copy()\n",
    "last_7_month.rename(columns={'date':'date_t_7', 'PRC_adj':'PRC_adj_t_7'}, inplace=True)\n",
    "last_7_month['month_latest'] = (last_7_month.date_t_7 + pd.DateOffset(months=7)).dt.strftime('%b-%Y')\n",
    "\n",
    "last_12_month = monthly_ret[['date', 'CUSIP','PRC_adj']].copy()\n",
    "last_12_month.rename(columns={'date':'date_t_12', 'PRC_adj':'PRC_adj_t_12'}, inplace=True)\n",
    "last_12_month['month_latest'] = (last_12_month.date_t_12 + pd.DateOffset(months=12)).dt.strftime('%b-%Y')\n",
    "\n",
    "last_13_month = monthly_ret[['date', 'CUSIP','PRC_adj']].copy()\n",
    "last_13_month.rename(columns={'date':'date_t_13', 'PRC_adj':'PRC_adj_t_13'}, inplace=True)\n",
    "last_13_month['month_latest'] = (last_13_month.date_t_13 + pd.DateOffset(months=13)).dt.strftime('%b-%Y')\n",
    "\n",
    "last_36_month = monthly_ret[['date', 'CUSIP', 'PRC_adj']].copy()\n",
    "last_36_month.rename(columns={'date':'date_t_36', 'PRC_adj':'PRC_adj_t_36'}, inplace=True)\n",
    "last_36_month['month_latest'] = (last_36_month.date_t_36 + pd.DateOffset(months=36)).dt.strftime('%b-%Y')\n",
    "\n",
    "monthly_ret = pd.merge(monthly_ret, last_1_month, on=['CUSIP', 'month_latest'], how='left')\n",
    "monthly_ret = pd.merge(monthly_ret, last_2_month, on=['CUSIP', 'month_latest'], how='left')\n",
    "monthly_ret = pd.merge(monthly_ret, last_7_month, on=['CUSIP', 'month_latest'], how='left')\n",
    "monthly_ret = pd.merge(monthly_ret, last_12_month, on=['CUSIP', 'month_latest'], how='left')\n",
    "monthly_ret = pd.merge(monthly_ret, last_13_month, on=['CUSIP', 'month_latest'], how='left')\n",
    "monthly_ret = pd.merge(monthly_ret, last_36_month, on=['CUSIP', 'month_latest'], how='left')\n",
    "\n",
    "monthly_ret['r12_2'] = (monthly_ret['PRC_adj_t_2'] - monthly_ret['PRC_adj_t_12']) / monthly_ret['PRC_adj_t_12'] \n",
    "monthly_ret['r12_7'] = (monthly_ret['PRC_adj_t_7'] - monthly_ret['PRC_adj_t_12']) / monthly_ret['PRC_adj_t_12'] \n",
    "monthly_ret['r36_13'] = (monthly_ret['PRC_adj_t_13'] - monthly_ret['PRC_adj_t_36']) / monthly_ret['PRC_adj_t_36']\n",
    "\n",
    "del last_1_month, last_2_month, last_7_month, last_12_month, last_13_month, last_36_month\n",
    "###############\n",
    "merged_df = pd.merge(monthly_ret, merged_fund, on=['CUSIP', 'month_latest'], how='left')\n",
    "del monthly_ret, merged_fund\n",
    "\n",
    "print('Computing the derived fundamental features...')\n",
    "# sometimes statements from multiple quarters are released on the same day, only the latest quarterly financials should be kept\n",
    "merged_df = merged_df.loc[merged_df.groupby(['cusip','date'])['datadate'].idxmax().values]\n",
    "\n",
    "# helper fields:\n",
    "merged_df['op_wc']      = merged_df['actq'] - merged_df['cheq']  - merged_df['lctq'] - merged_df['dlcq']  - merged_df['txpq']\n",
    "merged_df['op_wc_prev'] = merged_df['actq_prev'] - merged_df['cheq_prev']  - merged_df['lctq_prev'] - merged_df['dlcq_prev']  - merged_df['txpq_prev']\n",
    "merged_df['nc_wc']      =  merged_df['actq'] - merged_df['cheq'] - merged_df['lctq'] - merged_df['dlcq'] - merged_df['txpq']\n",
    "merged_df['nc_wc_prev'] =  merged_df['actq_prev'] - merged_df['cheq_prev'] - merged_df['lctq_prev'] - merged_df['dlcq_prev'] - merged_df['txpq_prev']\n",
    "\n",
    "# fields as described in deep learning for asset pricing internet appendix\n",
    "merged_df['A2ME']   = (merged_df['atq']*1e6) / (merged_df['PRC_t_1'] * merged_df['SHROUT_t_1']*1000)\n",
    "merged_df['AC']     = (merged_df['op_wc'] - merged_df['op_wc_prev']) / (merged_df['seqq'] - merged_df['pstkq'])\n",
    "merged_df['AT']     = merged_df['atq']\n",
    "merged_df['ATO']    = merged_df['saleq']  / ((merged_df['atq_prev'] - merged_df['cheq_prev']) - (merged_df['atq_prev'] - merged_df['dlcq_prev'] - merged_df['dlttq_prev'] - merged_df['mibq_prev'] - merged_df['pstkq_prev'] - merged_df['ceqq_prev']))\n",
    "merged_df['BEME']   = (merged_df['seqq'] - merged_df['pstkq'])*1e6 / (merged_df['PRC_t_1'] * merged_df['SHROUT_t_1']*1000)\n",
    "merged_df['C']      = merged_df['cheq'] / merged_df['atq']\n",
    "merged_df['CF']     = (merged_df['niq'] + merged_df['dpq'] - merged_df['capxy']) / (merged_df['seqq'] - merged_df['pstkq'])\n",
    "merged_df['CF2P']   = (merged_df['ibq'] + merged_df['dpq'] * 1e6) / (merged_df['PRC_t_1'] * merged_df['SHROUT_t_1']*1000)\n",
    "merged_df['CTO']    = merged_df['saleq'] / merged_df['atq']\n",
    "merged_df['D2A']    = merged_df['dpq'] / merged_df['atq']\n",
    "merged_df['DPI2A']  = ((merged_df['ppegtq'] - merged_df['ppegtq_prev']) + (merged_df['invtq'] - merged_df['invtq_prev'])) / merged_df['atq_prev'] \n",
    "merged_df['E2P']    = merged_df['ibq']*1e6 / (merged_df['PRC_t_1'] * merged_df['SHROUT_t_1']*1000)\n",
    "merged_df['INV']    = (merged_df['atq'] - merged_df['atq_prev']) / merged_df['atq_prev']\n",
    "merged_df['LEV']    = (merged_df['dlttq'] + merged_df['dlcq']) / merged_df['seqq']\n",
    "merged_df['LME']    =  (merged_df['PRC_t_1'] * merged_df['SHROUT_t_1']) \n",
    "merged_df['LTURN']  = (merged_df['VOL']*100) / (merged_df['SHROUT_t_1']*1000) \n",
    "merged_df['NI']     = np.log(merged_df['cshoq'] * merged_df['ajexq']) - np.log(merged_df['cshoq_prev'] * merged_df['ajexq_prev']) \n",
    "merged_df['NOA']    = (merged_df['dlcq'] + merged_df['dlttq'] + merged_df['mibq'] + merged_df['pstkq'] + merged_df['ceqq']- merged_df['cheq']) / merged_df['atq_prev']\n",
    "merged_df['OA']     = ((merged_df['nc_wc'] - merged_df['nc_wc_prev']) - merged_df['dpq']) / merged_df['atq_prev']\n",
    "merged_df['OL']     = (merged_df['cogsq'] + merged_df['xsgaq']) / merged_df['atq']\n",
    "merged_df['OP']     = (merged_df['revtq'] - merged_df['cogsq'] - merged_df['xsgaq']) / (merged_df['seqq'] - merged_df['pstkq'])\n",
    "merged_df['PCM']    = (merged_df['saleq'] - merged_df['cogsq']) / merged_df['saleq']\n",
    "merged_df['PM']     = merged_df['oiadpq'] / merged_df['saleq']\n",
    "merged_df['PROF']   = (merged_df['saleq'] - merged_df['cogsq']) / (merged_df['seqq'] - merged_df['pstkq'])\n",
    "merged_df['Q']      = (merged_df['PRC_t_1'] * merged_df['SHROUT_t_1']*1000 - merged_df['cheq']*1e6) / (merged_df['atq']*1e6) \n",
    "merged_df['RNA']    = merged_df['oiadpq'] / ((merged_df['atq_prev'] - merged_df['cheq_prev']) - (merged_df['atq_prev'] - merged_df['dlcq_prev'] - merged_df['dlttq_prev'] - merged_df['mibq_prev'] - merged_df['pstkq_prev'] - merged_df['ceqq_prev']))\n",
    "merged_df['ROA']    = merged_df['ibq'] /  merged_df['atq_prev']\n",
    "merged_df['ROE']    = merged_df['ibq'] / (merged_df['seqq_prev'] - merged_df['pstkq_prev'])\n",
    "merged_df['S2P']    = (merged_df['saleq'] * 1e6) / (merged_df['PRC_t_1'] * merged_df['SHROUT_t_1']*1000)\n",
    "merged_df['SGA2S']  = merged_df['xsgaq'] / merged_df['saleq']\n",
    "\n",
    "data['PRC_ADJ'] = data['PRC'] / data['CFACPR']\n",
    "returns_dataset = pd.DataFrame()\n",
    "prices_dataset = pd.DataFrame()\n",
    "for permno in tqdm(set(data['PERMNO'].values), desc='creating the returns and adjusted daily prices datasets...'):\n",
    "    data_sliced         = data[data['PERMNO'] == permno].set_index('date')\n",
    "\n",
    "    data_sliced_rets    = pd.DataFrame(data=data_sliced['RET'].values, index=data_sliced.index, columns=[permno]).copy()\n",
    "    data_sliced_prices  = pd.DataFrame(data=data_sliced['PRC_ADJ'].values, index=data_sliced.index, columns=[permno]).copy()\n",
    "    prices_dataset      = pd.merge(prices_dataset, data_sliced_prices, how='outer', left_index=True, right_index=True)\n",
    "    returns_dataset     = pd.merge(returns_dataset, data_sliced_rets, how='outer', left_index=True, right_index=True)\n",
    "#returns_dataset.to_csv('wrds_returns_data_full.csv')\n",
    "returns_dataset = pd.merge(returns_dataset, data[['date','sprtrn']].drop_duplicates().copy(),on=['date'], how='left')\n",
    "returns_dataset.replace(['C','B'],np.nan,inplace=True)\n",
    "prices_dataset.replace(['C','B'],np.nan,inplace=True)\n",
    "prices_dataset = prices_dataset.reset_index()\n",
    "\n",
    "# adding the market beta\n",
    "market_beta = pd.DataFrame(columns=returns_dataset.columns)\n",
    "market_beta['date'] = merged_df.date.drop_duplicates().sort_values()\n",
    "market_beta.drop('sprtrn',axis=1, inplace=True)\n",
    "\n",
    "from sklearn.linear_model import LinearRegression\n",
    "lookback_months = 60\n",
    "for date in tqdm(market_beta.date.values, desc='computing the market betas...'):\n",
    "    sp_ret = returns_dataset.loc[(returns_dataset.date <= date) & (returns_dataset.date > date - pd.DateOffset(months=60)),'sprtrn'].values\n",
    "    target = returns_dataset.loc[(returns_dataset.date <= date) & (returns_dataset.date > date - pd.DateOffset(months=60))].drop(['sprtrn', 'date'],axis=1).values\n",
    "    if len(sp_ret) == 0:\n",
    "        continue\n",
    "    for idx_col, col in enumerate(market_beta.columns[1:]):\n",
    "        to_fit = target[:,idx_col].astype(float)\n",
    "        if sum(np.isnan(to_fit)[-24*20:]) == 0:\n",
    "            reg = LinearRegression().fit(sp_ret[~np.isnan(to_fit)].reshape(-1, 1), to_fit[~np.isnan(to_fit)])\n",
    "            market_beta.loc[market_beta.date==date, col] = reg.coef_[0]\n",
    "            \n",
    "# shift the data as to avoid look ahead bias \n",
    "columns_to_shift = market_beta.columns.difference(['date'])\n",
    "shifted_df = market_beta[columns_to_shift].shift(1)\n",
    "market_beta = pd.concat([market_beta[['date']], shifted_df], axis=1)\n",
    "market_beta = market_beta.melt(id_vars=[\"date\"], \n",
    "                var_name=\"PERMNO\", \n",
    "                value_name=\"MKTBETA\")\n",
    "merged_df = pd.merge(merged_df, market_beta, how='left', on = ['date','PERMNO'])\n",
    "del market_beta\n",
    "\n",
    "# adding the high prices\n",
    "highs = pd.DataFrame(columns=prices_dataset.columns)\n",
    "highs['date'] = merged_df.date.drop_duplicates().sort_values()\n",
    "cols = highs.columns.difference(['date'])\n",
    "for date in tqdm(highs.date.values, desc='computing the 12 month high...'):\n",
    "    target = prices_dataset.loc[(prices_dataset.date <= date) & (prices_dataset.date >= date - pd.DateOffset(months=12))].drop(['date'],axis=1)\n",
    "    high = target.max(axis=0)\n",
    "    highs.loc[highs.date==date,cols] = high[cols].values\n",
    "\n",
    "# shift the data as to avoid look ahead bias \n",
    "columns_to_shift = highs.columns.difference(['date'])\n",
    "shifted_df = highs[columns_to_shift].shift(1)\n",
    "highs = pd.concat([highs[['date']], shifted_df], axis=1)\n",
    "\n",
    "highs = highs.melt(id_vars=[\"date\"], \n",
    "                var_name=\"PERMNO\", \n",
    "                value_name=\"12m_high\")\n",
    "merged_df = pd.merge(merged_df, highs, how='left', on = ['date','PERMNO'])\n",
    "merged_df['REL2HIGH'] = merged_df['PRC_adj_t_1'] / merged_df['12m_high'] \n",
    "del highs\n",
    "# adding the volatilities\n",
    "volatility = pd.DataFrame(columns=returns_dataset.columns)\n",
    "volatility['date'] = merged_df.date.drop_duplicates().sort_values()\n",
    "volatility.drop('sprtrn',axis=1, inplace=True)\n",
    "cols = volatility.columns.difference(['date'])\n",
    "for date in tqdm(volatility.date.values, desc='computing the volatility...'):\n",
    "    target = returns_dataset.loc[(returns_dataset.date <= date) & (returns_dataset.date >= date - pd.DateOffset(months=2))].drop(['sprtrn', 'date'],axis=1)\n",
    "    vols = target.astype(float).std(axis=0) * np.sqrt(252)\n",
    "    volatility.loc[volatility.date==date,cols] = vols[cols].values\n",
    "    \n",
    "# shift the data as to avoid look ahead bias \n",
    "columns_to_shift = volatility.columns.difference(['date'])\n",
    "shifted_df = volatility[columns_to_shift].shift(1)\n",
    "volatility = pd.concat([volatility[['date']], shifted_df], axis=1)\n",
    "\n",
    "volatility = volatility.melt(id_vars=[\"date\"], \n",
    "                var_name=\"PERMNO\", \n",
    "                value_name=\"VOLA\")\n",
    "merged_df = pd.merge(merged_df, volatility, how='left', on = ['date','PERMNO'])\n",
    "del volatility\n",
    "del prices_dataset, returns_dataset\n",
    "columns_to_use = ['PERMNO', 'date', 'TICKER', 'CUSIP','A2ME', 'AC', 'AT', 'ATO', 'BEME', 'C', 'CF', 'CF2P', 'CTO', 'D2A',\n",
    "       'DPI2A', 'E2P', 'INV', 'LEV', 'LME', 'LTURN', 'NI', 'NOA', 'OA', 'OL',\n",
    "       'OP', 'PCM', 'PM', 'PROF', 'Q', 'RNA', 'ROA', 'ROE', 'S2P', 'SGA2S',\n",
    "       'MKTBETA', 'REL2HIGH', 'VOLA', 'r12_2', 'r12_7', 'r36_13','r2_1', 'RET_t_1', 'RET', ]\n",
    "final_output = merged_df[columns_to_use]\n",
    "final_output.to_csv('monthly_IPCA_panel.csv')"
   ]
  }
 ],
 "metadata": {
  "kernelspec": {
   "display_name": "deep_learning",
   "language": "python",
   "name": "python3"
  },
  "language_info": {
   "codemirror_mode": {
    "name": "ipython",
    "version": 3
   },
   "file_extension": ".py",
   "mimetype": "text/x-python",
   "name": "python",
   "nbconvert_exporter": "python",
   "pygments_lexer": "ipython3",
   "version": "3.8.15"
  }
 },
 "nbformat": 4,
 "nbformat_minor": 2
}
