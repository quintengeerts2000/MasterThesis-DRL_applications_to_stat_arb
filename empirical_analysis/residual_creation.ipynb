{
 "cells": [
  {
   "cell_type": "markdown",
   "metadata": {},
   "source": [
    "# Residual creation\n",
    "In this notebook I will work on creating the residual portfolios based on the historical price dataset."
   ]
  },
  {
   "cell_type": "code",
   "execution_count": null,
   "metadata": {},
   "outputs": [],
   "source": [
    "import pandas as pd\n",
    "import datetime as dt\n",
    "import numpy as np\n",
    "from numpy.linalg import eig, norm\n",
    "from sklearn.linear_model import LinearRegression\n",
    "import matplotlib.pyplot as plt\n",
    "import time"
   ]
  },
  {
   "cell_type": "code",
   "execution_count": null,
   "metadata": {},
   "outputs": [],
   "source": [
    "import os\n",
    "filename = 'price_df.csv'\n",
    "if os.path.exists(filename):\n",
    "    price_df = pd.read_csv(filename)\n",
    "    price_df = price_df.rename(columns={'Unnamed: 0':'date'})\n",
    "    price_df.set_index('date', inplace=True)\n",
    "    price_df.index = pd.to_datetime(price_df.index)\n",
    "\n",
    "returns = price_df.diff(1)"
   ]
  },
  {
   "cell_type": "code",
   "execution_count": null,
   "metadata": {},
   "outputs": [],
   "source": [
    "returns.shape"
   ]
  },
  {
   "cell_type": "code",
   "execution_count": null,
   "metadata": {},
   "outputs": [],
   "source": [
    "returns"
   ]
  },
  {
   "cell_type": "code",
   "execution_count": null,
   "metadata": {},
   "outputs": [],
   "source": [
    "6998*966 - sum(sum(returns.isna().values))"
   ]
  },
  {
   "cell_type": "code",
   "execution_count": null,
   "metadata": {},
   "outputs": [],
   "source": [
    "from tqdm import tqdm \n",
    "def pca(returns:pd.DataFrame, res_cov_window_size:int = 252, loadings_window_size:int=60, amount_of_factors:int=5):\n",
    "    '''\n",
    "    Function that computes the percentage returns of a residual portfolio constructed using pca\n",
    "    Also with the weights needed to construct all these portfolio's\n",
    "    \n",
    "    Residual_output  is a T x N matrix \n",
    "    Residual_portfolio is a T x N x N matrix where e.g res_portf[t,i, :] gives you the vector \n",
    "    with all the weights you need to construct the residual portfolio i at timestep t\n",
    "    Recovering phi from residual portfolio can be done by slicing as follows res_portf[t,:,:]\n",
    "    '''\n",
    "    T, N                = returns.shape\n",
    "    returns             = returns.to_numpy()\n",
    "    residuals_output    = np.zeros((T, N), dtype=float)    \n",
    "    residual_portfolio  = np.zeros((T, N, N), dtype=float)\n",
    "    for t in tqdm(range(res_cov_window_size+1,len(returns))):\n",
    "        # only use the columns with no missing values\n",
    "        idxsSelected = ~np.any(np.isnan(returns[(t - res_cov_window_size+1):t]), axis = 0).ravel()   \n",
    "        if idxsSelected.sum() == 0:\n",
    "            continue\n",
    "        #calculate covariance\n",
    "        res_cov_window = returns[(t - res_cov_window_size+1):t,idxsSelected]\n",
    "        R_oos           = returns[((t+1) - res_cov_window_size+1):(t+1),idxsSelected] #TODO: adj for bias, original returns[(t - res_cov_window_size+1):(t+1),idxsSelected]\n",
    "        res_mean = np.mean(res_cov_window,axis=0,keepdims=True)\n",
    "        res_vol = np.sqrt(np.mean((res_cov_window-res_mean)**2,axis=0,keepdims=True))\n",
    "        res_normalized = (res_cov_window - res_mean) / res_vol\n",
    "        Corr = np.dot(res_normalized.T, res_normalized)\n",
    "        eigenValues, eigenVectors = np.linalg.eigh(Corr)\n",
    "\n",
    "        #calculate loadings\n",
    "        w           = eigenVectors[:,-amount_of_factors:].real                      # w\n",
    "        R           = res_cov_window[-loadings_window_size:,:]\n",
    "        wtR         = res_cov_window[-loadings_window_size:,:] @ w                  # R * w \n",
    "        regr        = LinearRegression(fit_intercept=False, n_jobs=-1).fit(wtR,R)\n",
    "        beta        = regr.coef_                                                    #beta\n",
    "        phi         = (np.eye(beta.shape[0]) - beta @ w.T)\n",
    "        #TODO: is ther somethign wrong with the returns they use here??\n",
    "        residuals   = phi @ R_oos[-1,:].T\n",
    "        residuals_output[t:(t+1),idxsSelected]                = residuals\n",
    "        i = 0\n",
    "        for idx, val in enumerate(idxsSelected):\n",
    "            if val:  \n",
    "                residual_portfolio[t:(t+1),idx,idxsSelected] = phi[i,:].reshape([1,-1])\n",
    "                i += 1  \n",
    "    return residuals_output, residual_portfolio"
   ]
  },
  {
   "cell_type": "code",
   "execution_count": null,
   "metadata": {},
   "outputs": [],
   "source": [
    "res_out, res_portf = pca(returns.loc[dt.datetime(2010,1,1):dt.datetime(2014,1,2)])"
   ]
  },
  {
   "cell_type": "code",
   "execution_count": null,
   "metadata": {},
   "outputs": [],
   "source": [
    "res_out, _ = pca(returns.loc[dt.datetime(2010,1,1):dt.datetime(2012,1,2)])\n",
    "test1      = pd.DataFrame(res_out, index = returns.loc[dt.datetime(2010,1,1):dt.datetime(2012,1,2)].index, columns=returns.columns)"
   ]
  },
  {
   "cell_type": "code",
   "execution_count": null,
   "metadata": {},
   "outputs": [],
   "source": [
    "res_out, _ = pca(returns.loc[dt.datetime(2010,1,1)+dt.timedelta(days=100):dt.datetime(2012,1,2)+dt.timedelta(days=100)])\n",
    "test2      = pd.DataFrame(res_out, index = returns.loc[dt.datetime(2010,1,1)+dt.timedelta(days=100):dt.datetime(2012,1,2)+dt.timedelta(days=100)].index,columns=returns.columns)"
   ]
  },
  {
   "cell_type": "code",
   "execution_count": null,
   "metadata": {},
   "outputs": [],
   "source": [
    "residual_df = pd.DataFrame(res_out, index=returns.loc[dt.datetime(2010,1,1):dt.datetime(2018,1,2)].index, columns=returns.columns)"
   ]
  },
  {
   "cell_type": "code",
   "execution_count": null,
   "metadata": {},
   "outputs": [],
   "source": [
    "residual_df"
   ]
  },
  {
   "cell_type": "code",
   "execution_count": null,
   "metadata": {},
   "outputs": [],
   "source": [
    "plt.plot((residual_df['BRK.B']+1).cumprod().tail(60))"
   ]
  },
  {
   "cell_type": "code",
   "execution_count": null,
   "metadata": {},
   "outputs": [],
   "source": [
    "(residual_df['WFC']+1).cumprod().tail(100)"
   ]
  },
  {
   "cell_type": "code",
   "execution_count": null,
   "metadata": {},
   "outputs": [],
   "source": [
    "price_df.loc[dt.datetime(2017,12,29)]"
   ]
  },
  {
   "cell_type": "code",
   "execution_count": null,
   "metadata": {},
   "outputs": [],
   "source": [
    "def preprocess_ou(data:np.array, lookback:int=60):\n",
    "    signal_length = 4\n",
    "    T,N = data.shape\n",
    "    cumsums = np.cumsum(data, axis=0)\n",
    "    windows = np.zeros((T-lookback, N, signal_length), dtype=np.float32)\n",
    "    idxs_selected = np.zeros((T-lookback,N), dtype=bool)\n",
    "    for t in range(lookback,T):\n",
    "        # chooses stocks which have no missing returns in the t-th lookback window\n",
    "        idxs_selected[t-lookback,:] = ~np.any(data[(t-lookback):t,:] == 0, axis=0).ravel() \n",
    "        idxs = idxs_selected[t-lookback,:]\n",
    "        if t == lookback:\n",
    "            x = cumsums[t-lookback:t,idxs].T\n",
    "        else:\n",
    "            # Probably unnecessary given the conv normalization, but is just to have the same setting as in the OU case\n",
    "            x = cumsums[t-lookback:t,idxs].T - cumsums[t-lookback-1,idxs].reshape(int(sum(idxs)),1)\n",
    "        Nx,Tx = x.shape\n",
    "        #TODO: Is this where we make sure we dont have any look ahead bias?\n",
    "        Ys = x[:,1:] #(N,T-1) \n",
    "        Xs = x[:,:-1]\n",
    "        meansX = np.mean(Xs,axis=1) #(N)\n",
    "        meansY = np.mean(Ys,axis=1)\n",
    "        VarsX = np.var(Xs,axis=1) #N\n",
    "        VarsY = np.var(Ys,axis=1)\n",
    "        Covs = np.mean((Xs-meansX.reshape((Nx,1)))*(Ys-meansY.reshape((Nx,1))),axis=1) #N\n",
    "        R2 = Covs**2/(VarsX*VarsY) #N\n",
    "        bs = Covs/VarsX #N\n",
    "        cs = (meansY - bs*meansX)\n",
    "        mus = (cs/(1-bs+0.000001))\n",
    "        mask = ((bs > 0) * (bs < 1))\n",
    "        #kappas = -np.log(bs)/Deltat #if bs betwen 0 and 1\n",
    "        residuals = Ys - bs.reshape((Nx,1))*Xs - cs.reshape((Nx,1)) #(N,T-1)\n",
    "        sigmas = np.sqrt(np.var(residuals, axis=1)/np.abs(1-bs**2+0.000001)) #N\n",
    "        signal = np.zeros((Nx))\n",
    "        #signal =  (mus - Ys[:,-1])/sigmas * mask \n",
    "        signal[mask] = (mus[mask] - Ys[:,-1][mask])/sigmas[mask]\n",
    "        windows[t-lookback,idxs,0] = Ys[:,-1]\n",
    "        windows[t-lookback,idxs,1] = mus\n",
    "        windows[t-lookback,idxs,2] = sigmas\n",
    "        windows[t-lookback,idxs,3] = R2\n",
    "\n",
    "        idxs_selected[t-lookback,idxs] = idxs_selected[t-lookback,idxs] & mask\n",
    "        \n",
    "    idxs_selected = torch.as_tensor(idxs_selected)\n",
    "    return windows, idxs_selected"
   ]
  },
  {
   "cell_type": "code",
   "execution_count": null,
   "metadata": {},
   "outputs": [],
   "source": [
    "def pca(returns:pd.DataFrame, res_cov_window_size:int = 252, loadings_window_size:int=60, amount_of_factors:int=5):\n",
    "    '''\n",
    "    Function that computes the percentage returns of a residual portfolio constructed using pca\n",
    "    Also with the weights needed to construct all these portfolio's\n",
    "    \n",
    "    Residual_output  is a T x N matrix \n",
    "    Residual_portfolio is a T x N x N matrix where e.g res_portf[t,i, :] gives you the vector \n",
    "    with all the weights you need to construct the residual portfolio i at timestep t\n",
    "    Recovering phi from residual portfolio can be done by slicing as follows res_portf[t,:,:]\n",
    "    '''\n",
    "    T, N                = returns.shape\n",
    "    returns             = returns.to_numpy()\n",
    "    residuals_output    = np.zeros((T, N), dtype=float)    \n",
    "    residual_portfolio  = np.zeros((T, N, N), dtype=float)\n",
    "    for t in tqdm(range(res_cov_window_size+1,len(returns))):\n",
    "        # only use the columns with no missing values\n",
    "        idxsSelected = ~np.any(np.isnan(returns[(t - res_cov_window_size+1):t]), axis = 0).ravel()   \n",
    "        if idxsSelected.sum() == 0:\n",
    "            continue\n",
    "        #calculate covariance\n",
    "        res_cov_window = returns[(t - res_cov_window_size+1):t,idxsSelected]\n",
    "        R_oos           = returns[((t+1) - res_cov_window_size+1):(t+1),idxsSelected] #TODO: adj for bias, original returns[(t - res_cov_window_size+1):(t+1),idxsSelected]\n",
    "        res_mean = np.mean(res_cov_window,axis=0,keepdims=True)\n",
    "        res_vol = np.sqrt(np.mean((res_cov_window-res_mean)**2,axis=0,keepdims=True))\n",
    "        res_normalized = (res_cov_window - res_mean) / res_vol\n",
    "        Corr = np.dot(res_normalized.T, res_normalized)\n",
    "        eigenValues, eigenVectors = np.linalg.eigh(Corr)\n",
    "\n",
    "        #calculate loadings\n",
    "        w           = eigenVectors[:,-amount_of_factors:].real                      # w\n",
    "        R           = res_cov_window[-loadings_window_size:,:]\n",
    "        wtR         = res_cov_window[-loadings_window_size:,:] @ w                  # R * w \n",
    "        regr        = LinearRegression(fit_intercept=False, n_jobs=-1).fit(wtR,R)\n",
    "        beta        = regr.coef_                                                    #beta\n",
    "        phi         = (np.eye(beta.shape[0]) - beta @ w.T)\n",
    "        #TODO: is ther somethign wrong with the returns they use here??\n",
    "        residuals   = phi @ R_oos[-1,:].T\n",
    "        residuals_output[t:(t+1),idxsSelected]                = residuals\n",
    "        i = 0\n",
    "        for idx, val in enumerate(idxsSelected):\n",
    "            if val:  \n",
    "                residual_portfolio[t:(t+1),idx,idxsSelected] = phi[i,:].reshape([1,-1])\n",
    "                i += 1  \n",
    "    return residuals_output, residual_portfolio"
   ]
  },
  {
   "cell_type": "code",
   "execution_count": null,
   "metadata": {},
   "outputs": [],
   "source": [
    "def pca_res_gen(price_data:pd.DataFrame, \n",
    "                amount_of_factors:int=5,\n",
    "                loadings_window_size:int=60)-> np.ndarray:\n",
    "    '''\n",
    "    Calculates the pca portfolio given a dataset with prices\n",
    "    '''\n",
    "\n",
    "    T, N         = price_data.shape \n",
    "    assert loadings_window_size < T, 'loading window larger than length of dataset supplied' \n",
    "\n",
    "    rets         = price_data.pct_change(1,fill_method=None).iloc[1:].to_numpy()\n",
    "    idxsSelected = ~np.any(np.isnan(rets), axis = 0).ravel()\n",
    "    if idxsSelected.sum() == 0:\n",
    "            return np.zeros((N,N))\n",
    "    \n",
    "    rets_is     = rets[:,idxsSelected] # in sample returns: used for generating the portfolio\n",
    "\n",
    "    # Calculate PCA\n",
    "    rets_mean   = np.mean(rets_is, axis=0,keepdims=True)\n",
    "    rets_vol    = np.sqrt(np.mean((rets_is-rets_mean)**2,axis=0,keepdims=True))\n",
    "    rets_normalized = (rets_is - rets_mean) / rets_vol\n",
    "    Corr        = np.dot(rets_normalized.T, rets_normalized)\n",
    "    _, eigenVectors = np.linalg.eigh(Corr)\n",
    "\n",
    "    # Calculate loadings\n",
    "    w           = eigenVectors[:,-amount_of_factors:].real  \n",
    "    R           = rets_is[-loadings_window_size:,:]\n",
    "    wtR         = R @ w  \n",
    "    regr        = LinearRegression(fit_intercept=False, n_jobs=-1).fit(wtR,R)\n",
    "    beta        = regr.coef_                                                    #beta\n",
    "    psi         = (np.eye(beta.shape[0]) - beta @ w.T)\n",
    "\n",
    "    # Calculate residual returns\n",
    "    residual_portf = np.zeros((N,N))\n",
    "    i = 0\n",
    "    for idx, val in enumerate(idxsSelected):\n",
    "         if val:\n",
    "               residual_portf[idx,idxsSelected] = psi[i,:].reshape([1,-1])\n",
    "               i += 1\n",
    "    return residual_portf, idxsSelected"
   ]
  },
  {
   "cell_type": "code",
   "execution_count": 154,
   "metadata": {},
   "outputs": [],
   "source": [
    "def fourier_signal_extractor(residuals_data:pd.DataFrame, output_size:int=30):\n",
    "    '''\n",
    "    All the data input in this function should be considered in sample\n",
    "    '''\n",
    "    L, N = residuals_data.shape\n",
    "    assert L >= output_size, \"can't calculate fourier transform for more than the input amount of data\"\n",
    "    res_window = (residuals_data + 1).cumprod().values[1:,:]\n",
    "    Fourier    = np.fft.rfft(res_window,axis=0)\n",
    "    n_f        = Fourier.shape[0]\n",
    "    out        = np.zeros((N,n_f*2))\n",
    "    out[:,:n_f]= np.real(Fourier).T\n",
    "    out[:,n_f:]= np.imag(Fourier).T #geen idee maar in andere papers doen ze dit ook\n",
    "    return out"
   ]
  },
  {
   "cell_type": "code",
   "execution_count": null,
   "metadata": {},
   "outputs": [],
   "source": [
    "res_out, res_portf = pca(returns.loc[dt.datetime(2010,1,1):dt.datetime(2014,1,2)])"
   ]
  },
  {
   "cell_type": "code",
   "execution_count": null,
   "metadata": {},
   "outputs": [],
   "source": [
    "test_data = price_df.tail(252)"
   ]
  },
  {
   "cell_type": "code",
   "execution_count": null,
   "metadata": {},
   "outputs": [],
   "source": [
    "_, test = pca_res_gen(test_data)"
   ]
  },
  {
   "cell_type": "code",
   "execution_count": null,
   "metadata": {},
   "outputs": [],
   "source": [
    "price_df.index[10]"
   ]
  },
  {
   "cell_type": "code",
   "execution_count": null,
   "metadata": {},
   "outputs": [],
   "source": []
  },
  {
   "cell_type": "code",
   "execution_count": 155,
   "metadata": {},
   "outputs": [],
   "source": [
    "import gym\n",
    "class TradingEnvironment(gym.Env):\n",
    "    def __init__(self, \n",
    "                 financial_dataset:pd.DataFrame,\n",
    "                 residual_generator,\n",
    "                 signal_generator,\n",
    "                 episode_length:int=100,\n",
    "                 lookback_window:int=252,\n",
    "                 signal_window:int=60,\n",
    "                 transaction_costs:float=0.0,\n",
    "                 short_cost:float=0.0) -> None:\n",
    "        '''\n",
    "        financial_dataset: is a dataframe containing the adjusted prices of all the assets\n",
    "        residual_generator: a function, called every timestep, whose input is a lookback window of asset prices, and then \n",
    "                            calculates the residual portfolios at that time.\n",
    "        signal_generator:  a function, called every timestep, whose input is a lookback window of residual returns, that extracts \n",
    "                            the signal from the lookback window\n",
    "        '''\n",
    "        super().__init__()\n",
    "\n",
    "        self.L, self.N = financial_dataset.shape # amount of datapoints, amount of stocks\n",
    "        self.data      = financial_dataset  # dataset \n",
    "        self.returns   = financial_dataset.pct_change(1,fill_method=None) # compute returns \n",
    "        self.res_rets  = pd.DataFrame(index=self.data.index, columns=self.data.columns) # dataframe used to store the residual returns\n",
    "        self.res_alloc = pd.DataFrame(index=self.data.index, columns=self.data.columns) # dataframe used to store the chosen allocation per residual portfolio\n",
    "        self.asset_alloc= pd.DataFrame(index=self.data.index, columns=self.data.columns) # dataframe used to store the allocation in the original asset space\n",
    "        self.total_pl  = pd.DataFrame(index=self.data.index, columns=['strategy'])\n",
    "\n",
    "        # both generic functions so they can be swapped in the future\n",
    "        self.res_gen   = residual_generator \n",
    "        self.sig_gen   = signal_generator\n",
    "\n",
    "        self.ep_N      = episode_length    # amount of timesteps until an 'episode' is over\n",
    "        self.tc        = transaction_costs # transaction cost used\n",
    "        self.sc        = short_cost        # cost to keep a short position\n",
    "        self.lbw       = lookback_window   # lookback window used for pca \n",
    "        self.sig_win   = signal_window     # lookback window used for signals\n",
    "\n",
    "        self.t         = self.lbw + 1 #current timestep idx position in the large dataset\n",
    "        self.ep        = 0  # current episode\n",
    "        self.max_ep    = (self.L - self.lbw - self.sig_win) // self.ep_N # maximal amount of episodes possible with the data\n",
    "\n",
    "        self.t_ep    = 0 # current timestep in the epsisode (max is self.ep_N)\n",
    "        \n",
    "        # setup the environment to begin\n",
    "        self.warm_up()\n",
    "\n",
    "    def warm_up(self):\n",
    "        # if at initialisation\n",
    "        assert self.ep == 0\n",
    "\n",
    "        self.res_portf     = np.zeros((self.N,self.N))\n",
    "        self.active_stocks = np.zeros((self.N,),dtype=bool)\n",
    "        \n",
    "        for _ in range(self.sig_win):\n",
    "            # start by computing the residual returns\n",
    "            self.iter_step()\n",
    "            self.res_rets_step()\n",
    "\n",
    "            # calculate the new residual portfolio weights at time t (in pandas :t+1, means the last row is at time t)\n",
    "            self.res_portf, self.active_stocks  = self.res_gen(self.data.iloc[self.t - self.lbw: self.t+1],\n",
    "                                                        amount_of_factors=5,\n",
    "                                                        loadings_window_size=self.sig_win)\n",
    "        \n",
    "        # initialise the allocation vectors \n",
    "        self.old_alloc       = np.zeros((self.N,self.N))\n",
    "        self.old_alloc_total = np.zeros((self.N,))\n",
    "\n",
    "        observation = None #self.sig_gen(self.rets.iloc[self.t - self.sig_win:self.t])\n",
    "        info = {'used_stocks': self.active_stocks}\n",
    "        return observation, info\n",
    "    \n",
    "    def res_rets_step(self):\n",
    "        self.res_portf_previous = self.res_portf.copy()\n",
    "        self.res_rets.iloc[self.t,self.active_stocks] = (self.res_portf @ \\\n",
    "                        self.returns.iloc[self.t].replace(np.nan,0).values)[self.active_stocks]\n",
    "        \n",
    "    def iter_step(self):\n",
    "        '''\n",
    "        keeps track of all timesteps\n",
    "        '''\n",
    "        self.t    += 1\n",
    "        self.t_ep += 1\n",
    "        if self.t_ep >= self.ep_N:\n",
    "            self.ep += 1\n",
    "\n",
    "    @property\n",
    "    def date(self):\n",
    "        return self.data.index[self.t]\n",
    "    \n",
    "    @property\n",
    "    def tradable_ticker(self):\n",
    "        return self.data.columns[self.active_stocks]\n",
    "\n",
    "    def _get_next_obs(self):\n",
    "        # the the returns at time (t) from the residual portfolios generated at time (t-1)\n",
    "        # generate the signal vector from the residual portfolio returns \n",
    "        # generate the new residual portfolios to trade in\n",
    "        obs = self.sig_gen(self.res_rets.iloc[self.t - self.sig_win: self.t + 1, self.active_stocks])\n",
    "        return obs\n",
    "\n",
    "    def calculate_transaction_cost(self):\n",
    "        '''\n",
    "        This calculation is based on the market friction model from Boyd et al. (2017)\n",
    "\n",
    "        tc_vector contains the individual transaction costs incurred by trading in each of the portfolios\n",
    "        tc_total is a real that contains the true total transaction cost incurred by the \n",
    "        '''\n",
    "        tc_vector = self.tc * np.linalg.norm(self.new_alloc - self.old_alloc,1,axis=1) \\\n",
    "                        + self.sc * np.linalg.norm(np.minimum(self.new_alloc, np.zeros((self.N,self.N))))\n",
    "\n",
    "        tc_total = self.tc * np.linalg.norm(self.new_alloc_total -self.old_alloc_total,1) \\\n",
    "                        + self.sc * np.linalg.norm(np.minimum(self.new_alloc_total, np.zeros(self.N)))\n",
    "        return tc_vector, tc_total\n",
    "    \n",
    "    def step(self,action):\n",
    "        '''\n",
    "        Action is a vector of size N_t, the size of which can vary according to the active stocks at the time\n",
    "        it represents the chosen loadings in the residual portfolios. \n",
    "\n",
    "        The reward will be a vector of the rewards generated by the individual portfolios and their allocation, and \n",
    "        will be be returned to the reinforcement learning agent as a reward signal.\n",
    "        However, in the real environment there is a shared portfolio that will also be updated.\n",
    "        '''\n",
    "        assert len(action) == sum(self.active_stocks), 'wrong size of action/allocation vector supplied'\n",
    "\n",
    "        ########### Time: t-1 #############\n",
    "\n",
    "        # \"invest\" the chosen amount Action\n",
    "        allocation_in_residuals = np.zeros((self.N,1))\n",
    "        allocation_in_residuals[self.active_stocks] = action\n",
    "\n",
    "        # calculate the new allocation in terms of the true asset space\n",
    "        self.new_alloc = (self.res_portf * np.tile(allocation_in_residuals, (1, self.N)))                 # per residual portf.\n",
    "        self.new_alloc_total  = self.new_alloc.sum(axis=0) \n",
    "        self.new_alloc_total /= np.linalg.norm(self.new_alloc_total,1)  # for the entire (normalized) portf.\n",
    "\n",
    "        # we incur a transaction cost through this new allocation\n",
    "        self.tc_vector, self.tc_total = self.calculate_transaction_cost()\n",
    "\n",
    "        ########### Time: t  #############\n",
    "        # then we need to step\n",
    "        self.iter_step()\n",
    "        self.res_rets_step()\n",
    "        \n",
    "        # now calculate the effect of the allocation for each individual stock \n",
    "        #TODO: debug this!!\n",
    "        portf_change  = self.new_alloc @ self.returns.iloc[self.t].replace(np.nan,0).values\n",
    "        reward        = portf_change - self.tc_vector\n",
    "\n",
    "        # calculate the general profit made by the whole portfolio\n",
    "        change_total  = self.new_alloc_total @ self.returns.iloc[self.t].replace(np.nan,0).values\n",
    "        p_l           = change_total - self.tc_total\n",
    "        self.total_pl.loc[self.date, 'strategy']  = p_l\n",
    "\n",
    "        # save the old allocations and store them \n",
    "        self.old_alloc       = self.new_alloc.copy()\n",
    "        self.old_alloc_total = self.new_alloc_total.copy()\n",
    "        self.res_alloc.loc[self.date] = allocation_in_residuals.flatten()\n",
    "        self.asset_alloc.loc[self.date] = self.new_alloc_total.flatten()\n",
    "\n",
    "        # prepare the next observation, the new returns were already calulated in res_rets_step\n",
    "        observation = self._get_next_obs()\n",
    "\n",
    "        # calculate the new residual portfolio weights at time t\n",
    "        self.res_portf, self.active_stocks  = self.res_gen(self.data.iloc[self.t - self.lbw: self.t+1],\n",
    "                                                    amount_of_factors=5,\n",
    "                                                    loadings_window_size=self.sig_win)\n",
    "\n",
    "        if self.t % self.ep_N == 0:\n",
    "            done = True\n",
    "        else:\n",
    "            done = False\n",
    "        info = {}\n",
    "        return observation, reward, done, info"
   ]
  },
  {
   "cell_type": "code",
   "execution_count": 156,
   "metadata": {},
   "outputs": [],
   "source": [
    "env = TradingEnvironment(financial_dataset=price_df,\n",
    "                        residual_generator=pca_res_gen,\n",
    "                        signal_generator=fourier_signal_extractor,\n",
    "                        episode_length=100,\n",
    "                        lookback_window=252,\n",
    "                        signal_window=60,\n",
    "                        transaction_costs=0.0,\n",
    "                        short_cost=0.0)"
   ]
  },
  {
   "cell_type": "code",
   "execution_count": 157,
   "metadata": {},
   "outputs": [
    {
     "name": "stderr",
     "output_type": "stream",
     "text": [
      "  0%|          | 0/1 [00:00<?, ?it/s]"
     ]
    },
    {
     "name": "stderr",
     "output_type": "stream",
     "text": [
      "100%|██████████| 1/1 [00:00<00:00,  7.85it/s]\n"
     ]
    },
    {
     "data": {
      "text/plain": [
       "strategy   -0.000025\n",
       "Name: 1997-03-31 00:00:00, dtype: object"
      ]
     },
     "execution_count": 157,
     "metadata": {},
     "output_type": "execute_result"
    }
   ],
   "source": [
    "from tqdm import tqdm\n",
    "for _ in tqdm(range(1)):\n",
    "    n = sum(env.active_stocks)\n",
    "    #obs, rew, d, inf = env.step(np.random.uniform(-1,1,(n,1)))\n",
    "    obs, rew, d, inf = env.step(np.ones((n,1)))\n",
    "env.total_pl.loc[env.date]"
   ]
  },
  {
   "cell_type": "code",
   "execution_count": 161,
   "metadata": {},
   "outputs": [
    {
     "data": {
      "text/plain": [
       "array([0., 0., 0., 0., 0., 0., 0., 0., 0., 0., 0., 0., 0., 0., 0., 0., 0.,\n",
       "       0., 0., 0., 0., 0., 0., 0., 0., 0., 0., 0., 0., 0., 0., 0., 0., 0.,\n",
       "       0., 0., 0., 0., 0., 0., 0., 0., 0., 0., 0., 0., 0., 0., 0., 0., 0.,\n",
       "       0., 0., 0., 0., 0., 0., 0., 0., 0., 0., 0., 0., 0., 0., 0., 0., 0.,\n",
       "       0., 0., 0., 0., 0., 0., 0., 0., 0., 0., 0., 0., 0., 0., 0., 0., 0.,\n",
       "       0., 0., 0., 0., 0., 0., 0., 0., 0., 0., 0., 0., 0., 0., 0., 0., 0.,\n",
       "       0., 0., 0., 0., 0., 0., 0., 0., 0., 0., 0., 0., 0., 0., 0., 0., 0.,\n",
       "       0., 0., 0., 0., 0., 0., 0., 0., 0., 0., 0., 0., 0., 0., 0., 0., 0.,\n",
       "       0., 0., 0., 0., 0., 0., 0., 0., 0., 0., 0., 0., 0., 0., 0., 0., 0.,\n",
       "       0., 0., 0., 0., 0., 0., 0., 0., 0., 0., 0., 0., 0., 0., 0., 0., 0.,\n",
       "       0., 0., 0., 0., 0., 0., 0., 0., 0., 0., 0., 0., 0., 0., 0., 0., 0.,\n",
       "       0., 0., 0., 0., 0., 0., 0., 0., 0., 0., 0., 0., 0., 0., 0., 0., 0.,\n",
       "       0., 0., 0., 0., 0., 0., 0., 0., 0., 0., 0., 0., 0., 0.])"
      ]
     },
     "execution_count": 161,
     "metadata": {},
     "output_type": "execute_result"
    }
   ],
   "source": [
    "obs[:,31] #TODO fix dit probleem"
   ]
  },
  {
   "cell_type": "code",
   "execution_count": 164,
   "metadata": {},
   "outputs": [
    {
     "data": {
      "text/plain": [
       "array([0., 0., 0., 0., 0., 0., 0., 0., 0., 0., 0., 0., 0., 0., 0., 0., 0.,\n",
       "       0., 0., 0., 0., 0., 0., 0., 0., 0., 0., 0., 0., 0., 0., 0., 0., 0.,\n",
       "       0., 0., 0., 0., 0., 0., 0., 0., 0., 0., 0., 0., 0., 0., 0., 0., 0.,\n",
       "       0., 0., 0., 0., 0., 0., 0., 0., 0., 0., 0., 0., 0., 0., 0., 0., 0.,\n",
       "       0., 0., 0., 0., 0., 0., 0., 0., 0., 0., 0., 0., 0., 0., 0., 0., 0.,\n",
       "       0., 0., 0., 0., 0., 0., 0., 0., 0., 0., 0., 0., 0., 0., 0., 0., 0.,\n",
       "       0., 0., 0., 0., 0., 0., 0., 0., 0., 0., 0., 0., 0., 0., 0., 0., 0.,\n",
       "       0., 0., 0., 0., 0., 0., 0., 0., 0., 0., 0., 0., 0., 0., 0., 0., 0.,\n",
       "       0., 0., 0., 0., 0., 0., 0., 0., 0., 0., 0., 0., 0., 0., 0., 0., 0.,\n",
       "       0., 0., 0., 0., 0., 0., 0., 0., 0., 0., 0., 0., 0., 0., 0., 0., 0.,\n",
       "       0., 0., 0., 0., 0., 0., 0., 0., 0., 0., 0., 0., 0., 0., 0., 0., 0.,\n",
       "       0., 0., 0., 0., 0., 0., 0., 0., 0., 0., 0., 0., 0., 0., 0., 0., 0.,\n",
       "       0., 0., 0., 0., 0., 0., 0., 0., 0., 0., 0., 0., 0., 0.])"
      ]
     },
     "execution_count": 164,
     "metadata": {},
     "output_type": "execute_result"
    }
   ],
   "source": [
    "obs[:,61]"
   ]
  },
  {
   "cell_type": "code",
   "execution_count": null,
   "metadata": {},
   "outputs": [],
   "source": [
    "env.date"
   ]
  },
  {
   "cell_type": "code",
   "execution_count": 119,
   "metadata": {},
   "outputs": [
    {
     "data": {
      "text/plain": [
       "date\n",
       "2017-10-13    58.74\n",
       "2017-10-16    58.92\n",
       "2017-10-17    58.61\n",
       "2017-10-18    57.47\n",
       "2017-10-19    54.17\n",
       "              ...  \n",
       "2023-10-12    15.49\n",
       "2023-10-13    14.86\n",
       "2023-10-16    14.96\n",
       "2023-10-17    15.14\n",
       "2023-10-18    14.32\n",
       "Name: NCLH, Length: 1513, dtype: float64"
      ]
     },
     "execution_count": 119,
     "metadata": {},
     "output_type": "execute_result"
    }
   ],
   "source": [
    "price_df[env.res_rets.columns[num]].dropna()"
   ]
  },
  {
   "cell_type": "code",
   "execution_count": 123,
   "metadata": {},
   "outputs": [
    {
     "data": {
      "text/plain": [
       "Text(0.5, 1.0, 'ANDW')"
      ]
     },
     "execution_count": 123,
     "metadata": {},
     "output_type": "execute_result"
    },
    {
     "data": {
      "image/png": "[encoded data removed]",
      "text/plain": [
       "<Figure size 640x480 with 1 Axes>"
      ]
     },
     "metadata": {},
     "output_type": "display_data"
    }
   ],
   "source": [
    "num = 904\n",
    "plt.plot((env.res_rets[env.res_rets.columns[num]].dropna() +1).cumprod())\n",
    "plt.title(env.res_rets.columns[num])"
   ]
  },
  {
   "cell_type": "code",
   "execution_count": 118,
   "metadata": {},
   "outputs": [
    {
     "data": {
      "text/plain": [
       "[<matplotlib.lines.Line2D at 0x7faef618aac0>]"
      ]
     },
     "execution_count": 118,
     "metadata": {},
     "output_type": "execute_result"
    },
    {
     "data": {
      "image/png": "[encoded data removed]",
      "text/plain": [
       "<Figure size 640x480 with 1 Axes>"
      ]
     },
     "metadata": {},
     "output_type": "display_data"
    }
   ],
   "source": [
    "plt.plot((env.total_pl.dropna() + 1).cumprod())"
   ]
  },
  {
   "cell_type": "code",
   "execution_count": null,
   "metadata": {},
   "outputs": [],
   "source": [
    "env.tradable_ticker"
   ]
  }
 ],
 "metadata": {
  "kernelspec": {
   "display_name": "deep_learning",
   "language": "python",
   "name": "python3"
  },
  "language_info": {
   "codemirror_mode": {
    "name": "ipython",
    "version": 3
   },
   "file_extension": ".py",
   "mimetype": "text/x-python",
   "name": "python",
   "nbconvert_exporter": "python",
   "pygments_lexer": "ipython3",
   "version": "3.8.15"
  }
 },
 "nbformat": 4,
 "nbformat_minor": 2
}
