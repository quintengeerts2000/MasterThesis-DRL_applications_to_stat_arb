{
 "cells": [
  {
   "cell_type": "markdown",
   "metadata": {},
   "source": [
    "# Residual creation\n",
    "In this notebook I will work on creating the residual portfolios based on the historical price dataset."
   ]
  },
  {
   "cell_type": "code",
   "execution_count": 1,
   "metadata": {},
   "outputs": [],
   "source": [
    "import pandas as pd\n",
    "import datetime as dt\n",
    "import numpy as np\n",
    "from numpy.linalg import eig, norm\n",
    "from sklearn.linear_model import LinearRegression\n",
    "import matplotlib.pyplot as plt\n",
    "import time"
   ]
  },
  {
   "cell_type": "code",
   "execution_count": 2,
   "metadata": {},
   "outputs": [],
   "source": [
    "import os\n",
    "filename = 'price_df.csv'\n",
    "if os.path.exists(filename):\n",
    "    price_df = pd.read_csv(filename)\n",
    "    price_df = price_df.rename(columns={'Unnamed: 0':'date'})\n",
    "    price_df.set_index('date', inplace=True)\n",
    "    price_df.index = pd.to_datetime(price_df.index)\n",
    "\n",
    "returns = price_df.pct_change(1,fill_method=None)"
   ]
  },
  {
   "cell_type": "code",
   "execution_count": 3,
   "metadata": {},
   "outputs": [],
   "source": [
    "from tqdm import tqdm \n",
    "def pca(returns:pd.DataFrame, res_cov_window_size:int = 252, loadings_window_size:int=60, amount_of_factors:int=5):\n",
    "    '''\n",
    "    Function that computes the percentage returns of a residual portfolio constructed using pca\n",
    "    Also with the weights needed to construct all these portfolio's\n",
    "    \n",
    "    Residual_output  is a T x N matrix \n",
    "    Residual_portfolio is a T x N x N matrix where e.g res_portf[t,i, :] gives you the vector \n",
    "    with all the weights you need to construct the residual portfolio i at timestep t\n",
    "    Recovering phi from residual portfolio can be done by slicing as follows res_portf[t,:,:]\n",
    "    '''\n",
    "    T, N                = returns.shape\n",
    "    returns             = returns.to_numpy()\n",
    "    residuals_output    = np.zeros((T, N), dtype=float)    \n",
    "    residual_portfolio  = np.zeros((T, N, N), dtype=float)\n",
    "    for t in tqdm(range(res_cov_window_size+1,len(returns))):\n",
    "        # only use the columns with no missing values\n",
    "        idxsSelected = ~np.any(np.isnan(returns[(t - res_cov_window_size+1):t]), axis = 0).ravel()   \n",
    "        if idxsSelected.sum() == 0:\n",
    "            continue\n",
    "        #calculate covariance\n",
    "        res_cov_window = returns[(t - res_cov_window_size+1):t,idxsSelected]\n",
    "        R_oos           = returns[((t+1) - res_cov_window_size+1):(t+1),idxsSelected] #TODO: adj for bias, original returns[(t - res_cov_window_size+1):(t+1),idxsSelected]\n",
    "        res_mean = np.mean(res_cov_window,axis=0,keepdims=True)\n",
    "        res_vol = np.sqrt(np.mean((res_cov_window-res_mean)**2,axis=0,keepdims=True))\n",
    "        res_normalized = (res_cov_window - res_mean) / res_vol\n",
    "        Corr = np.dot(res_normalized.T, res_normalized)\n",
    "        eigenValues, eigenVectors = np.linalg.eigh(Corr)\n",
    "\n",
    "        #calculate loadings\n",
    "        w           = eigenVectors[:,-amount_of_factors:].real                      # w\n",
    "        R           = res_cov_window[-loadings_window_size:,:]\n",
    "        wtR         = res_cov_window[-loadings_window_size:,:] @ w                  # R * w \n",
    "        regr        = LinearRegression(fit_intercept=False, n_jobs=-1).fit(wtR,R)\n",
    "        beta        = regr.coef_                                                    #beta\n",
    "        phi         = (np.eye(beta.shape[0]) - beta @ w.T)\n",
    "        #TODO: is ther somethign wrong with the returns they use here??\n",
    "        residuals   = phi @ R_oos[-1,:].T\n",
    "        residuals_output[t:(t+1),idxsSelected]                = residuals\n",
    "        i = 0\n",
    "        for idx, val in enumerate(idxsSelected):\n",
    "            if val:  \n",
    "                residual_portfolio[t:(t+1),idx,idxsSelected] = phi[i,:].reshape([1,-1])\n",
    "                i += 1  \n",
    "    return residuals_output, residual_portfolio"
   ]
  },
  {
   "cell_type": "code",
   "execution_count": 4,
   "metadata": {},
   "outputs": [
    {
     "name": "stderr",
     "output_type": "stream",
     "text": [
      " 88%|████████▊ | 5976/6796 [04:29<01:11, 11.48it/s]"
     ]
    },
    {
     "ename": "",
     "evalue": "",
     "output_type": "error",
     "traceback": [
      "\u001b[1;31mThe Kernel crashed while executing code in the the current cell or a previous cell. Please review the code in the cell(s) to identify a possible cause of the failure. Click <a href='https://aka.ms/vscodeJupyterKernelCrash'>here</a> for more info. View Jupyter <a href='command:jupyter.viewOutput'>log</a> for further details."
     ]
    }
   ],
   "source": [
    "res_out, res_portf = pca(returns.loc[dt.datetime(1996,1,1):])"
   ]
  },
  {
   "cell_type": "code",
   "execution_count": null,
   "metadata": {},
   "outputs": [],
   "source": []
  }
 ],
 "metadata": {
  "kernelspec": {
   "display_name": "deep_learning",
   "language": "python",
   "name": "python3"
  },
  "language_info": {
   "codemirror_mode": {
    "name": "ipython",
    "version": 3
   },
   "file_extension": ".py",
   "mimetype": "text/x-python",
   "name": "python",
   "nbconvert_exporter": "python",
   "pygments_lexer": "ipython3",
   "version": "3.8.15"
  }
 },
 "nbformat": 4,
 "nbformat_minor": 2
}
