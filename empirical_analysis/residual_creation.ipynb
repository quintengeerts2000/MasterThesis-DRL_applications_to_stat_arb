{
 "cells": [
  {
   "cell_type": "markdown",
   "metadata": {},
   "source": [
    "# Residual creation\n",
    "In this notebook I will work on creating the residual portfolios based on the historical price dataset."
   ]
  },
  {
   "cell_type": "code",
   "execution_count": 273,
   "metadata": {},
   "outputs": [],
   "source": [
    "import pandas as pd\n",
    "import datetime as dt\n",
    "import numpy as np\n",
    "from numpy.linalg import eig, norm\n",
    "from sklearn.linear_model import LinearRegression\n",
    "import matplotlib.pyplot as plt\n",
    "import time\n",
    "\n",
    "%reload_ext autoreload\n",
    "%autoreload 2"
   ]
  },
  {
   "cell_type": "code",
   "execution_count": null,
   "metadata": {},
   "outputs": [],
   "source": [
    "import os\n",
    "filename = 'price_df.csv'\n",
    "if os.path.exists(filename):\n",
    "    price_df = pd.read_csv(filename)\n",
    "    price_df = price_df.rename(columns={'Unnamed: 0':'date'})\n",
    "    price_df.set_index('date', inplace=True)\n",
    "    price_df.index = pd.to_datetime(price_df.index)\n",
    "\n",
    "returns = price_df.diff(1)"
   ]
  },
  {
   "cell_type": "code",
   "execution_count": null,
   "metadata": {},
   "outputs": [],
   "source": [
    "from tqdm import tqdm \n",
    "def pca(returns:pd.DataFrame, res_cov_window_size:int = 252, loadings_window_size:int=60, amount_of_factors:int=5):\n",
    "    '''\n",
    "    Function that computes the percentage returns of a residual portfolio constructed using pca\n",
    "    Also with the weights needed to construct all these portfolio's\n",
    "    \n",
    "    Residual_output  is a T x N matrix \n",
    "    Residual_portfolio is a T x N x N matrix where e.g res_portf[t,i, :] gives you the vector \n",
    "    with all the weights you need to construct the residual portfolio i at timestep t\n",
    "    Recovering phi from residual portfolio can be done by slicing as follows res_portf[t,:,:]\n",
    "    '''\n",
    "    T, N                = returns.shape\n",
    "    returns             = returns.to_numpy()\n",
    "    residuals_output    = np.zeros((T, N), dtype=float)    \n",
    "    residual_portfolio  = np.zeros((T, N, N), dtype=float)\n",
    "    for t in tqdm(range(res_cov_window_size+1,len(returns))):\n",
    "        # only use the columns with no missing values\n",
    "        idxsSelected = ~np.any(np.isnan(returns[(t - res_cov_window_size+1):t]), axis = 0).ravel()   \n",
    "        if idxsSelected.sum() == 0:\n",
    "            continue\n",
    "        #calculate covariance\n",
    "        res_cov_window = returns[(t - res_cov_window_size+1):t,idxsSelected]\n",
    "        R_oos           = returns[((t+1) - res_cov_window_size+1):(t+1),idxsSelected] #TODO: adj for bias, original returns[(t - res_cov_window_size+1):(t+1),idxsSelected]\n",
    "        res_mean = np.mean(res_cov_window,axis=0,keepdims=True)\n",
    "        res_vol = np.sqrt(np.mean((res_cov_window-res_mean)**2,axis=0,keepdims=True))\n",
    "        res_normalized = (res_cov_window - res_mean) / res_vol\n",
    "        Corr = np.dot(res_normalized.T, res_normalized)\n",
    "        eigenValues, eigenVectors = np.linalg.eigh(Corr)\n",
    "\n",
    "        #calculate loadings\n",
    "        w           = eigenVectors[:,-amount_of_factors:].real                      # w\n",
    "        R           = res_cov_window[-loadings_window_size:,:]\n",
    "        wtR         = res_cov_window[-loadings_window_size:,:] @ w                  # R * w \n",
    "        regr        = LinearRegression(fit_intercept=False, n_jobs=-1).fit(wtR,R)\n",
    "        beta        = regr.coef_                                                    #beta\n",
    "        phi         = (np.eye(beta.shape[0]) - beta @ w.T)\n",
    "        #TODO: is ther somethign wrong with the returns they use here??\n",
    "        residuals   = phi @ R_oos[-1,:].T\n",
    "        residuals_output[t:(t+1),idxsSelected]                = residuals\n",
    "        i = 0\n",
    "        for idx, val in enumerate(idxsSelected):\n",
    "            if val:  \n",
    "                residual_portfolio[t:(t+1),idx,idxsSelected] = phi[i,:].reshape([1,-1])\n",
    "                i += 1  \n",
    "    return residuals_output, residual_portfolio"
   ]
  },
  {
   "cell_type": "code",
   "execution_count": null,
   "metadata": {},
   "outputs": [],
   "source": [
    "res_out, res_portf = pca(returns.loc[dt.datetime(2010,1,1):dt.datetime(2014,1,2)])"
   ]
  },
  {
   "cell_type": "code",
   "execution_count": null,
   "metadata": {},
   "outputs": [],
   "source": [
    "res_out, _ = pca(returns.loc[dt.datetime(2010,1,1):dt.datetime(2012,1,2)])\n",
    "test1      = pd.DataFrame(res_out, index = returns.loc[dt.datetime(2010,1,1):dt.datetime(2012,1,2)].index, columns=returns.columns)"
   ]
  },
  {
   "cell_type": "code",
   "execution_count": null,
   "metadata": {},
   "outputs": [],
   "source": [
    "res_out, _ = pca(returns.loc[dt.datetime(2010,1,1)+dt.timedelta(days=100):dt.datetime(2012,1,2)+dt.timedelta(days=100)])\n",
    "test2      = pd.DataFrame(res_out, index = returns.loc[dt.datetime(2010,1,1)+dt.timedelta(days=100):dt.datetime(2012,1,2)+dt.timedelta(days=100)].index,columns=returns.columns)"
   ]
  },
  {
   "cell_type": "code",
   "execution_count": null,
   "metadata": {},
   "outputs": [],
   "source": [
    "def preprocess_ou(data:np.array, lookback:int=60):\n",
    "    signal_length = 4\n",
    "    T,N = data.shape\n",
    "    cumsums = np.cumsum(data, axis=0)\n",
    "    windows = np.zeros((T-lookback, N, signal_length), dtype=np.float32)\n",
    "    idxs_selected = np.zeros((T-lookback,N), dtype=bool)\n",
    "    for t in range(lookback,T):\n",
    "        # chooses stocks which have no missing returns in the t-th lookback window\n",
    "        idxs_selected[t-lookback,:] = ~np.any(data[(t-lookback):t,:] == 0, axis=0).ravel() \n",
    "        idxs = idxs_selected[t-lookback,:]\n",
    "        if t == lookback:\n",
    "            x = cumsums[t-lookback:t,idxs].T\n",
    "        else:\n",
    "            # Probably unnecessary given the conv normalization, but is just to have the same setting as in the OU case\n",
    "            x = cumsums[t-lookback:t,idxs].T - cumsums[t-lookback-1,idxs].reshape(int(sum(idxs)),1)\n",
    "        Nx,Tx = x.shape\n",
    "        #TODO: Is this where we make sure we dont have any look ahead bias?\n",
    "        Ys = x[:,1:] #(N,T-1) \n",
    "        Xs = x[:,:-1]\n",
    "        meansX = np.mean(Xs,axis=1) #(N)\n",
    "        meansY = np.mean(Ys,axis=1)\n",
    "        VarsX = np.var(Xs,axis=1) #N\n",
    "        VarsY = np.var(Ys,axis=1)\n",
    "        Covs = np.mean((Xs-meansX.reshape((Nx,1)))*(Ys-meansY.reshape((Nx,1))),axis=1) #N\n",
    "        R2 = Covs**2/(VarsX*VarsY) #N\n",
    "        bs = Covs/VarsX #N\n",
    "        cs = (meansY - bs*meansX)\n",
    "        mus = (cs/(1-bs+0.000001))\n",
    "        mask = ((bs > 0) * (bs < 1))\n",
    "        #kappas = -np.log(bs)/Deltat #if bs betwen 0 and 1\n",
    "        residuals = Ys - bs.reshape((Nx,1))*Xs - cs.reshape((Nx,1)) #(N,T-1)\n",
    "        sigmas = np.sqrt(np.var(residuals, axis=1)/np.abs(1-bs**2+0.000001)) #N\n",
    "        signal = np.zeros((Nx))\n",
    "        #signal =  (mus - Ys[:,-1])/sigmas * mask \n",
    "        signal[mask] = (mus[mask] - Ys[:,-1][mask])/sigmas[mask]\n",
    "        windows[t-lookback,idxs,0] = Ys[:,-1]\n",
    "        windows[t-lookback,idxs,1] = mus\n",
    "        windows[t-lookback,idxs,2] = sigmas\n",
    "        windows[t-lookback,idxs,3] = R2\n",
    "\n",
    "        idxs_selected[t-lookback,idxs] = idxs_selected[t-lookback,idxs] & mask\n",
    "        \n",
    "    idxs_selected = torch.as_tensor(idxs_selected)\n",
    "    return windows, idxs_selected"
   ]
  }
 ],
 "metadata": {
  "kernelspec": {
   "display_name": "deep_learning",
   "language": "python",
   "name": "python3"
  },
  "language_info": {
   "codemirror_mode": {
    "name": "ipython",
    "version": 3
   },
   "file_extension": ".py",
   "mimetype": "text/x-python",
   "name": "python",
   "nbconvert_exporter": "python",
   "pygments_lexer": "ipython3",
   "version": "3.8.15"
  }
 },
 "nbformat": 4,
 "nbformat_minor": 2
}
