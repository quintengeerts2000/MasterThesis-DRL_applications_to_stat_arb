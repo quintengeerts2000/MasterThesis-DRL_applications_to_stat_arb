{
 "cells": [
  {
   "cell_type": "markdown",
   "metadata": {},
   "source": [
    "# Numerical tests"
   ]
  },
  {
   "cell_type": "code",
   "execution_count": 10,
   "metadata": {},
   "outputs": [],
   "source": [
    "import numpy as np\n",
    "from scipy.linalg import eig, inv, cholesky\n",
    "from OU_simulation import *\n",
    "from Policy_Gradient_agent import *\n",
    "from TD3 import *\n",
    "import matplotlib.pyplot as plt\n",
    "from tqdm import tqdm\n",
    "from scipy.integrate import odeint\n",
    "%reload_ext autoreload\n",
    "%autoreload 2"
   ]
  },
  {
   "cell_type": "code",
   "execution_count": 19,
   "metadata": {},
   "outputs": [
    {
     "name": "stdout",
     "output_type": "stream",
     "text": [
      "Using  cpu\n"
     ]
    },
    {
     "name": "stderr",
     "output_type": "stream",
     "text": [
      "/opt/anaconda3/envs/deep_learning/lib/python3.8/site-packages/gym/core.py:256: DeprecationWarning: \u001b[33mWARN: Function `env.seed(seed)` is marked as deprecated and will be removed in the future. Please use `env.reset(seed=seed)` instead.\u001b[0m\n",
      "  deprecation(\n"
     ]
    },
    {
     "name": "stdout",
     "output_type": "stream",
     "text": [
      "Episode 1\tFrame 999 \tAverage Score: -0.75Using  cpu\n",
      "Episode 1\tFrame 999 \tAverage Score: 0.61cpu\n",
      "Episode 1\tFrame 998 \tAverage Score: 0.03"
     ]
    }
   ],
   "source": [
    "import pickle\n",
    "from QR_DQN import RQ_DQN_train\n",
    "from MDQN   import MDQN_train\n",
    "from TD3    import TD3_train\n",
    "\n",
    "timesteps = 1000\n",
    "\n",
    "N = 1       # assets\n",
    "L = 1000    # timesteps \n",
    "T = 40      # final time T\n",
    "\n",
    "r = 0.0\n",
    "p  = np.ones((N,1)) #simplification in this model the asset prices themselves are assumed to be mean reverting\n",
    "tc = 0.0\n",
    "\n",
    "process = OU_process_shuffler(N,T,L)\n",
    "env = TradingEnvironment(process,T,r,p,mode='portfolio', max_pi=1, max_change=1,initial_wealth=0, transaction_costs=tc)\n",
    "\n",
    "perf_RQ_DQN = list()\n",
    "perf_MDQN = list()\n",
    "perf_TD3 = list()\n",
    "\n",
    "for test in range(1): \n",
    "    print(test)\n",
    "    agent_RQ_DQN, history_RQ_DQN = RQ_DQN_train(env, timesteps)\n",
    "    agent_MDQN, history_MDQN = MDQN_train(env,timesteps)\n",
    "    agent_TD3, history_TD3 = TD3_train(env, timesteps)\n",
    "    \n",
    "    perf_RQ_DQN.append(history_RQ_DQN)\n",
    "    perf_MDQN.append(history_MDQN)\n",
    "    perf_TD3.append(history_TD3)\n",
    "\n",
    "    dbfile = open('RQ_DQN', 'ab')\n",
    "    # source, destination\n",
    "    pickle.dump(perf_RQ_DQN, dbfile)                    \n",
    "    dbfile.close()\n",
    "\n",
    "    dbfile = open('MDQN', 'ab')\n",
    "    # source, destination\n",
    "    pickle.dump(perf_MDQN, dbfile)                    \n",
    "    dbfile.close()\n",
    "\n",
    "    dbfile = open('TD3', 'ab')\n",
    "    # source, destination\n",
    "    pickle.dump(perf_TD3, dbfile)                    \n",
    "    dbfile.close()"
   ]
  }
 ],
 "metadata": {
  "kernelspec": {
   "display_name": "deep_learning",
   "language": "python",
   "name": "python3"
  },
  "language_info": {
   "codemirror_mode": {
    "name": "ipython",
    "version": 3
   },
   "file_extension": ".py",
   "mimetype": "text/x-python",
   "name": "python",
   "nbconvert_exporter": "python",
   "pygments_lexer": "ipython3",
   "version": "3.8.15"
  }
 },
 "nbformat": 4,
 "nbformat_minor": 2
}
